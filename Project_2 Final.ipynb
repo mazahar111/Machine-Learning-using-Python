{
 "cells": [
  {
   "cell_type": "code",
   "execution_count": 54,
   "id": "078f4a25",
   "metadata": {},
   "outputs": [],
   "source": [
    "from pathlib import Path\n",
    "\n",
    "import math\n",
    "import pandas as pd\n",
    "import numpy as np \n",
    "from sklearn.model_selection import train_test_split\n",
    "from sklearn.metrics import accuracy_score, roc_curve, auc\n",
    "from sklearn.tree import DecisionTreeClassifier, DecisionTreeRegressor\n",
    "from sklearn.naive_bayes import MultinomialNB\n",
    "from sklearn.model_selection import train_test_split\n",
    "from sklearn.impute import SimpleImputer\n",
    "from sklearn.tree import DecisionTreeClassifier, DecisionTreeRegressor\n",
    "from sklearn.linear_model import LogisticRegression, LogisticRegressionCV\n",
    "from sklearn.metrics import confusion_matrix\n",
    "\n",
    "import statsmodels.formula.api as sm\n",
    "import matplotlib.pylab as plt\n",
    "import datetime as dt\n",
    "import seaborn as sns\n",
    "import statsmodels.api as sm\n",
    "import os\n",
    "\n",
    "\n",
    "from dmba import regressionSummary, classificationSummary,gainsChart, liftChart\n",
    "from dmba import liftChart, gainsChart\n",
    "from dmba import backward_elimination, forward_selection, stepwise_selection\n",
    "from dmba import adjusted_r2_score, AIC_score, BIC_score\n",
    "from IPython.display import Image  \n",
    "from dmba import plotDecisionTree, classificationSummary, regressionSummary\n",
    "from sklearn.tree import export_graphviz\n",
    "from six import StringIO \n",
    "import pydotplus\n",
    "import graphviz\n",
    "from sklearn import metrics\n",
    "\n"
   ]
  },
  {
   "cell_type": "code",
   "execution_count": 2,
   "id": "b732d0f4",
   "metadata": {},
   "outputs": [],
   "source": [
    "os.environ['PATH'] = os.environ['PATH']+';'+os.environ['CONDA_PREFIX']+r\"\\Library\\bin\\graphviz\""
   ]
  },
  {
   "cell_type": "code",
   "execution_count": 3,
   "id": "d18987a6",
   "metadata": {},
   "outputs": [
    {
     "name": "stdout",
     "output_type": "stream",
     "text": [
      "Requirement already satisfied: graphviz in c:\\users\\vamshi krishna\\anaconda3\\lib\\site-packages (0.20)\n",
      "Requirement already satisfied: pydotplus in c:\\users\\vamshi krishna\\anaconda3\\lib\\site-packages (2.0.2)\n",
      "Requirement already satisfied: pyparsing>=2.0.1 in c:\\users\\vamshi krishna\\anaconda3\\lib\\site-packages (from pydotplus) (3.0.4)\n"
     ]
    }
   ],
   "source": [
    "!pip install graphviz\n",
    "!pip install pydotplus"
   ]
  },
  {
   "cell_type": "code",
   "execution_count": 99,
   "id": "0acad89f",
   "metadata": {},
   "outputs": [
    {
     "data": {
      "text/html": [
       "<div>\n",
       "<style scoped>\n",
       "    .dataframe tbody tr th:only-of-type {\n",
       "        vertical-align: middle;\n",
       "    }\n",
       "\n",
       "    .dataframe tbody tr th {\n",
       "        vertical-align: top;\n",
       "    }\n",
       "\n",
       "    .dataframe thead th {\n",
       "        text-align: right;\n",
       "    }\n",
       "</style>\n",
       "<table border=\"1\" class=\"dataframe\">\n",
       "  <thead>\n",
       "    <tr style=\"text-align: right;\">\n",
       "      <th></th>\n",
       "      <th>CRS_DEP_TIME</th>\n",
       "      <th>CARRIER</th>\n",
       "      <th>DEP_TIME</th>\n",
       "      <th>DEST</th>\n",
       "      <th>DISTANCE</th>\n",
       "      <th>FL_DATE</th>\n",
       "      <th>FL_NUM</th>\n",
       "      <th>ORIGIN</th>\n",
       "      <th>Weather</th>\n",
       "      <th>DAY_WEEK</th>\n",
       "      <th>DAY_OF_MONTH</th>\n",
       "      <th>TAIL_NUM</th>\n",
       "      <th>Flight Status</th>\n",
       "    </tr>\n",
       "  </thead>\n",
       "  <tbody>\n",
       "    <tr>\n",
       "      <th>0</th>\n",
       "      <td>1455</td>\n",
       "      <td>OH</td>\n",
       "      <td>1455</td>\n",
       "      <td>JFK</td>\n",
       "      <td>184</td>\n",
       "      <td>37987</td>\n",
       "      <td>5935</td>\n",
       "      <td>BWI</td>\n",
       "      <td>0</td>\n",
       "      <td>4</td>\n",
       "      <td>1</td>\n",
       "      <td>N940CA</td>\n",
       "      <td>ontime</td>\n",
       "    </tr>\n",
       "    <tr>\n",
       "      <th>1</th>\n",
       "      <td>1640</td>\n",
       "      <td>DH</td>\n",
       "      <td>1640</td>\n",
       "      <td>JFK</td>\n",
       "      <td>213</td>\n",
       "      <td>2004-01-01</td>\n",
       "      <td>6155</td>\n",
       "      <td>DCA</td>\n",
       "      <td>0</td>\n",
       "      <td>4</td>\n",
       "      <td>1</td>\n",
       "      <td>N405FJ</td>\n",
       "      <td>ontime</td>\n",
       "    </tr>\n",
       "    <tr>\n",
       "      <th>2</th>\n",
       "      <td>1245</td>\n",
       "      <td>DH</td>\n",
       "      <td>1245</td>\n",
       "      <td>LGA</td>\n",
       "      <td>229</td>\n",
       "      <td>2004-01-01</td>\n",
       "      <td>7208</td>\n",
       "      <td>IAD</td>\n",
       "      <td>0</td>\n",
       "      <td>4</td>\n",
       "      <td>1</td>\n",
       "      <td>N695BR</td>\n",
       "      <td>ontime</td>\n",
       "    </tr>\n",
       "    <tr>\n",
       "      <th>3</th>\n",
       "      <td>1715</td>\n",
       "      <td>DH</td>\n",
       "      <td>1709</td>\n",
       "      <td>LGA</td>\n",
       "      <td>229</td>\n",
       "      <td>2004-01-01</td>\n",
       "      <td>7215</td>\n",
       "      <td>IAD</td>\n",
       "      <td>0</td>\n",
       "      <td>4</td>\n",
       "      <td>1</td>\n",
       "      <td>N662BR</td>\n",
       "      <td>ontime</td>\n",
       "    </tr>\n",
       "    <tr>\n",
       "      <th>4</th>\n",
       "      <td>1039</td>\n",
       "      <td>DH</td>\n",
       "      <td>1035</td>\n",
       "      <td>LGA</td>\n",
       "      <td>229</td>\n",
       "      <td>2004-01-01</td>\n",
       "      <td>7792</td>\n",
       "      <td>IAD</td>\n",
       "      <td>0</td>\n",
       "      <td>4</td>\n",
       "      <td>1</td>\n",
       "      <td>N698BR</td>\n",
       "      <td>ontime</td>\n",
       "    </tr>\n",
       "  </tbody>\n",
       "</table>\n",
       "</div>"
      ],
      "text/plain": [
       "   CRS_DEP_TIME CARRIER  DEP_TIME DEST  DISTANCE     FL_DATE  FL_NUM ORIGIN  \\\n",
       "0          1455      OH      1455  JFK       184       37987    5935    BWI   \n",
       "1          1640      DH      1640  JFK       213  2004-01-01    6155    DCA   \n",
       "2          1245      DH      1245  LGA       229  2004-01-01    7208    IAD   \n",
       "3          1715      DH      1709  LGA       229  2004-01-01    7215    IAD   \n",
       "4          1039      DH      1035  LGA       229  2004-01-01    7792    IAD   \n",
       "\n",
       "   Weather  DAY_WEEK  DAY_OF_MONTH TAIL_NUM Flight Status  \n",
       "0        0         4             1   N940CA        ontime  \n",
       "1        0         4             1   N405FJ        ontime  \n",
       "2        0         4             1   N695BR        ontime  \n",
       "3        0         4             1   N662BR        ontime  \n",
       "4        0         4             1   N698BR        ontime  "
      ]
     },
     "execution_count": 99,
     "metadata": {},
     "output_type": "execute_result"
    }
   ],
   "source": [
    "train_df = pd.read_csv('FlightDelays.csv')\n",
    "train_df.head()"
   ]
  },
  {
   "cell_type": "code",
   "execution_count": 5,
   "id": "edd84a2e",
   "metadata": {},
   "outputs": [],
   "source": [
    "train_df.to_csv('FlightDelaysTrainingData.csv',index= False)\n",
    "train_df.to_csv('FlightDelaysExploration.csv',index= False)"
   ]
  },
  {
   "cell_type": "markdown",
   "id": "7d5b5f3b",
   "metadata": {},
   "source": [
    "## Dimension Reduction "
   ]
  },
  {
   "cell_type": "code",
   "execution_count": 9,
   "id": "12e1f9f9",
   "metadata": {},
   "outputs": [],
   "source": [
    "columns = ['CRS_DEP_TIME', 'DEP_TIME','DAY_WEEK', 'DISTANCE','Weather']\n",
    "\n",
    "\n",
    "df_Predictors = pd.get_dummies(train_df[columns], drop_first=True)"
   ]
  },
  {
   "cell_type": "code",
   "execution_count": 10,
   "id": "f75ccb5c",
   "metadata": {
    "scrolled": true
   },
   "outputs": [
    {
     "data": {
      "text/plain": [
       "(2201, 5)"
      ]
     },
     "execution_count": 10,
     "metadata": {},
     "output_type": "execute_result"
    }
   ],
   "source": [
    "df_Predictors.head()\n",
    "df_Predictors.shape"
   ]
  },
  {
   "cell_type": "code",
   "execution_count": 11,
   "id": "8065df31",
   "metadata": {},
   "outputs": [
    {
     "name": "stdout",
     "output_type": "stream",
     "text": [
      "      CRS_DEP_TIME  DEP_TIME  DAY_WEEK  DISTANCE   Weather\n",
      "0         0.191962  0.193691  0.049656 -2.092950 -0.121436\n",
      "1         0.619513  0.611805  0.049656  0.084748 -0.121436\n",
      "2        -0.293366 -0.280925  0.049656  1.286237 -0.121436\n",
      "3         0.792844  0.767751  0.049656  1.286237 -0.121436\n",
      "4        -0.769450 -0.755541  0.049656  1.286237 -0.121436\n",
      "...            ...       ...       ...       ...       ...\n",
      "2196     -1.680017 -1.639232  1.100546 -0.966554 -0.121436\n",
      "2197      0.758178  0.641186  1.100546  0.084748 -0.121436\n",
      "2198      0.527069  0.426479  1.100546 -0.966554 -0.121436\n",
      "2199     -0.029902  0.076167  1.100546 -0.966554 -0.121436\n",
      "2200      0.827510  0.828773  1.100546 -0.966554 -0.121436\n",
      "\n",
      "[2201 rows x 5 columns]\n"
     ]
    }
   ],
   "source": [
    "norm_df = (df_Predictors - df_Predictors.mean()) / df_Predictors.std()\n",
    "print(norm_df)"
   ]
  },
  {
   "cell_type": "code",
   "execution_count": 12,
   "id": "299ea1dc",
   "metadata": {},
   "outputs": [
    {
     "data": {
      "text/plain": [
       "<AxesSubplot:>"
      ]
     },
     "execution_count": 12,
     "metadata": {},
     "output_type": "execute_result"
    },
    {
     "data": {
      "image/png": "[encoded data removed]",
      "text/plain": [
       "<Figure size 432x288 with 2 Axes>"
      ]
     },
     "metadata": {
      "needs_background": "light"
     },
     "output_type": "display_data"
    }
   ],
   "source": [
    "corr = norm_df.corr()\n",
    "sns.heatmap(corr)"
   ]
  },
  {
   "cell_type": "code",
   "execution_count": 13,
   "id": "9363c122",
   "metadata": {},
   "outputs": [
    {
     "data": {
      "text/plain": [
       "<AxesSubplot:>"
      ]
     },
     "execution_count": 13,
     "metadata": {},
     "output_type": "execute_result"
    },
    {
     "data": {
      "image/png": "[encoded data removed]",
      "text/plain": [
       "<Figure size 792x504 with 2 Axes>"
      ]
     },
     "metadata": {
      "needs_background": "light"
     },
     "output_type": "display_data"
    }
   ],
   "source": [
    "fig, ax = plt.subplots()\n",
    "fig.set_size_inches(11, 7)\n",
    "sns.heatmap(corr, annot=True, fmt=\".1f\", cmap=\"RdBu\", center=0, ax=ax)"
   ]
  },
  {
   "cell_type": "markdown",
   "id": "b63eaf5b",
   "metadata": {},
   "source": [
    "## Data Exploration "
   ]
  },
  {
   "cell_type": "code",
   "execution_count": 14,
   "id": "7dae5a4c",
   "metadata": {},
   "outputs": [
    {
     "data": {
      "text/html": [
       "<div>\n",
       "<style scoped>\n",
       "    .dataframe tbody tr th:only-of-type {\n",
       "        vertical-align: middle;\n",
       "    }\n",
       "\n",
       "    .dataframe tbody tr th {\n",
       "        vertical-align: top;\n",
       "    }\n",
       "\n",
       "    .dataframe thead th {\n",
       "        text-align: right;\n",
       "    }\n",
       "</style>\n",
       "<table border=\"1\" class=\"dataframe\">\n",
       "  <thead>\n",
       "    <tr style=\"text-align: right;\">\n",
       "      <th></th>\n",
       "      <th>CRS_DEP_TIME</th>\n",
       "      <th>DEP_TIME</th>\n",
       "      <th>DISTANCE</th>\n",
       "      <th>FL_NUM</th>\n",
       "      <th>Weather</th>\n",
       "      <th>DAY_WEEK</th>\n",
       "      <th>DAY_OF_MONTH</th>\n",
       "    </tr>\n",
       "  </thead>\n",
       "  <tbody>\n",
       "    <tr>\n",
       "      <th>count</th>\n",
       "      <td>2201.000000</td>\n",
       "      <td>2201.000000</td>\n",
       "      <td>2201.000000</td>\n",
       "      <td>2201.000000</td>\n",
       "      <td>2201.000000</td>\n",
       "      <td>2201.000000</td>\n",
       "      <td>2201.000000</td>\n",
       "    </tr>\n",
       "    <tr>\n",
       "      <th>mean</th>\n",
       "      <td>1371.938664</td>\n",
       "      <td>1369.298955</td>\n",
       "      <td>211.871422</td>\n",
       "      <td>3815.086324</td>\n",
       "      <td>0.014539</td>\n",
       "      <td>3.905498</td>\n",
       "      <td>16.024989</td>\n",
       "    </tr>\n",
       "    <tr>\n",
       "      <th>std</th>\n",
       "      <td>432.697149</td>\n",
       "      <td>442.462754</td>\n",
       "      <td>13.316815</td>\n",
       "      <td>2409.750224</td>\n",
       "      <td>0.119725</td>\n",
       "      <td>1.903149</td>\n",
       "      <td>8.677390</td>\n",
       "    </tr>\n",
       "    <tr>\n",
       "      <th>min</th>\n",
       "      <td>600.000000</td>\n",
       "      <td>10.000000</td>\n",
       "      <td>169.000000</td>\n",
       "      <td>746.000000</td>\n",
       "      <td>0.000000</td>\n",
       "      <td>1.000000</td>\n",
       "      <td>1.000000</td>\n",
       "    </tr>\n",
       "    <tr>\n",
       "      <th>25%</th>\n",
       "      <td>1000.000000</td>\n",
       "      <td>1004.000000</td>\n",
       "      <td>213.000000</td>\n",
       "      <td>2156.000000</td>\n",
       "      <td>0.000000</td>\n",
       "      <td>2.000000</td>\n",
       "      <td>8.000000</td>\n",
       "    </tr>\n",
       "    <tr>\n",
       "      <th>50%</th>\n",
       "      <td>1455.000000</td>\n",
       "      <td>1450.000000</td>\n",
       "      <td>214.000000</td>\n",
       "      <td>2385.000000</td>\n",
       "      <td>0.000000</td>\n",
       "      <td>4.000000</td>\n",
       "      <td>16.000000</td>\n",
       "    </tr>\n",
       "    <tr>\n",
       "      <th>75%</th>\n",
       "      <td>1710.000000</td>\n",
       "      <td>1709.000000</td>\n",
       "      <td>214.000000</td>\n",
       "      <td>6155.000000</td>\n",
       "      <td>0.000000</td>\n",
       "      <td>5.000000</td>\n",
       "      <td>23.000000</td>\n",
       "    </tr>\n",
       "    <tr>\n",
       "      <th>max</th>\n",
       "      <td>2130.000000</td>\n",
       "      <td>2330.000000</td>\n",
       "      <td>229.000000</td>\n",
       "      <td>7924.000000</td>\n",
       "      <td>1.000000</td>\n",
       "      <td>7.000000</td>\n",
       "      <td>31.000000</td>\n",
       "    </tr>\n",
       "  </tbody>\n",
       "</table>\n",
       "</div>"
      ],
      "text/plain": [
       "       CRS_DEP_TIME     DEP_TIME     DISTANCE       FL_NUM      Weather  \\\n",
       "count   2201.000000  2201.000000  2201.000000  2201.000000  2201.000000   \n",
       "mean    1371.938664  1369.298955   211.871422  3815.086324     0.014539   \n",
       "std      432.697149   442.462754    13.316815  2409.750224     0.119725   \n",
       "min      600.000000    10.000000   169.000000   746.000000     0.000000   \n",
       "25%     1000.000000  1004.000000   213.000000  2156.000000     0.000000   \n",
       "50%     1455.000000  1450.000000   214.000000  2385.000000     0.000000   \n",
       "75%     1710.000000  1709.000000   214.000000  6155.000000     0.000000   \n",
       "max     2130.000000  2330.000000   229.000000  7924.000000     1.000000   \n",
       "\n",
       "          DAY_WEEK  DAY_OF_MONTH  \n",
       "count  2201.000000   2201.000000  \n",
       "mean      3.905498     16.024989  \n",
       "std       1.903149      8.677390  \n",
       "min       1.000000      1.000000  \n",
       "25%       2.000000      8.000000  \n",
       "50%       4.000000     16.000000  \n",
       "75%       5.000000     23.000000  \n",
       "max       7.000000     31.000000  "
      ]
     },
     "execution_count": 14,
     "metadata": {},
     "output_type": "execute_result"
    }
   ],
   "source": [
    "data_exploration = pd.read_csv('FlightDelaysExploration.csv')\n",
    "data_exploration.describe()"
   ]
  },
  {
   "cell_type": "code",
   "execution_count": 12,
   "id": "dbdb6e14",
   "metadata": {},
   "outputs": [
    {
     "data": {
      "text/plain": [
       "Text(0.5, 1.0, 'Number of Flights by day and  Status')"
      ]
     },
     "execution_count": 12,
     "metadata": {},
     "output_type": "execute_result"
    },
    {
     "data": {
      "image/png": "[encoded data removed]",
      "text/plain": [
       "<Figure size 432x288 with 1 Axes>"
      ]
     },
     "metadata": {
      "needs_background": "light"
     },
     "output_type": "display_data"
    }
   ],
   "source": [
    "day = []\n",
    "for row in data_exploration['DAY_WEEK']:\n",
    "        if row == 1 :    day.append('Monday')\n",
    "        elif row == 2:   day.append('Tuesday')\n",
    "        elif row == 3:   day.append('Wednesday')\n",
    "        elif row == 4:   day.append('Thursday')\n",
    "        elif row == 5:   day.append('Friday')\n",
    "        elif row == 6:   day.append('Saturday')\n",
    "        else :           day.append('Sunday')\n",
    "data_exploration['day']=day\n",
    "data_exploration\n",
    "pv1=data_exploration.groupby(['day'])['Flight Status'].value_counts()\n",
    "pv1\n",
    "\n",
    "ax = sns.countplot(x='day',data=data_exploration,hue='Flight Status',dodge=False)\n",
    "ax.set_title('Number of Flights by day and  Status')"
   ]
  },
  {
   "cell_type": "code",
   "execution_count": 13,
   "id": "27aaefd5",
   "metadata": {},
   "outputs": [
    {
     "data": {
      "text/plain": [
       "<BarContainer object of 3 artists>"
      ]
     },
     "execution_count": 13,
     "metadata": {},
     "output_type": "execute_result"
    },
    {
     "data": {
      "image/png": "[encoded data removed]",
      "text/plain": [
       "<Figure size 432x288 with 1 Axes>"
      ]
     },
     "metadata": {
      "needs_background": "light"
     },
     "output_type": "display_data"
    }
   ],
   "source": [
    "dest=data_exploration.DEST.value_counts()\n",
    "fig,ax = plt.subplots()\n",
    "ax.bar(dest.index, dest, color=['C5', 'C1'])"
   ]
  },
  {
   "cell_type": "code",
   "execution_count": 14,
   "id": "8d09d0ec",
   "metadata": {},
   "outputs": [
    {
     "data": {
      "text/plain": [
       "<BarContainer object of 3 artists>"
      ]
     },
     "execution_count": 14,
     "metadata": {},
     "output_type": "execute_result"
    },
    {
     "data": {
      "image/png": "[encoded data removed]",
      "text/plain": [
       "<Figure size 432x288 with 1 Axes>"
      ]
     },
     "metadata": {
      "needs_background": "light"
     },
     "output_type": "display_data"
    }
   ],
   "source": [
    "org = data_exploration.ORIGIN.value_counts()\n",
    "fig,ax = plt.subplots()\n",
    "ax.bar(org.index, org, color=['C5', 'C1'])"
   ]
  },
  {
   "cell_type": "code",
   "execution_count": 15,
   "id": "2ebe7a5f",
   "metadata": {},
   "outputs": [
    {
     "data": {
      "image/png": "[encoded data removed]",
      "text/plain": [
       "<Figure size 720x504 with 1 Axes>"
      ]
     },
     "metadata": {},
     "output_type": "display_data"
    }
   ],
   "source": [
    "Car=data_exploration.CARRIER.value_counts()\n",
    "fig = plt.figure(figsize =(10, 7))\n",
    "plt.pie(Car, labels =['DH','RU','US','DL','MQ','CO','UA','OH'] )\n",
    "plt.show()\n"
   ]
  },
  {
   "cell_type": "markdown",
   "id": "85915a30",
   "metadata": {},
   "source": [
    "## Naive Bayes Classifier"
   ]
  },
  {
   "cell_type": "code",
   "execution_count": 100,
   "id": "ca4e1a23",
   "metadata": {
    "scrolled": true
   },
   "outputs": [
    {
     "data": {
      "text/html": [
       "<div>\n",
       "<style scoped>\n",
       "    .dataframe tbody tr th:only-of-type {\n",
       "        vertical-align: middle;\n",
       "    }\n",
       "\n",
       "    .dataframe tbody tr th {\n",
       "        vertical-align: top;\n",
       "    }\n",
       "\n",
       "    .dataframe thead th {\n",
       "        text-align: right;\n",
       "    }\n",
       "</style>\n",
       "<table border=\"1\" class=\"dataframe\">\n",
       "  <thead>\n",
       "    <tr style=\"text-align: right;\">\n",
       "      <th></th>\n",
       "      <th>CRS_DEP_TIME</th>\n",
       "      <th>CARRIER</th>\n",
       "      <th>DEP_TIME</th>\n",
       "      <th>DEST</th>\n",
       "      <th>DISTANCE</th>\n",
       "      <th>FL_DATE</th>\n",
       "      <th>FL_NUM</th>\n",
       "      <th>ORIGIN</th>\n",
       "      <th>Weather</th>\n",
       "      <th>DAY_WEEK</th>\n",
       "      <th>DAY_OF_MONTH</th>\n",
       "      <th>TAIL_NUM</th>\n",
       "      <th>Flight Status</th>\n",
       "    </tr>\n",
       "  </thead>\n",
       "  <tbody>\n",
       "    <tr>\n",
       "      <th>0</th>\n",
       "      <td>1455</td>\n",
       "      <td>OH</td>\n",
       "      <td>1455</td>\n",
       "      <td>JFK</td>\n",
       "      <td>184</td>\n",
       "      <td>37987</td>\n",
       "      <td>5935</td>\n",
       "      <td>BWI</td>\n",
       "      <td>0</td>\n",
       "      <td>4</td>\n",
       "      <td>1</td>\n",
       "      <td>N940CA</td>\n",
       "      <td>ontime</td>\n",
       "    </tr>\n",
       "    <tr>\n",
       "      <th>1</th>\n",
       "      <td>1640</td>\n",
       "      <td>DH</td>\n",
       "      <td>1640</td>\n",
       "      <td>JFK</td>\n",
       "      <td>213</td>\n",
       "      <td>2004-01-01</td>\n",
       "      <td>6155</td>\n",
       "      <td>DCA</td>\n",
       "      <td>0</td>\n",
       "      <td>4</td>\n",
       "      <td>1</td>\n",
       "      <td>N405FJ</td>\n",
       "      <td>ontime</td>\n",
       "    </tr>\n",
       "    <tr>\n",
       "      <th>2</th>\n",
       "      <td>1245</td>\n",
       "      <td>DH</td>\n",
       "      <td>1245</td>\n",
       "      <td>LGA</td>\n",
       "      <td>229</td>\n",
       "      <td>2004-01-01</td>\n",
       "      <td>7208</td>\n",
       "      <td>IAD</td>\n",
       "      <td>0</td>\n",
       "      <td>4</td>\n",
       "      <td>1</td>\n",
       "      <td>N695BR</td>\n",
       "      <td>ontime</td>\n",
       "    </tr>\n",
       "    <tr>\n",
       "      <th>3</th>\n",
       "      <td>1715</td>\n",
       "      <td>DH</td>\n",
       "      <td>1709</td>\n",
       "      <td>LGA</td>\n",
       "      <td>229</td>\n",
       "      <td>2004-01-01</td>\n",
       "      <td>7215</td>\n",
       "      <td>IAD</td>\n",
       "      <td>0</td>\n",
       "      <td>4</td>\n",
       "      <td>1</td>\n",
       "      <td>N662BR</td>\n",
       "      <td>ontime</td>\n",
       "    </tr>\n",
       "    <tr>\n",
       "      <th>4</th>\n",
       "      <td>1039</td>\n",
       "      <td>DH</td>\n",
       "      <td>1035</td>\n",
       "      <td>LGA</td>\n",
       "      <td>229</td>\n",
       "      <td>2004-01-01</td>\n",
       "      <td>7792</td>\n",
       "      <td>IAD</td>\n",
       "      <td>0</td>\n",
       "      <td>4</td>\n",
       "      <td>1</td>\n",
       "      <td>N698BR</td>\n",
       "      <td>ontime</td>\n",
       "    </tr>\n",
       "  </tbody>\n",
       "</table>\n",
       "</div>"
      ],
      "text/plain": [
       "   CRS_DEP_TIME CARRIER  DEP_TIME DEST  DISTANCE     FL_DATE  FL_NUM ORIGIN  \\\n",
       "0          1455      OH      1455  JFK       184       37987    5935    BWI   \n",
       "1          1640      DH      1640  JFK       213  2004-01-01    6155    DCA   \n",
       "2          1245      DH      1245  LGA       229  2004-01-01    7208    IAD   \n",
       "3          1715      DH      1709  LGA       229  2004-01-01    7215    IAD   \n",
       "4          1039      DH      1035  LGA       229  2004-01-01    7792    IAD   \n",
       "\n",
       "   Weather  DAY_WEEK  DAY_OF_MONTH TAIL_NUM Flight Status  \n",
       "0        0         4             1   N940CA        ontime  \n",
       "1        0         4             1   N405FJ        ontime  \n",
       "2        0         4             1   N695BR        ontime  \n",
       "3        0         4             1   N662BR        ontime  \n",
       "4        0         4             1   N698BR        ontime  "
      ]
     },
     "execution_count": 100,
     "metadata": {},
     "output_type": "execute_result"
    }
   ],
   "source": [
    "logit_df=train_df.head()\n",
    "logit_df"
   ]
  },
  {
   "cell_type": "code",
   "execution_count": null,
   "id": "e42c51c9",
   "metadata": {},
   "outputs": [],
   "source": [
    "Predictors =['CRS_DEP_TIME', 'CARRIER','DEP_TIME','DEST','DAY_WEEK', 'DISTANCE','FL_NUM','ORIGIN']\n",
    "outcome =['Flight Status']\n"
   ]
  },
  {
   "cell_type": "code",
   "execution_count": 101,
   "id": "64905a5f",
   "metadata": {},
   "outputs": [
    {
     "data": {
      "text/plain": [
       "(2201, 19)"
      ]
     },
     "execution_count": 101,
     "metadata": {},
     "output_type": "execute_result"
    }
   ],
   "source": [
    "\n",
    "x = pd.get_dummies(train_df[['CRS_DEP_TIME', 'CARRIER','DEP_TIME','DEST','DAY_WEEK', 'DISTANCE','FL_NUM','ORIGIN']])\n",
    "y = train_df['Flight Status']\n",
    "\n",
    "\n",
    "x.shape"
   ]
  },
  {
   "cell_type": "code",
   "execution_count": 102,
   "id": "e6e4aeb2",
   "metadata": {},
   "outputs": [],
   "source": [
    "tra_x,tes_x,tra_y,tes_y = train_test_split(x,y, test_size=0.4, random_state=1)\n"
   ]
  },
  {
   "cell_type": "code",
   "execution_count": 103,
   "id": "3606ed3f",
   "metadata": {},
   "outputs": [
    {
     "data": {
      "text/plain": [
       "MultinomialNB(alpha=0.01)"
      ]
     },
     "execution_count": 103,
     "metadata": {},
     "output_type": "execute_result"
    }
   ],
   "source": [
    "delays_nb = MultinomialNB(alpha=0.01)\n",
    "delays_nb.fit(tra_x, tra_y)"
   ]
  },
  {
   "cell_type": "code",
   "execution_count": 104,
   "id": "c4b3ba78",
   "metadata": {},
   "outputs": [
    {
     "data": {
      "text/plain": [
       "array([[1.00000000e+00, 4.74501499e-40],\n",
       "       [9.06343850e-11, 1.00000000e+00],\n",
       "       [1.00000000e+00, 6.24970910e-29],\n",
       "       ...,\n",
       "       [4.47190140e-31, 1.00000000e+00],\n",
       "       [1.52869118e-07, 9.99999847e-01],\n",
       "       [1.25657473e-33, 1.00000000e+00]])"
      ]
     },
     "execution_count": 104,
     "metadata": {},
     "output_type": "execute_result"
    }
   ],
   "source": [
    "predProb_train = delays_nb.predict_proba(tra_x)\n",
    "\n",
    "predProb_valid = delays_nb.predict_proba(tes_x)\n",
    "predProb_valid"
   ]
  },
  {
   "cell_type": "code",
   "execution_count": 105,
   "id": "8c3281db",
   "metadata": {},
   "outputs": [],
   "source": [
    "y_valid_pred = delays_nb.predict(tes_x)\n",
    "y_train_pred = delays_nb.predict(tra_x)\n"
   ]
  },
  {
   "cell_type": "code",
   "execution_count": 106,
   "id": "a69a2355",
   "metadata": {},
   "outputs": [
    {
     "name": "stdout",
     "output_type": "stream",
     "text": [
      "Accuracy: 0.5664018161180476\n"
     ]
    }
   ],
   "source": [
    "print(\"Accuracy:\",metrics.accuracy_score(tes_y, y_valid_pred))"
   ]
  },
  {
   "cell_type": "code",
   "execution_count": 107,
   "id": "b559da90",
   "metadata": {},
   "outputs": [
    {
     "data": {
      "image/png": "[encoded data removed]",
      "text/plain": [
       "<Figure size 432x288 with 2 Axes>"
      ]
     },
     "metadata": {
      "needs_background": "light"
     },
     "output_type": "display_data"
    },
    {
     "data": {
      "text/plain": [
       "array([[ 76,  91],\n",
       "       [291, 423]], dtype=int64)"
      ]
     },
     "execution_count": 107,
     "metadata": {},
     "output_type": "execute_result"
    }
   ],
   "source": [
    "cm = confusion_matrix(tes_y, y_valid_pred)\n",
    "#sns.heatmap(cm, annot=True)\n",
    "\n",
    "DetaFrame_cm = pd.DataFrame(cm, range(2), range(2))\n",
    "sns.heatmap(DetaFrame_cm, annot=True,fmt='g')\n",
    "plt.show()\n",
    "cm"
   ]
  },
  {
   "cell_type": "code",
   "execution_count": 108,
   "id": "cb3ed135",
   "metadata": {},
   "outputs": [
    {
     "name": "stdout",
     "output_type": "stream",
     "text": [
      "   CRS_DEP_TIME  DEP_TIME  DAY_WEEK  DISTANCE  FL_NUM  CARRIER_CO  CARRIER_DH  \\\n",
      "0            15      1455         3       184    5935         0.0         0.0   \n",
      "1            16      1641         1       228    7810         0.0         0.0   \n",
      "2             6       630         3       214    1740         0.0         0.0   \n",
      "3             6       558         2       213    4760         0.0         0.0   \n",
      "4            18      1828         3       214    1764         0.0         0.0   \n",
      "\n",
      "   CARRIER_DL  CARRIER_MQ  CARRIER_OH  CARRIER_RU  CARRIER_UA  CARRIER_US  \\\n",
      "0         0.0         0.0         0.0         0.0         0.0         0.0   \n",
      "1         0.0         0.0         0.0         0.0         0.0         0.0   \n",
      "2         0.0         0.0         0.0         0.0         0.0         0.0   \n",
      "3         0.0         0.0         0.0         0.0         0.0         0.0   \n",
      "4         0.0         0.0         0.0         0.0         0.0         0.0   \n",
      "\n",
      "   DEST_EWR  DEST_JFK  DEST_LGA  ORIGIN_BWI  ORIGIN_DCA  ORIGIN_IAD  \n",
      "0       0.0       0.0       0.0         0.0         0.0         0.0  \n",
      "1       0.0       0.0       0.0         0.0         0.0         0.0  \n",
      "2       0.0       0.0       0.0         0.0         0.0         0.0  \n",
      "3       0.0       0.0       0.0         0.0         0.0         0.0  \n",
      "4       0.0       0.0       0.0         0.0         0.0         0.0  \n"
     ]
    },
    {
     "data": {
      "text/plain": [
       "(5, 19)"
      ]
     },
     "execution_count": 108,
     "metadata": {},
     "output_type": "execute_result"
    }
   ],
   "source": [
    "tes_X= pd.read_csv('FlightDelaysTesting.csv')\n",
    "\n",
    "coloumn_names =['CRS_DEP_TIME','DEP_TIME','DAY_WEEK','DISTANCE','FL_NUM','CARRIER_CO','CARRIER_DH','CARRIER_DL','CARRIER_MQ','CARRIER_OH','CARRIER_RU','CARRIER_UA','CARRIER_US','DEST_EWR','DEST_JFK','DEST_LGA','ORIGIN_BWI','ORIGIN_DCA','ORIGIN_IAD']\n",
    "\n",
    "tes_X = tes_X.reindex(columns = coloumn_names)  \n",
    "tes_X=tes_X.fillna(0)\n",
    "\n",
    "print(tes_X)\n",
    "tes_X.shape"
   ]
  },
  {
   "cell_type": "code",
   "execution_count": 109,
   "id": "b7133fcc",
   "metadata": {},
   "outputs": [
    {
     "data": {
      "text/plain": [
       "array(['delayed', 'delayed', 'delayed', 'delayed', 'delayed'], dtype='<U7')"
      ]
     },
     "execution_count": 109,
     "metadata": {},
     "output_type": "execute_result"
    }
   ],
   "source": [
    "test_pred = delays_nb.predict(tes_X)\n",
    "test_pred"
   ]
  },
  {
   "cell_type": "markdown",
   "id": "28e7d4b9",
   "metadata": {},
   "source": [
    "## CART  Analysis"
   ]
  },
  {
   "cell_type": "code",
   "execution_count": 110,
   "id": "8925ffbf",
   "metadata": {},
   "outputs": [
    {
     "data": {
      "text/html": [
       "<div>\n",
       "<style scoped>\n",
       "    .dataframe tbody tr th:only-of-type {\n",
       "        vertical-align: middle;\n",
       "    }\n",
       "\n",
       "    .dataframe tbody tr th {\n",
       "        vertical-align: top;\n",
       "    }\n",
       "\n",
       "    .dataframe thead th {\n",
       "        text-align: right;\n",
       "    }\n",
       "</style>\n",
       "<table border=\"1\" class=\"dataframe\">\n",
       "  <thead>\n",
       "    <tr style=\"text-align: right;\">\n",
       "      <th></th>\n",
       "      <th>CRS_DEP_TIME</th>\n",
       "      <th>CARRIER</th>\n",
       "      <th>DEP_TIME</th>\n",
       "      <th>DEST</th>\n",
       "      <th>DISTANCE</th>\n",
       "      <th>FL_DATE</th>\n",
       "      <th>FL_NUM</th>\n",
       "      <th>ORIGIN</th>\n",
       "      <th>Weather</th>\n",
       "      <th>DAY_WEEK</th>\n",
       "      <th>DAY_OF_MONTH</th>\n",
       "      <th>TAIL_NUM</th>\n",
       "      <th>Flight Status</th>\n",
       "    </tr>\n",
       "  </thead>\n",
       "  <tbody>\n",
       "    <tr>\n",
       "      <th>0</th>\n",
       "      <td>1455</td>\n",
       "      <td>OH</td>\n",
       "      <td>1455</td>\n",
       "      <td>JFK</td>\n",
       "      <td>184</td>\n",
       "      <td>37987</td>\n",
       "      <td>5935</td>\n",
       "      <td>BWI</td>\n",
       "      <td>0</td>\n",
       "      <td>4</td>\n",
       "      <td>1</td>\n",
       "      <td>N940CA</td>\n",
       "      <td>ontime</td>\n",
       "    </tr>\n",
       "    <tr>\n",
       "      <th>1</th>\n",
       "      <td>1640</td>\n",
       "      <td>DH</td>\n",
       "      <td>1640</td>\n",
       "      <td>JFK</td>\n",
       "      <td>213</td>\n",
       "      <td>2004-01-01</td>\n",
       "      <td>6155</td>\n",
       "      <td>DCA</td>\n",
       "      <td>0</td>\n",
       "      <td>4</td>\n",
       "      <td>1</td>\n",
       "      <td>N405FJ</td>\n",
       "      <td>ontime</td>\n",
       "    </tr>\n",
       "    <tr>\n",
       "      <th>2</th>\n",
       "      <td>1245</td>\n",
       "      <td>DH</td>\n",
       "      <td>1245</td>\n",
       "      <td>LGA</td>\n",
       "      <td>229</td>\n",
       "      <td>2004-01-01</td>\n",
       "      <td>7208</td>\n",
       "      <td>IAD</td>\n",
       "      <td>0</td>\n",
       "      <td>4</td>\n",
       "      <td>1</td>\n",
       "      <td>N695BR</td>\n",
       "      <td>ontime</td>\n",
       "    </tr>\n",
       "    <tr>\n",
       "      <th>3</th>\n",
       "      <td>1715</td>\n",
       "      <td>DH</td>\n",
       "      <td>1709</td>\n",
       "      <td>LGA</td>\n",
       "      <td>229</td>\n",
       "      <td>2004-01-01</td>\n",
       "      <td>7215</td>\n",
       "      <td>IAD</td>\n",
       "      <td>0</td>\n",
       "      <td>4</td>\n",
       "      <td>1</td>\n",
       "      <td>N662BR</td>\n",
       "      <td>ontime</td>\n",
       "    </tr>\n",
       "    <tr>\n",
       "      <th>4</th>\n",
       "      <td>1039</td>\n",
       "      <td>DH</td>\n",
       "      <td>1035</td>\n",
       "      <td>LGA</td>\n",
       "      <td>229</td>\n",
       "      <td>2004-01-01</td>\n",
       "      <td>7792</td>\n",
       "      <td>IAD</td>\n",
       "      <td>0</td>\n",
       "      <td>4</td>\n",
       "      <td>1</td>\n",
       "      <td>N698BR</td>\n",
       "      <td>ontime</td>\n",
       "    </tr>\n",
       "    <tr>\n",
       "      <th>...</th>\n",
       "      <td>...</td>\n",
       "      <td>...</td>\n",
       "      <td>...</td>\n",
       "      <td>...</td>\n",
       "      <td>...</td>\n",
       "      <td>...</td>\n",
       "      <td>...</td>\n",
       "      <td>...</td>\n",
       "      <td>...</td>\n",
       "      <td>...</td>\n",
       "      <td>...</td>\n",
       "      <td>...</td>\n",
       "      <td>...</td>\n",
       "    </tr>\n",
       "    <tr>\n",
       "      <th>2196</th>\n",
       "      <td>645</td>\n",
       "      <td>RU</td>\n",
       "      <td>644</td>\n",
       "      <td>EWR</td>\n",
       "      <td>199</td>\n",
       "      <td>2004-01-31</td>\n",
       "      <td>2761</td>\n",
       "      <td>DCA</td>\n",
       "      <td>0</td>\n",
       "      <td>6</td>\n",
       "      <td>31</td>\n",
       "      <td>N15555</td>\n",
       "      <td>ontime</td>\n",
       "    </tr>\n",
       "    <tr>\n",
       "      <th>2197</th>\n",
       "      <td>1700</td>\n",
       "      <td>RU</td>\n",
       "      <td>1653</td>\n",
       "      <td>EWR</td>\n",
       "      <td>213</td>\n",
       "      <td>2004-01-31</td>\n",
       "      <td>2497</td>\n",
       "      <td>IAD</td>\n",
       "      <td>0</td>\n",
       "      <td>6</td>\n",
       "      <td>31</td>\n",
       "      <td>N16976</td>\n",
       "      <td>ontime</td>\n",
       "    </tr>\n",
       "    <tr>\n",
       "      <th>2198</th>\n",
       "      <td>1600</td>\n",
       "      <td>RU</td>\n",
       "      <td>1558</td>\n",
       "      <td>EWR</td>\n",
       "      <td>199</td>\n",
       "      <td>2004-01-31</td>\n",
       "      <td>2361</td>\n",
       "      <td>DCA</td>\n",
       "      <td>0</td>\n",
       "      <td>6</td>\n",
       "      <td>31</td>\n",
       "      <td>N14902</td>\n",
       "      <td>ontime</td>\n",
       "    </tr>\n",
       "    <tr>\n",
       "      <th>2199</th>\n",
       "      <td>1359</td>\n",
       "      <td>RU</td>\n",
       "      <td>1403</td>\n",
       "      <td>EWR</td>\n",
       "      <td>199</td>\n",
       "      <td>2004-01-31</td>\n",
       "      <td>2216</td>\n",
       "      <td>DCA</td>\n",
       "      <td>0</td>\n",
       "      <td>6</td>\n",
       "      <td>31</td>\n",
       "      <td>N16961</td>\n",
       "      <td>ontime</td>\n",
       "    </tr>\n",
       "    <tr>\n",
       "      <th>2200</th>\n",
       "      <td>1730</td>\n",
       "      <td>RU</td>\n",
       "      <td>1736</td>\n",
       "      <td>EWR</td>\n",
       "      <td>199</td>\n",
       "      <td>2004-01-31</td>\n",
       "      <td>2097</td>\n",
       "      <td>DCA</td>\n",
       "      <td>0</td>\n",
       "      <td>6</td>\n",
       "      <td>31</td>\n",
       "      <td>N13994</td>\n",
       "      <td>ontime</td>\n",
       "    </tr>\n",
       "  </tbody>\n",
       "</table>\n",
       "<p>2201 rows × 13 columns</p>\n",
       "</div>"
      ],
      "text/plain": [
       "      CRS_DEP_TIME CARRIER  DEP_TIME DEST  DISTANCE     FL_DATE  FL_NUM  \\\n",
       "0             1455      OH      1455  JFK       184       37987    5935   \n",
       "1             1640      DH      1640  JFK       213  2004-01-01    6155   \n",
       "2             1245      DH      1245  LGA       229  2004-01-01    7208   \n",
       "3             1715      DH      1709  LGA       229  2004-01-01    7215   \n",
       "4             1039      DH      1035  LGA       229  2004-01-01    7792   \n",
       "...            ...     ...       ...  ...       ...         ...     ...   \n",
       "2196           645      RU       644  EWR       199  2004-01-31    2761   \n",
       "2197          1700      RU      1653  EWR       213  2004-01-31    2497   \n",
       "2198          1600      RU      1558  EWR       199  2004-01-31    2361   \n",
       "2199          1359      RU      1403  EWR       199  2004-01-31    2216   \n",
       "2200          1730      RU      1736  EWR       199  2004-01-31    2097   \n",
       "\n",
       "     ORIGIN  Weather  DAY_WEEK  DAY_OF_MONTH TAIL_NUM Flight Status  \n",
       "0       BWI        0         4             1   N940CA        ontime  \n",
       "1       DCA        0         4             1   N405FJ        ontime  \n",
       "2       IAD        0         4             1   N695BR        ontime  \n",
       "3       IAD        0         4             1   N662BR        ontime  \n",
       "4       IAD        0         4             1   N698BR        ontime  \n",
       "...     ...      ...       ...           ...      ...           ...  \n",
       "2196    DCA        0         6            31   N15555        ontime  \n",
       "2197    IAD        0         6            31   N16976        ontime  \n",
       "2198    DCA        0         6            31   N14902        ontime  \n",
       "2199    DCA        0         6            31   N16961        ontime  \n",
       "2200    DCA        0         6            31   N13994        ontime  \n",
       "\n",
       "[2201 rows x 13 columns]"
      ]
     },
     "execution_count": 110,
     "metadata": {},
     "output_type": "execute_result"
    }
   ],
   "source": [
    "train_df"
   ]
  },
  {
   "cell_type": "code",
   "execution_count": 112,
   "id": "391ca294",
   "metadata": {},
   "outputs": [
    {
     "data": {
      "text/plain": [
       "(1320, 19)"
      ]
     },
     "execution_count": 112,
     "metadata": {},
     "output_type": "execute_result"
    }
   ],
   "source": [
    "x = pd.get_dummies(train_df[['CRS_DEP_TIME', 'CARRIER','DEP_TIME','DEST','DAY_WEEK', 'DISTANCE','FL_NUM','ORIGIN']])\n",
    "y = train_df[['Flight Status']]\n",
    "\n",
    "tra_a,tes_a,tra_b,tes_b = train_test_split(x,y, test_size=0.4, random_state=1)\n",
    "tra_a.shape"
   ]
  },
  {
   "cell_type": "code",
   "execution_count": 113,
   "id": "4a66cd1d",
   "metadata": {},
   "outputs": [],
   "source": [
    "clf = DecisionTreeClassifier()"
   ]
  },
  {
   "cell_type": "code",
   "execution_count": 114,
   "id": "77564fb6",
   "metadata": {},
   "outputs": [],
   "source": [
    "clf = clf.fit(tra_a,tra_b)"
   ]
  },
  {
   "cell_type": "code",
   "execution_count": 72,
   "id": "ed25563c",
   "metadata": {
    "scrolled": true
   },
   "outputs": [
    {
     "ename": "InvocationException",
     "evalue": "GraphViz's executables not found",
     "output_type": "error",
     "traceback": [
      "\u001b[1;31m---------------------------------------------------------------------------\u001b[0m",
      "\u001b[1;31mInvocationException\u001b[0m                       Traceback (most recent call last)",
      "Input \u001b[1;32mIn [72]\u001b[0m, in \u001b[0;36m<cell line: 1>\u001b[1;34m()\u001b[0m\n\u001b[1;32m----> 1\u001b[0m \u001b[43mplotDecisionTree\u001b[49m\u001b[43m(\u001b[49m\u001b[43mclf\u001b[49m\u001b[43m,\u001b[49m\u001b[43m \u001b[49m\u001b[43mfeature_names\u001b[49m\u001b[38;5;241;43m=\u001b[39;49m\u001b[43mx\u001b[49m\u001b[38;5;241;43m.\u001b[39;49m\u001b[43mcolumns\u001b[49m\u001b[43m,\u001b[49m\u001b[43m \u001b[49m\u001b[43mclass_names\u001b[49m\u001b[38;5;241;43m=\u001b[39;49m\u001b[43mclf\u001b[49m\u001b[38;5;241;43m.\u001b[39;49m\u001b[43mclasses_\u001b[49m\u001b[43m)\u001b[49m\n",
      "File \u001b[1;32m~\\anaconda3\\lib\\site-packages\\dmba\\graphs.py:103\u001b[0m, in \u001b[0;36mplotDecisionTree\u001b[1;34m(decisionTree, feature_names, class_names, impurity, label, max_depth, rotate, pdfFile)\u001b[0m\n\u001b[0;32m    101\u001b[0m \u001b[38;5;28;01mif\u001b[39;00m pdfFile \u001b[38;5;129;01mis\u001b[39;00m \u001b[38;5;129;01mnot\u001b[39;00m \u001b[38;5;28;01mNone\u001b[39;00m:\n\u001b[0;32m    102\u001b[0m     graph\u001b[38;5;241m.\u001b[39mwrite_pdf(\u001b[38;5;28mstr\u001b[39m(pdfFile))\n\u001b[1;32m--> 103\u001b[0m \u001b[38;5;28;01mreturn\u001b[39;00m Image(\u001b[43mgraph\u001b[49m\u001b[38;5;241;43m.\u001b[39;49m\u001b[43mcreate_png\u001b[49m\u001b[43m(\u001b[49m\u001b[43m)\u001b[49m)\n",
      "File \u001b[1;32m~\\anaconda3\\lib\\site-packages\\pydotplus\\graphviz.py:1797\u001b[0m, in \u001b[0;36mDot.__init__.<locals>.<lambda>\u001b[1;34m(f, prog)\u001b[0m\n\u001b[0;32m   1792\u001b[0m \u001b[38;5;66;03m# Automatically creates all the methods enabling the creation\u001b[39;00m\n\u001b[0;32m   1793\u001b[0m \u001b[38;5;66;03m# of output in any of the supported formats.\u001b[39;00m\n\u001b[0;32m   1794\u001b[0m \u001b[38;5;28;01mfor\u001b[39;00m frmt \u001b[38;5;129;01min\u001b[39;00m \u001b[38;5;28mself\u001b[39m\u001b[38;5;241m.\u001b[39mformats:\n\u001b[0;32m   1795\u001b[0m     \u001b[38;5;28mself\u001b[39m\u001b[38;5;241m.\u001b[39m\u001b[38;5;21m__setattr__\u001b[39m(\n\u001b[0;32m   1796\u001b[0m         \u001b[38;5;124m'\u001b[39m\u001b[38;5;124mcreate_\u001b[39m\u001b[38;5;124m'\u001b[39m \u001b[38;5;241m+\u001b[39m frmt,\n\u001b[1;32m-> 1797\u001b[0m         \u001b[38;5;28;01mlambda\u001b[39;00m f\u001b[38;5;241m=\u001b[39mfrmt, prog\u001b[38;5;241m=\u001b[39m\u001b[38;5;28mself\u001b[39m\u001b[38;5;241m.\u001b[39mprog: \u001b[38;5;28;43mself\u001b[39;49m\u001b[38;5;241;43m.\u001b[39;49m\u001b[43mcreate\u001b[49m\u001b[43m(\u001b[49m\u001b[38;5;28;43mformat\u001b[39;49m\u001b[38;5;241;43m=\u001b[39;49m\u001b[43mf\u001b[49m\u001b[43m,\u001b[49m\u001b[43m \u001b[49m\u001b[43mprog\u001b[49m\u001b[38;5;241;43m=\u001b[39;49m\u001b[43mprog\u001b[49m\u001b[43m)\u001b[49m\n\u001b[0;32m   1798\u001b[0m     )\n\u001b[0;32m   1799\u001b[0m     f \u001b[38;5;241m=\u001b[39m \u001b[38;5;28mself\u001b[39m\u001b[38;5;241m.\u001b[39m\u001b[38;5;18m__dict__\u001b[39m[\u001b[38;5;124m'\u001b[39m\u001b[38;5;124mcreate_\u001b[39m\u001b[38;5;124m'\u001b[39m \u001b[38;5;241m+\u001b[39m frmt]\n\u001b[0;32m   1800\u001b[0m     f\u001b[38;5;241m.\u001b[39m\u001b[38;5;18m__doc__\u001b[39m \u001b[38;5;241m=\u001b[39m (\n\u001b[0;32m   1801\u001b[0m         \u001b[38;5;124;03m'''Refer to the docstring accompanying the'''\u001b[39;00m\n\u001b[0;32m   1802\u001b[0m         \u001b[38;5;124;03m''''create' method for more information.'''\u001b[39;00m\n\u001b[0;32m   1803\u001b[0m     )\n",
      "File \u001b[1;32m~\\anaconda3\\lib\\site-packages\\pydotplus\\graphviz.py:1959\u001b[0m, in \u001b[0;36mDot.create\u001b[1;34m(self, prog, format)\u001b[0m\n\u001b[0;32m   1957\u001b[0m     \u001b[38;5;28mself\u001b[39m\u001b[38;5;241m.\u001b[39mprogs \u001b[38;5;241m=\u001b[39m find_graphviz()\n\u001b[0;32m   1958\u001b[0m     \u001b[38;5;28;01mif\u001b[39;00m \u001b[38;5;28mself\u001b[39m\u001b[38;5;241m.\u001b[39mprogs \u001b[38;5;129;01mis\u001b[39;00m \u001b[38;5;28;01mNone\u001b[39;00m:\n\u001b[1;32m-> 1959\u001b[0m         \u001b[38;5;28;01mraise\u001b[39;00m InvocationException(\n\u001b[0;32m   1960\u001b[0m             \u001b[38;5;124m'\u001b[39m\u001b[38;5;124mGraphViz\u001b[39m\u001b[38;5;130;01m\\'\u001b[39;00m\u001b[38;5;124ms executables not found\u001b[39m\u001b[38;5;124m'\u001b[39m)\n\u001b[0;32m   1962\u001b[0m \u001b[38;5;28;01mif\u001b[39;00m prog \u001b[38;5;129;01mnot\u001b[39;00m \u001b[38;5;129;01min\u001b[39;00m \u001b[38;5;28mself\u001b[39m\u001b[38;5;241m.\u001b[39mprogs:\n\u001b[0;32m   1963\u001b[0m     \u001b[38;5;28;01mraise\u001b[39;00m InvocationException(\n\u001b[0;32m   1964\u001b[0m         \u001b[38;5;124m'\u001b[39m\u001b[38;5;124mGraphViz\u001b[39m\u001b[38;5;130;01m\\'\u001b[39;00m\u001b[38;5;124ms executable \u001b[39m\u001b[38;5;124m\"\u001b[39m\u001b[38;5;132;01m%s\u001b[39;00m\u001b[38;5;124m\"\u001b[39m\u001b[38;5;124m not found\u001b[39m\u001b[38;5;124m'\u001b[39m \u001b[38;5;241m%\u001b[39m prog)\n",
      "\u001b[1;31mInvocationException\u001b[0m: GraphViz's executables not found"
     ]
    }
   ],
   "source": [
    "plotDecisionTree(clf, feature_names=x.columns, class_names=clf.classes_)"
   ]
  },
  {
   "cell_type": "code",
   "execution_count": 115,
   "id": "00a99ef6",
   "metadata": {},
   "outputs": [
    {
     "data": {
      "text/plain": [
       "array(['ontime', 'ontime', 'ontime', 'ontime', 'ontime', 'ontime',\n",
       "       'ontime', 'ontime', 'ontime', 'ontime', 'ontime', 'ontime',\n",
       "       'ontime', 'ontime', 'delayed', 'ontime', 'delayed', 'ontime',\n",
       "       'ontime', 'ontime', 'ontime', 'ontime', 'ontime', 'ontime',\n",
       "       'ontime', 'ontime', 'ontime', 'delayed', 'ontime', 'ontime',\n",
       "       'ontime', 'ontime', 'ontime', 'ontime', 'delayed', 'delayed',\n",
       "       'ontime', 'ontime', 'ontime', 'ontime', 'ontime', 'ontime',\n",
       "       'ontime', 'delayed', 'ontime', 'ontime', 'delayed', 'ontime',\n",
       "       'ontime', 'ontime', 'delayed', 'ontime', 'ontime', 'ontime',\n",
       "       'ontime', 'delayed', 'ontime', 'ontime', 'delayed', 'ontime',\n",
       "       'ontime', 'ontime', 'ontime', 'ontime', 'ontime', 'ontime',\n",
       "       'ontime', 'ontime', 'ontime', 'ontime', 'ontime', 'ontime',\n",
       "       'ontime', 'ontime', 'ontime', 'ontime', 'ontime', 'ontime',\n",
       "       'ontime', 'ontime', 'ontime', 'delayed', 'ontime', 'ontime',\n",
       "       'ontime', 'ontime', 'delayed', 'ontime', 'delayed', 'ontime',\n",
       "       'ontime', 'ontime', 'ontime', 'ontime', 'ontime', 'ontime',\n",
       "       'ontime', 'ontime', 'ontime', 'ontime', 'ontime', 'ontime',\n",
       "       'delayed', 'ontime', 'ontime', 'ontime', 'ontime', 'ontime',\n",
       "       'ontime', 'ontime', 'ontime', 'ontime', 'ontime', 'ontime',\n",
       "       'delayed', 'ontime', 'delayed', 'ontime', 'ontime', 'ontime',\n",
       "       'ontime', 'ontime', 'ontime', 'ontime', 'ontime', 'ontime',\n",
       "       'ontime', 'ontime', 'ontime', 'ontime', 'ontime', 'ontime',\n",
       "       'ontime', 'ontime', 'ontime', 'ontime', 'ontime', 'delayed',\n",
       "       'ontime', 'delayed', 'ontime', 'ontime', 'ontime', 'delayed',\n",
       "       'ontime', 'delayed', 'ontime', 'ontime', 'ontime', 'ontime',\n",
       "       'ontime', 'delayed', 'ontime', 'ontime', 'ontime', 'ontime',\n",
       "       'ontime', 'delayed', 'ontime', 'ontime', 'ontime', 'delayed',\n",
       "       'ontime', 'ontime', 'ontime', 'ontime', 'ontime', 'ontime',\n",
       "       'ontime', 'ontime', 'delayed', 'delayed', 'ontime', 'ontime',\n",
       "       'ontime', 'ontime', 'delayed', 'ontime', 'ontime', 'delayed',\n",
       "       'delayed', 'delayed', 'ontime', 'ontime', 'ontime', 'ontime',\n",
       "       'ontime', 'ontime', 'ontime', 'ontime', 'ontime', 'ontime',\n",
       "       'ontime', 'ontime', 'ontime', 'ontime', 'delayed', 'ontime',\n",
       "       'ontime', 'delayed', 'delayed', 'ontime', 'ontime', 'ontime',\n",
       "       'delayed', 'ontime', 'ontime', 'ontime', 'ontime', 'delayed',\n",
       "       'ontime', 'ontime', 'ontime', 'ontime', 'delayed', 'ontime',\n",
       "       'ontime', 'delayed', 'ontime', 'ontime', 'ontime', 'ontime',\n",
       "       'delayed', 'ontime', 'ontime', 'ontime', 'ontime', 'ontime',\n",
       "       'ontime', 'ontime', 'ontime', 'ontime', 'ontime', 'ontime',\n",
       "       'ontime', 'delayed', 'ontime', 'delayed', 'ontime', 'ontime',\n",
       "       'ontime', 'ontime', 'ontime', 'delayed', 'ontime', 'ontime',\n",
       "       'ontime', 'ontime', 'ontime', 'ontime', 'delayed', 'ontime',\n",
       "       'delayed', 'delayed', 'ontime', 'ontime', 'ontime', 'ontime',\n",
       "       'ontime', 'ontime', 'ontime', 'delayed', 'ontime', 'ontime',\n",
       "       'delayed', 'ontime', 'ontime', 'ontime', 'ontime', 'ontime',\n",
       "       'ontime', 'ontime', 'ontime', 'ontime', 'ontime', 'ontime',\n",
       "       'ontime', 'delayed', 'ontime', 'ontime', 'delayed', 'ontime',\n",
       "       'ontime', 'ontime', 'ontime', 'ontime', 'ontime', 'ontime',\n",
       "       'delayed', 'ontime', 'ontime', 'delayed', 'delayed', 'ontime',\n",
       "       'ontime', 'ontime', 'ontime', 'ontime', 'ontime', 'ontime',\n",
       "       'delayed', 'delayed', 'ontime', 'ontime', 'ontime', 'ontime',\n",
       "       'ontime', 'ontime', 'ontime', 'ontime', 'ontime', 'ontime',\n",
       "       'ontime', 'ontime', 'ontime', 'delayed', 'ontime', 'delayed',\n",
       "       'ontime', 'ontime', 'ontime', 'ontime', 'delayed', 'ontime',\n",
       "       'ontime', 'ontime', 'delayed', 'ontime', 'ontime', 'ontime',\n",
       "       'ontime', 'ontime', 'delayed', 'ontime', 'ontime', 'ontime',\n",
       "       'ontime', 'ontime', 'ontime', 'ontime', 'ontime', 'ontime',\n",
       "       'ontime', 'ontime', 'ontime', 'ontime', 'ontime', 'ontime',\n",
       "       'ontime', 'ontime', 'delayed', 'ontime', 'ontime', 'ontime',\n",
       "       'ontime', 'ontime', 'ontime', 'ontime', 'delayed', 'delayed',\n",
       "       'ontime', 'ontime', 'ontime', 'ontime', 'ontime', 'ontime',\n",
       "       'ontime', 'ontime', 'ontime', 'ontime', 'delayed', 'ontime',\n",
       "       'ontime', 'ontime', 'delayed', 'delayed', 'ontime', 'ontime',\n",
       "       'ontime', 'ontime', 'ontime', 'ontime', 'ontime', 'ontime',\n",
       "       'delayed', 'ontime', 'ontime', 'ontime', 'ontime', 'ontime',\n",
       "       'delayed', 'ontime', 'delayed', 'delayed', 'ontime', 'ontime',\n",
       "       'ontime', 'ontime', 'ontime', 'delayed', 'ontime', 'delayed',\n",
       "       'delayed', 'ontime', 'ontime', 'ontime', 'ontime', 'ontime',\n",
       "       'delayed', 'ontime', 'ontime', 'delayed', 'ontime', 'delayed',\n",
       "       'ontime', 'ontime', 'ontime', 'ontime', 'ontime', 'ontime',\n",
       "       'delayed', 'ontime', 'ontime', 'ontime', 'ontime', 'delayed',\n",
       "       'ontime', 'delayed', 'ontime', 'delayed', 'ontime', 'ontime',\n",
       "       'ontime', 'ontime', 'ontime', 'ontime', 'ontime', 'ontime',\n",
       "       'ontime', 'ontime', 'ontime', 'ontime', 'ontime', 'ontime',\n",
       "       'delayed', 'ontime', 'ontime', 'ontime', 'delayed', 'ontime',\n",
       "       'ontime', 'ontime', 'ontime', 'ontime', 'ontime', 'ontime',\n",
       "       'ontime', 'ontime', 'ontime', 'ontime', 'ontime', 'delayed',\n",
       "       'delayed', 'ontime', 'delayed', 'ontime', 'ontime', 'delayed',\n",
       "       'delayed', 'delayed', 'ontime', 'ontime', 'ontime', 'ontime',\n",
       "       'delayed', 'ontime', 'delayed', 'ontime', 'delayed', 'ontime',\n",
       "       'ontime', 'ontime', 'ontime', 'ontime', 'ontime', 'ontime',\n",
       "       'ontime', 'ontime', 'ontime', 'ontime', 'ontime', 'delayed',\n",
       "       'ontime', 'ontime', 'ontime', 'ontime', 'delayed', 'ontime',\n",
       "       'ontime', 'ontime', 'ontime', 'ontime', 'ontime', 'ontime',\n",
       "       'ontime', 'ontime', 'ontime', 'delayed', 'ontime', 'ontime',\n",
       "       'ontime', 'ontime', 'ontime', 'ontime', 'ontime', 'ontime',\n",
       "       'ontime', 'ontime', 'ontime', 'delayed', 'ontime', 'ontime',\n",
       "       'ontime', 'ontime', 'ontime', 'ontime', 'ontime', 'ontime',\n",
       "       'delayed', 'ontime', 'ontime', 'ontime', 'ontime', 'ontime',\n",
       "       'delayed', 'ontime', 'ontime', 'ontime', 'ontime', 'ontime',\n",
       "       'ontime', 'delayed', 'ontime', 'ontime', 'ontime', 'delayed',\n",
       "       'ontime', 'delayed', 'ontime', 'ontime', 'ontime', 'ontime',\n",
       "       'ontime', 'ontime', 'ontime', 'ontime', 'ontime', 'delayed',\n",
       "       'delayed', 'ontime', 'ontime', 'ontime', 'ontime', 'ontime',\n",
       "       'delayed', 'ontime', 'delayed', 'ontime', 'delayed', 'delayed',\n",
       "       'ontime', 'ontime', 'delayed', 'ontime', 'ontime', 'ontime',\n",
       "       'ontime', 'ontime', 'ontime', 'delayed', 'ontime', 'ontime',\n",
       "       'delayed', 'ontime', 'ontime', 'delayed', 'ontime', 'ontime',\n",
       "       'delayed', 'ontime', 'ontime', 'delayed', 'ontime', 'ontime',\n",
       "       'ontime', 'ontime', 'delayed', 'ontime', 'ontime', 'ontime',\n",
       "       'ontime', 'ontime', 'ontime', 'ontime', 'ontime', 'delayed',\n",
       "       'ontime', 'ontime', 'ontime', 'ontime', 'ontime', 'ontime',\n",
       "       'ontime', 'ontime', 'ontime', 'ontime', 'ontime', 'ontime',\n",
       "       'ontime', 'ontime', 'ontime', 'ontime', 'ontime', 'delayed',\n",
       "       'ontime', 'ontime', 'ontime', 'delayed', 'delayed', 'ontime',\n",
       "       'delayed', 'ontime', 'ontime', 'ontime', 'ontime', 'ontime',\n",
       "       'ontime', 'ontime', 'ontime', 'ontime', 'ontime', 'delayed',\n",
       "       'ontime', 'ontime', 'delayed', 'delayed', 'ontime', 'ontime',\n",
       "       'ontime', 'ontime', 'ontime', 'ontime', 'ontime', 'ontime',\n",
       "       'ontime', 'ontime', 'delayed', 'ontime', 'ontime', 'ontime',\n",
       "       'ontime', 'ontime', 'ontime', 'ontime', 'delayed', 'ontime',\n",
       "       'ontime', 'ontime', 'ontime', 'ontime', 'ontime', 'ontime',\n",
       "       'delayed', 'ontime', 'ontime', 'ontime', 'ontime', 'ontime',\n",
       "       'ontime', 'ontime', 'ontime', 'ontime', 'delayed', 'ontime',\n",
       "       'ontime', 'delayed', 'delayed', 'delayed', 'ontime', 'ontime',\n",
       "       'ontime', 'ontime', 'ontime', 'ontime', 'ontime', 'delayed',\n",
       "       'ontime', 'delayed', 'delayed', 'ontime', 'ontime', 'ontime',\n",
       "       'ontime', 'ontime', 'ontime', 'ontime', 'ontime', 'ontime',\n",
       "       'ontime', 'ontime', 'ontime', 'ontime', 'delayed', 'ontime',\n",
       "       'ontime', 'delayed', 'delayed', 'ontime', 'ontime', 'ontime',\n",
       "       'ontime', 'ontime', 'ontime', 'ontime', 'delayed', 'ontime',\n",
       "       'ontime', 'ontime', 'ontime', 'ontime', 'ontime', 'delayed',\n",
       "       'ontime', 'delayed', 'ontime', 'ontime', 'ontime', 'ontime',\n",
       "       'ontime', 'delayed', 'ontime', 'ontime', 'ontime', 'ontime',\n",
       "       'ontime', 'ontime', 'ontime', 'ontime', 'ontime', 'ontime',\n",
       "       'delayed', 'ontime', 'ontime', 'ontime', 'ontime', 'delayed',\n",
       "       'delayed', 'delayed', 'ontime', 'ontime', 'ontime', 'ontime',\n",
       "       'ontime', 'ontime', 'delayed', 'delayed', 'ontime', 'ontime',\n",
       "       'ontime', 'ontime', 'ontime', 'delayed', 'ontime', 'ontime',\n",
       "       'ontime', 'ontime', 'ontime', 'ontime', 'ontime', 'ontime',\n",
       "       'ontime', 'ontime', 'delayed', 'ontime', 'ontime', 'ontime',\n",
       "       'delayed', 'ontime', 'delayed', 'ontime', 'ontime', 'ontime',\n",
       "       'ontime', 'ontime', 'ontime', 'ontime', 'delayed', 'ontime',\n",
       "       'ontime', 'delayed', 'ontime', 'ontime', 'ontime', 'ontime',\n",
       "       'ontime', 'ontime', 'delayed', 'ontime', 'ontime', 'ontime',\n",
       "       'delayed', 'ontime', 'ontime', 'ontime', 'ontime', 'delayed',\n",
       "       'ontime', 'delayed', 'ontime', 'ontime', 'ontime', 'ontime',\n",
       "       'ontime', 'ontime', 'ontime', 'ontime', 'delayed', 'ontime',\n",
       "       'ontime', 'ontime', 'ontime', 'delayed', 'ontime', 'ontime',\n",
       "       'ontime', 'delayed', 'ontime', 'delayed', 'ontime', 'ontime',\n",
       "       'ontime', 'ontime', 'ontime', 'delayed', 'ontime', 'ontime',\n",
       "       'ontime', 'delayed', 'ontime', 'ontime', 'ontime', 'ontime',\n",
       "       'ontime', 'ontime', 'ontime', 'ontime', 'delayed', 'ontime',\n",
       "       'ontime', 'ontime', 'delayed', 'delayed', 'delayed', 'delayed',\n",
       "       'ontime', 'ontime', 'ontime', 'ontime', 'ontime', 'ontime',\n",
       "       'ontime', 'delayed', 'ontime', 'ontime', 'ontime', 'ontime',\n",
       "       'ontime', 'ontime', 'ontime', 'ontime', 'ontime'], dtype=object)"
      ]
     },
     "execution_count": 115,
     "metadata": {},
     "output_type": "execute_result"
    }
   ],
   "source": [
    "y_pred = clf.predict(tes_a)\n",
    "y_pred"
   ]
  },
  {
   "cell_type": "code",
   "execution_count": 116,
   "id": "1e2ef0c2",
   "metadata": {
    "scrolled": true
   },
   "outputs": [
    {
     "name": "stdout",
     "output_type": "stream",
     "text": [
      "Accuracy: 0.8297389330306469\n"
     ]
    }
   ],
   "source": [
    "print(\"Accuracy:\",metrics.accuracy_score(tes_b, y_pred))"
   ]
  },
  {
   "cell_type": "code",
   "execution_count": 119,
   "id": "605a7a6f",
   "metadata": {},
   "outputs": [
    {
     "name": "stdout",
     "output_type": "stream",
     "text": [
      "   CRS_DEP_TIME  DEP_TIME  DAY_WEEK  DISTANCE  FL_NUM  CARRIER_CO  CARRIER_DH  \\\n",
      "0            15      1455         3       184    5935         0.0         0.0   \n",
      "1            16      1641         1       228    7810         0.0         0.0   \n",
      "2             6       630         3       214    1740         0.0         0.0   \n",
      "3             6       558         2       213    4760         0.0         0.0   \n",
      "4            18      1828         3       214    1764         0.0         0.0   \n",
      "\n",
      "   CARRIER_DL  CARRIER_MQ  CARRIER_OH  CARRIER_RU  CARRIER_UA  CARRIER_US  \\\n",
      "0         0.0         0.0         0.0         0.0         0.0         0.0   \n",
      "1         0.0         0.0         0.0         0.0         0.0         0.0   \n",
      "2         0.0         0.0         0.0         0.0         0.0         0.0   \n",
      "3         0.0         0.0         0.0         0.0         0.0         0.0   \n",
      "4         0.0         0.0         0.0         0.0         0.0         0.0   \n",
      "\n",
      "   DEST_EWR  DEST_JFK  DEST_LGA  ORIGIN_BWI  ORIGIN_DCA  ORIGIN_IAD  \n",
      "0       0.0       0.0       0.0         0.0         0.0         0.0  \n",
      "1       0.0       0.0       0.0         0.0         0.0         0.0  \n",
      "2       0.0       0.0       0.0         0.0         0.0         0.0  \n",
      "3       0.0       0.0       0.0         0.0         0.0         0.0  \n",
      "4       0.0       0.0       0.0         0.0         0.0         0.0  \n"
     ]
    }
   ],
   "source": [
    "test_five= pd.read_csv('FlightDelaysTesting.csv')\n",
    "\n",
    "coloumn_names =['CRS_DEP_TIME','DEP_TIME','DAY_WEEK','DISTANCE','FL_NUM','CARRIER_CO','CARRIER_DH','CARRIER_DL','CARRIER_MQ','CARRIER_OH','CARRIER_RU','CARRIER_UA','CARRIER_US','DEST_EWR','DEST_JFK','DEST_LGA','ORIGIN_BWI','ORIGIN_DCA','ORIGIN_IAD']\n",
    "\n",
    "test_five = test_five.reindex(columns = coloumn_names)  \n",
    "test_five=test_five.fillna(0)\n",
    "\n",
    "print(test_five)\n"
   ]
  },
  {
   "cell_type": "code",
   "execution_count": 120,
   "id": "0cc3385d",
   "metadata": {},
   "outputs": [],
   "source": [
    "y_pred2 = clf.predict(test_five)"
   ]
  },
  {
   "cell_type": "code",
   "execution_count": 121,
   "id": "dbb4ba29",
   "metadata": {},
   "outputs": [
    {
     "data": {
      "text/plain": [
       "array(['delayed', 'delayed', 'ontime', 'ontime', 'delayed'], dtype=object)"
      ]
     },
     "execution_count": 121,
     "metadata": {},
     "output_type": "execute_result"
    }
   ],
   "source": [
    "y_pred2"
   ]
  },
  {
   "cell_type": "markdown",
   "id": "e13a4a6c",
   "metadata": {},
   "source": [
    "## Logistic regression"
   ]
  },
  {
   "cell_type": "code",
   "execution_count": 32,
   "id": "fd28caa3",
   "metadata": {},
   "outputs": [],
   "source": [
    "flights_df =train_df"
   ]
  },
  {
   "cell_type": "code",
   "execution_count": 33,
   "id": "6f1f5c3d",
   "metadata": {},
   "outputs": [],
   "source": [
    "flights_df.drop(columns=['FL_DATE','DAY_OF_MONTH','TAIL_NUM'], inplace=True)\n",
    "flights_df.columns = [c.replace(' ', '_') for c in flights_df.columns]"
   ]
  },
  {
   "cell_type": "code",
   "execution_count": 34,
   "id": "88c266d8",
   "metadata": {},
   "outputs": [
    {
     "name": "stderr",
     "output_type": "stream",
     "text": [
      "C:\\Users\\Vamshi Krishna\\AppData\\Local\\Temp\\ipykernel_10900\\3688437085.py:3: FutureWarning: The `inplace` parameter in pandas.Categorical.rename_categories is deprecated and will be removed in a future version. Removing unused categories will always return a new Categorical object.\n",
      "  flights_df.Flight_Status.cat.rename_categories(new_categories, inplace=True)\n"
     ]
    },
    {
     "data": {
      "text/html": [
       "<div>\n",
       "<style scoped>\n",
       "    .dataframe tbody tr th:only-of-type {\n",
       "        vertical-align: middle;\n",
       "    }\n",
       "\n",
       "    .dataframe tbody tr th {\n",
       "        vertical-align: top;\n",
       "    }\n",
       "\n",
       "    .dataframe thead th {\n",
       "        text-align: right;\n",
       "    }\n",
       "</style>\n",
       "<table border=\"1\" class=\"dataframe\">\n",
       "  <thead>\n",
       "    <tr style=\"text-align: right;\">\n",
       "      <th></th>\n",
       "      <th>CRS_DEP_TIME</th>\n",
       "      <th>DEP_TIME</th>\n",
       "      <th>DISTANCE</th>\n",
       "      <th>FL_NUM</th>\n",
       "      <th>Weather</th>\n",
       "      <th>DAY_WEEK</th>\n",
       "      <th>CARRIER_DH</th>\n",
       "      <th>CARRIER_DL</th>\n",
       "      <th>CARRIER_MQ</th>\n",
       "      <th>CARRIER_OH</th>\n",
       "      <th>CARRIER_RU</th>\n",
       "      <th>CARRIER_UA</th>\n",
       "      <th>CARRIER_US</th>\n",
       "      <th>DEST_JFK</th>\n",
       "      <th>DEST_LGA</th>\n",
       "      <th>ORIGIN_DCA</th>\n",
       "      <th>ORIGIN_IAD</th>\n",
       "      <th>Flight_Status_1</th>\n",
       "    </tr>\n",
       "  </thead>\n",
       "  <tbody>\n",
       "    <tr>\n",
       "      <th>0</th>\n",
       "      <td>1455</td>\n",
       "      <td>1455</td>\n",
       "      <td>184</td>\n",
       "      <td>5935</td>\n",
       "      <td>0</td>\n",
       "      <td>4</td>\n",
       "      <td>0</td>\n",
       "      <td>0</td>\n",
       "      <td>0</td>\n",
       "      <td>1</td>\n",
       "      <td>0</td>\n",
       "      <td>0</td>\n",
       "      <td>0</td>\n",
       "      <td>1</td>\n",
       "      <td>0</td>\n",
       "      <td>0</td>\n",
       "      <td>0</td>\n",
       "      <td>1</td>\n",
       "    </tr>\n",
       "    <tr>\n",
       "      <th>1</th>\n",
       "      <td>1640</td>\n",
       "      <td>1640</td>\n",
       "      <td>213</td>\n",
       "      <td>6155</td>\n",
       "      <td>0</td>\n",
       "      <td>4</td>\n",
       "      <td>1</td>\n",
       "      <td>0</td>\n",
       "      <td>0</td>\n",
       "      <td>0</td>\n",
       "      <td>0</td>\n",
       "      <td>0</td>\n",
       "      <td>0</td>\n",
       "      <td>1</td>\n",
       "      <td>0</td>\n",
       "      <td>1</td>\n",
       "      <td>0</td>\n",
       "      <td>1</td>\n",
       "    </tr>\n",
       "    <tr>\n",
       "      <th>2</th>\n",
       "      <td>1245</td>\n",
       "      <td>1245</td>\n",
       "      <td>229</td>\n",
       "      <td>7208</td>\n",
       "      <td>0</td>\n",
       "      <td>4</td>\n",
       "      <td>1</td>\n",
       "      <td>0</td>\n",
       "      <td>0</td>\n",
       "      <td>0</td>\n",
       "      <td>0</td>\n",
       "      <td>0</td>\n",
       "      <td>0</td>\n",
       "      <td>0</td>\n",
       "      <td>1</td>\n",
       "      <td>0</td>\n",
       "      <td>1</td>\n",
       "      <td>1</td>\n",
       "    </tr>\n",
       "    <tr>\n",
       "      <th>3</th>\n",
       "      <td>1715</td>\n",
       "      <td>1709</td>\n",
       "      <td>229</td>\n",
       "      <td>7215</td>\n",
       "      <td>0</td>\n",
       "      <td>4</td>\n",
       "      <td>1</td>\n",
       "      <td>0</td>\n",
       "      <td>0</td>\n",
       "      <td>0</td>\n",
       "      <td>0</td>\n",
       "      <td>0</td>\n",
       "      <td>0</td>\n",
       "      <td>0</td>\n",
       "      <td>1</td>\n",
       "      <td>0</td>\n",
       "      <td>1</td>\n",
       "      <td>1</td>\n",
       "    </tr>\n",
       "    <tr>\n",
       "      <th>4</th>\n",
       "      <td>1039</td>\n",
       "      <td>1035</td>\n",
       "      <td>229</td>\n",
       "      <td>7792</td>\n",
       "      <td>0</td>\n",
       "      <td>4</td>\n",
       "      <td>1</td>\n",
       "      <td>0</td>\n",
       "      <td>0</td>\n",
       "      <td>0</td>\n",
       "      <td>0</td>\n",
       "      <td>0</td>\n",
       "      <td>0</td>\n",
       "      <td>0</td>\n",
       "      <td>1</td>\n",
       "      <td>0</td>\n",
       "      <td>1</td>\n",
       "      <td>1</td>\n",
       "    </tr>\n",
       "  </tbody>\n",
       "</table>\n",
       "</div>"
      ],
      "text/plain": [
       "   CRS_DEP_TIME  DEP_TIME  DISTANCE  FL_NUM  Weather  DAY_WEEK  CARRIER_DH  \\\n",
       "0          1455      1455       184    5935        0         4           0   \n",
       "1          1640      1640       213    6155        0         4           1   \n",
       "2          1245      1245       229    7208        0         4           1   \n",
       "3          1715      1709       229    7215        0         4           1   \n",
       "4          1039      1035       229    7792        0         4           1   \n",
       "\n",
       "   CARRIER_DL  CARRIER_MQ  CARRIER_OH  CARRIER_RU  CARRIER_UA  CARRIER_US  \\\n",
       "0           0           0           1           0           0           0   \n",
       "1           0           0           0           0           0           0   \n",
       "2           0           0           0           0           0           0   \n",
       "3           0           0           0           0           0           0   \n",
       "4           0           0           0           0           0           0   \n",
       "\n",
       "   DEST_JFK  DEST_LGA  ORIGIN_DCA  ORIGIN_IAD  Flight_Status_1  \n",
       "0         1         0           0           0                1  \n",
       "1         1         0           1           0                1  \n",
       "2         0         1           0           1                1  \n",
       "3         0         1           0           1                1  \n",
       "4         0         1           0           1                1  "
      ]
     },
     "execution_count": 34,
     "metadata": {},
     "output_type": "execute_result"
    }
   ],
   "source": [
    "flights_df['Flight_Status'] = flights_df['Flight_Status'].astype('category')\n",
    "new_categories = {'ontime': '1', 'delayed': '0'}\n",
    "flights_df.Flight_Status.cat.rename_categories(new_categories, inplace=True)\n",
    "flights_df = pd.get_dummies(flights_df, prefix_sep='_', drop_first=True)\n",
    "flights_df.head()"
   ]
  },
  {
   "cell_type": "code",
   "execution_count": 35,
   "id": "46fca2f9",
   "metadata": {},
   "outputs": [
    {
     "data": {
      "text/html": [
       "<div>\n",
       "<style scoped>\n",
       "    .dataframe tbody tr th:only-of-type {\n",
       "        vertical-align: middle;\n",
       "    }\n",
       "\n",
       "    .dataframe tbody tr th {\n",
       "        vertical-align: top;\n",
       "    }\n",
       "\n",
       "    .dataframe thead th {\n",
       "        text-align: right;\n",
       "    }\n",
       "</style>\n",
       "<table border=\"1\" class=\"dataframe\">\n",
       "  <thead>\n",
       "    <tr style=\"text-align: right;\">\n",
       "      <th></th>\n",
       "      <th>CRS_DEP_TIME</th>\n",
       "      <th>DEP_TIME</th>\n",
       "      <th>DISTANCE</th>\n",
       "      <th>FL_NUM</th>\n",
       "      <th>Weather</th>\n",
       "      <th>DAY_WEEK</th>\n",
       "      <th>CARRIER_DH</th>\n",
       "      <th>CARRIER_DL</th>\n",
       "      <th>CARRIER_MQ</th>\n",
       "      <th>CARRIER_OH</th>\n",
       "      <th>CARRIER_RU</th>\n",
       "      <th>CARRIER_UA</th>\n",
       "      <th>CARRIER_US</th>\n",
       "      <th>DEST_JFK</th>\n",
       "      <th>DEST_LGA</th>\n",
       "      <th>ORIGIN_DCA</th>\n",
       "      <th>ORIGIN_IAD</th>\n",
       "      <th>Flight_Status_1</th>\n",
       "    </tr>\n",
       "  </thead>\n",
       "  <tbody>\n",
       "    <tr>\n",
       "      <th>0</th>\n",
       "      <td>1455</td>\n",
       "      <td>1455</td>\n",
       "      <td>184</td>\n",
       "      <td>5935</td>\n",
       "      <td>0</td>\n",
       "      <td>4</td>\n",
       "      <td>0</td>\n",
       "      <td>0</td>\n",
       "      <td>0</td>\n",
       "      <td>1</td>\n",
       "      <td>0</td>\n",
       "      <td>0</td>\n",
       "      <td>0</td>\n",
       "      <td>1</td>\n",
       "      <td>0</td>\n",
       "      <td>0</td>\n",
       "      <td>0</td>\n",
       "      <td>1</td>\n",
       "    </tr>\n",
       "    <tr>\n",
       "      <th>1</th>\n",
       "      <td>1640</td>\n",
       "      <td>1640</td>\n",
       "      <td>213</td>\n",
       "      <td>6155</td>\n",
       "      <td>0</td>\n",
       "      <td>4</td>\n",
       "      <td>1</td>\n",
       "      <td>0</td>\n",
       "      <td>0</td>\n",
       "      <td>0</td>\n",
       "      <td>0</td>\n",
       "      <td>0</td>\n",
       "      <td>0</td>\n",
       "      <td>1</td>\n",
       "      <td>0</td>\n",
       "      <td>1</td>\n",
       "      <td>0</td>\n",
       "      <td>1</td>\n",
       "    </tr>\n",
       "    <tr>\n",
       "      <th>2</th>\n",
       "      <td>1245</td>\n",
       "      <td>1245</td>\n",
       "      <td>229</td>\n",
       "      <td>7208</td>\n",
       "      <td>0</td>\n",
       "      <td>4</td>\n",
       "      <td>1</td>\n",
       "      <td>0</td>\n",
       "      <td>0</td>\n",
       "      <td>0</td>\n",
       "      <td>0</td>\n",
       "      <td>0</td>\n",
       "      <td>0</td>\n",
       "      <td>0</td>\n",
       "      <td>1</td>\n",
       "      <td>0</td>\n",
       "      <td>1</td>\n",
       "      <td>1</td>\n",
       "    </tr>\n",
       "    <tr>\n",
       "      <th>3</th>\n",
       "      <td>1715</td>\n",
       "      <td>1709</td>\n",
       "      <td>229</td>\n",
       "      <td>7215</td>\n",
       "      <td>0</td>\n",
       "      <td>4</td>\n",
       "      <td>1</td>\n",
       "      <td>0</td>\n",
       "      <td>0</td>\n",
       "      <td>0</td>\n",
       "      <td>0</td>\n",
       "      <td>0</td>\n",
       "      <td>0</td>\n",
       "      <td>0</td>\n",
       "      <td>1</td>\n",
       "      <td>0</td>\n",
       "      <td>1</td>\n",
       "      <td>1</td>\n",
       "    </tr>\n",
       "    <tr>\n",
       "      <th>4</th>\n",
       "      <td>1039</td>\n",
       "      <td>1035</td>\n",
       "      <td>229</td>\n",
       "      <td>7792</td>\n",
       "      <td>0</td>\n",
       "      <td>4</td>\n",
       "      <td>1</td>\n",
       "      <td>0</td>\n",
       "      <td>0</td>\n",
       "      <td>0</td>\n",
       "      <td>0</td>\n",
       "      <td>0</td>\n",
       "      <td>0</td>\n",
       "      <td>0</td>\n",
       "      <td>1</td>\n",
       "      <td>0</td>\n",
       "      <td>1</td>\n",
       "      <td>1</td>\n",
       "    </tr>\n",
       "  </tbody>\n",
       "</table>\n",
       "</div>"
      ],
      "text/plain": [
       "   CRS_DEP_TIME  DEP_TIME  DISTANCE  FL_NUM  Weather  DAY_WEEK  CARRIER_DH  \\\n",
       "0          1455      1455       184    5935        0         4           0   \n",
       "1          1640      1640       213    6155        0         4           1   \n",
       "2          1245      1245       229    7208        0         4           1   \n",
       "3          1715      1709       229    7215        0         4           1   \n",
       "4          1039      1035       229    7792        0         4           1   \n",
       "\n",
       "   CARRIER_DL  CARRIER_MQ  CARRIER_OH  CARRIER_RU  CARRIER_UA  CARRIER_US  \\\n",
       "0           0           0           1           0           0           0   \n",
       "1           0           0           0           0           0           0   \n",
       "2           0           0           0           0           0           0   \n",
       "3           0           0           0           0           0           0   \n",
       "4           0           0           0           0           0           0   \n",
       "\n",
       "   DEST_JFK  DEST_LGA  ORIGIN_DCA  ORIGIN_IAD  Flight_Status_1  \n",
       "0         1         0           0           0                1  \n",
       "1         1         0           1           0                1  \n",
       "2         0         1           0           1                1  \n",
       "3         0         1           0           1                1  \n",
       "4         0         1           0           1                1  "
      ]
     },
     "execution_count": 35,
     "metadata": {},
     "output_type": "execute_result"
    }
   ],
   "source": [
    "flights_df.head()"
   ]
  },
  {
   "cell_type": "code",
   "execution_count": 36,
   "id": "79866923",
   "metadata": {},
   "outputs": [],
   "source": [
    "y = flights_df['Flight_Status_1']\n",
    "X = flights_df.drop(columns=['Flight_Status_1'])"
   ]
  },
  {
   "cell_type": "code",
   "execution_count": 37,
   "id": "72203509",
   "metadata": {},
   "outputs": [
    {
     "data": {
      "text/plain": [
       "(1320, 20)"
      ]
     },
     "execution_count": 37,
     "metadata": {},
     "output_type": "execute_result"
    }
   ],
   "source": [
    "train_a, valid_a, train_b, valid_b = train_test_split(x, y, test_size=0.4, random_state=1)\n",
    "logit_reg = LogisticRegression(penalty=\"l2\", C=1e42, solver='liblinear')\n",
    "logit_reg.fit(train_a, train_b)\n",
    "train_a.shape"
   ]
  },
  {
   "cell_type": "code",
   "execution_count": 39,
   "id": "ad81f484",
   "metadata": {},
   "outputs": [
    {
     "name": "stdout",
     "output_type": "stream",
     "text": [
      "intercept  0.0793433631937035\n",
      "       CRS_DEP_TIME  DEP_TIME  DAY_WEEK  DISTANCE    FL_NUM   Weather  \\\n",
      "coeff      0.034006 -0.034455  0.075515  0.008141  0.000053 -0.434062   \n",
      "\n",
      "       CARRIER_CO  CARRIER_DH  CARRIER_DL  CARRIER_MQ  CARRIER_OH  CARRIER_RU  \\\n",
      "coeff   -0.258911    0.398565    0.965283   -1.296907    0.318394   -0.024329   \n",
      "\n",
      "       CARRIER_UA  CARRIER_US  DEST_EWR  DEST_JFK  DEST_LGA  ORIGIN_BWI  \\\n",
      "coeff    0.065594   -0.088347 -0.147726  0.135346  0.091724    0.503365   \n",
      "\n",
      "       ORIGIN_DCA  ORIGIN_IAD  \n",
      "coeff   -0.096324   -0.327698  \n",
      "\n"
     ]
    }
   ],
   "source": [
    "print('intercept ', logit_reg.intercept_[0])\n",
    "print(pd.DataFrame({'coeff': logit_reg.coef_[0]}, index=x.columns).transpose())\n",
    "print()"
   ]
  },
  {
   "cell_type": "code",
   "execution_count": 40,
   "id": "acd14b7f",
   "metadata": {},
   "outputs": [
    {
     "name": "stdout",
     "output_type": "stream",
     "text": [
      "      actual      p(0)      p(1)  predicted\n",
      "1276       1  0.116154  0.883846          1\n",
      "1446       1  0.056366  0.943634          1\n",
      "335        1  0.105668  0.894332          1\n",
      "1458       1  0.087107  0.912893          1\n",
      "2038       1  0.058135  0.941865          1\n",
      "...      ...       ...       ...        ...\n",
      "460        1  0.198258  0.801742          1\n",
      "2063       1  0.069977  0.930023          1\n",
      "159        1  0.280338  0.719662          1\n",
      "2027       0  0.035159  0.964841          1\n",
      "1247       1  0.045386  0.954614          1\n",
      "\n",
      "[881 rows x 4 columns]\n"
     ]
    }
   ],
   "source": [
    "logit_reg_pred = logit_reg.predict(valid_a)\n",
    "logit_reg_proba = logit_reg.predict_proba(valid_a)\n",
    "logit_result = pd.DataFrame({'actual': valid_b,\n",
    "'p(0)': [p[0] for p in logit_reg_proba],\n",
    "'p(1)': [p[1] for p in logit_reg_proba],\n",
    "'predicted': logit_reg_pred })\n",
    "print(logit_result)"
   ]
  },
  {
   "cell_type": "code",
   "execution_count": 41,
   "id": "45a04861",
   "metadata": {},
   "outputs": [
    {
     "name": "stdout",
     "output_type": "stream",
     "text": [
      "      actual      p(0)      p(1)  predicted\n",
      "1276       1  0.116154  0.883846          1\n",
      "335        1  0.105668  0.894332          1\n",
      "460        1  0.198258  0.801742          1\n",
      "1458       1  0.087107  0.912893          1\n",
      "2027       0  0.035159  0.964841          1\n"
     ]
    }
   ],
   "source": [
    "interestingCases = [1276,335,460,1458,2027]\n",
    "print(logit_result.loc[interestingCases])"
   ]
  },
  {
   "cell_type": "code",
   "execution_count": 42,
   "id": "579e22f0",
   "metadata": {},
   "outputs": [
    {
     "name": "stdout",
     "output_type": "stream",
     "text": [
      "Confusion Matrix (Accuracy 0.9061)\n",
      "\n",
      "       Prediction\n",
      "Actual    0    1\n",
      "     0  150  111\n",
      "     1   13 1046\n"
     ]
    }
   ],
   "source": [
    "classificationSummary(train_b, logit_reg.predict(train_a))"
   ]
  },
  {
   "cell_type": "code",
   "execution_count": 81,
   "id": "1f574934",
   "metadata": {},
   "outputs": [
    {
     "name": "stdout",
     "output_type": "stream",
     "text": [
      "Confusion Matrix (Accuracy 0.9001)\n",
      "\n",
      "       Prediction\n",
      "Actual   0   1\n",
      "     0  91  76\n",
      "     1  12 702\n"
     ]
    },
    {
     "data": {
      "image/png": "[encoded data removed]",
      "text/plain": [
       "<Figure size 432x288 with 2 Axes>"
      ]
     },
     "metadata": {
      "needs_background": "light"
     },
     "output_type": "display_data"
    }
   ],
   "source": [
    "classificationSummary(valid_b, logit_reg.predict(valid_a))\n",
    "cm = confusion_matrix(valid_b, logit_reg_pred)\n",
    "DetaFrame_cm = pd.DataFrame(cm, range(2), range(2))\n",
    "sns.heatmap(DetaFrame_cm, annot=True,fmt='g')\n",
    "plt.show()\n",
    "\n"
   ]
  },
  {
   "cell_type": "code",
   "execution_count": 44,
   "id": "b7d8c083",
   "metadata": {},
   "outputs": [
    {
     "data": {
      "image/png": "[encoded data removed]",
      "text/plain": [
       "<Figure size 720x288 with 2 Axes>"
      ]
     },
     "metadata": {
      "needs_background": "light"
     },
     "output_type": "display_data"
    }
   ],
   "source": [
    "df = logit_result.sort_values(by=['p(1)'], ascending=False)\n",
    "fig, axes = plt.subplots(nrows=1, ncols=2, figsize=(10, 4))\n",
    "gainsChart(df.actual, ax=axes[0])\n",
    "liftChart(df['p(1)'], title=False, ax=axes[1])\n",
    "plt.tight_layout()\n",
    "plt.show()"
   ]
  },
  {
   "cell_type": "code",
   "execution_count": 148,
   "id": "c95dee42",
   "metadata": {},
   "outputs": [
    {
     "data": {
      "text/html": [
       "<div>\n",
       "<style scoped>\n",
       "    .dataframe tbody tr th:only-of-type {\n",
       "        vertical-align: middle;\n",
       "    }\n",
       "\n",
       "    .dataframe tbody tr th {\n",
       "        vertical-align: top;\n",
       "    }\n",
       "\n",
       "    .dataframe thead th {\n",
       "        text-align: right;\n",
       "    }\n",
       "</style>\n",
       "<table border=\"1\" class=\"dataframe\">\n",
       "  <thead>\n",
       "    <tr style=\"text-align: right;\">\n",
       "      <th></th>\n",
       "      <th>CRS_DEP_TIME</th>\n",
       "      <th>CARRIER</th>\n",
       "      <th>DEP_TIME</th>\n",
       "      <th>DEST</th>\n",
       "      <th>DISTANCE</th>\n",
       "      <th>FL_DATE</th>\n",
       "      <th>FL_NUM</th>\n",
       "      <th>ORIGIN</th>\n",
       "      <th>Weather</th>\n",
       "      <th>DAY_WEEK</th>\n",
       "      <th>DAY_OF_MONTH</th>\n",
       "      <th>TAIL_NUM</th>\n",
       "    </tr>\n",
       "  </thead>\n",
       "  <tbody>\n",
       "    <tr>\n",
       "      <th>0</th>\n",
       "      <td>15</td>\n",
       "      <td>OH</td>\n",
       "      <td>1455</td>\n",
       "      <td>JFK</td>\n",
       "      <td>184</td>\n",
       "      <td>1/7/2004</td>\n",
       "      <td>5935</td>\n",
       "      <td>BWI</td>\n",
       "      <td>0</td>\n",
       "      <td>3</td>\n",
       "      <td>7</td>\n",
       "      <td>N983CA</td>\n",
       "    </tr>\n",
       "    <tr>\n",
       "      <th>1</th>\n",
       "      <td>16</td>\n",
       "      <td>DH</td>\n",
       "      <td>1641</td>\n",
       "      <td>JFK</td>\n",
       "      <td>228</td>\n",
       "      <td>1/19/2004</td>\n",
       "      <td>7810</td>\n",
       "      <td>IAD</td>\n",
       "      <td>0</td>\n",
       "      <td>1</td>\n",
       "      <td>19</td>\n",
       "      <td>N327UE</td>\n",
       "    </tr>\n",
       "    <tr>\n",
       "      <th>2</th>\n",
       "      <td>6</td>\n",
       "      <td>DL</td>\n",
       "      <td>630</td>\n",
       "      <td>LGA</td>\n",
       "      <td>214</td>\n",
       "      <td>1/21/2004</td>\n",
       "      <td>1740</td>\n",
       "      <td>DCA</td>\n",
       "      <td>0</td>\n",
       "      <td>3</td>\n",
       "      <td>21</td>\n",
       "      <td>N242DL</td>\n",
       "    </tr>\n",
       "    <tr>\n",
       "      <th>3</th>\n",
       "      <td>6</td>\n",
       "      <td>MQ</td>\n",
       "      <td>558</td>\n",
       "      <td>JFK</td>\n",
       "      <td>213</td>\n",
       "      <td>1/6/2004</td>\n",
       "      <td>4760</td>\n",
       "      <td>DCA</td>\n",
       "      <td>0</td>\n",
       "      <td>2</td>\n",
       "      <td>6</td>\n",
       "      <td>N739MQ</td>\n",
       "    </tr>\n",
       "    <tr>\n",
       "      <th>4</th>\n",
       "      <td>18</td>\n",
       "      <td>DL</td>\n",
       "      <td>1828</td>\n",
       "      <td>LGA</td>\n",
       "      <td>214</td>\n",
       "      <td>1/21/2004</td>\n",
       "      <td>1764</td>\n",
       "      <td>DCA</td>\n",
       "      <td>0</td>\n",
       "      <td>3</td>\n",
       "      <td>21</td>\n",
       "      <td>N242DL</td>\n",
       "    </tr>\n",
       "  </tbody>\n",
       "</table>\n",
       "</div>"
      ],
      "text/plain": [
       "   CRS_DEP_TIME CARRIER  DEP_TIME DEST  DISTANCE    FL_DATE  FL_NUM ORIGIN  \\\n",
       "0            15      OH      1455  JFK       184   1/7/2004    5935    BWI   \n",
       "1            16      DH      1641  JFK       228  1/19/2004    7810    IAD   \n",
       "2             6      DL       630  LGA       214  1/21/2004    1740    DCA   \n",
       "3             6      MQ       558  JFK       213   1/6/2004    4760    DCA   \n",
       "4            18      DL      1828  LGA       214  1/21/2004    1764    DCA   \n",
       "\n",
       "   Weather  DAY_WEEK  DAY_OF_MONTH TAIL_NUM  \n",
       "0        0         3             7   N983CA  \n",
       "1        0         1            19   N327UE  \n",
       "2        0         3            21   N242DL  \n",
       "3        0         2             6   N739MQ  \n",
       "4        0         3            21   N242DL  "
      ]
     },
     "execution_count": 148,
     "metadata": {},
     "output_type": "execute_result"
    }
   ],
   "source": [
    "test = pd.read_csv('FlightDelaysTesting.csv')\n",
    "test.head()"
   ]
  },
  {
   "cell_type": "code",
   "execution_count": 149,
   "id": "81e285b2",
   "metadata": {},
   "outputs": [],
   "source": [
    "test.drop(columns=['FL_DATE','DAY_WEEK','DAY_OF_MONTH','TAIL_NUM'], inplace=True)\n",
    "test.columns = [c.replace(' ', '_') for c in test.columns]"
   ]
  },
  {
   "cell_type": "code",
   "execution_count": 150,
   "id": "1dd4c728",
   "metadata": {},
   "outputs": [
    {
     "name": "stdout",
     "output_type": "stream",
     "text": [
      "   CRS_DEP_TIME  DEP_TIME  DAY_WEEK  DISTANCE  FL_NUM  Weather  CARRIER_CO  \\\n",
      "0            15      1455       0.0       184    5935        0         0.0   \n",
      "1            16      1641       0.0       228    7810        0         0.0   \n",
      "2             6       630       0.0       214    1740        0         0.0   \n",
      "3             6       558       0.0       213    4760        0         0.0   \n",
      "4            18      1828       0.0       214    1764        0         0.0   \n",
      "\n",
      "   CARRIER_DH  CARRIER_DL  CARRIER_MQ  CARRIER_OH  CARRIER_RU  CARRIER_UA  \\\n",
      "0         0.0         0.0         0.0         0.0         0.0         0.0   \n",
      "1         0.0         0.0         0.0         0.0         0.0         0.0   \n",
      "2         0.0         0.0         0.0         0.0         0.0         0.0   \n",
      "3         0.0         0.0         0.0         0.0         0.0         0.0   \n",
      "4         0.0         0.0         0.0         0.0         0.0         0.0   \n",
      "\n",
      "   CARRIER_US  DEST_EWR  DEST_JFK  DEST_LGA  ORIGIN_BWI  ORIGIN_DCA  \\\n",
      "0         0.0       0.0       0.0       0.0         0.0         0.0   \n",
      "1         0.0       0.0       0.0       0.0         0.0         0.0   \n",
      "2         0.0       0.0       0.0       0.0         0.0         0.0   \n",
      "3         0.0       0.0       0.0       0.0         0.0         0.0   \n",
      "4         0.0       0.0       0.0       0.0         0.0         0.0   \n",
      "\n",
      "   ORIGIN_IAD  \n",
      "0         0.0  \n",
      "1         0.0  \n",
      "2         0.0  \n",
      "3         0.0  \n",
      "4         0.0  \n"
     ]
    },
    {
     "data": {
      "text/plain": [
       "(5, 20)"
      ]
     },
     "execution_count": 150,
     "metadata": {},
     "output_type": "execute_result"
    }
   ],
   "source": [
    "coloumn_names =['CRS_DEP_TIME','DEP_TIME','DAY_WEEK','DISTANCE','FL_NUM','Weather','CARRIER_CO','CARRIER_DH','CARRIER_DL','CARRIER_MQ','CARRIER_OH','CARRIER_RU','CARRIER_UA','CARRIER_US','DEST_EWR','DEST_JFK','DEST_LGA','ORIGIN_BWI','ORIGIN_DCA','ORIGIN_IAD']\n",
    "test = test.reindex(columns = coloumn_names)\n",
    "a=test.fillna(0)\n",
    "print(a)\n",
    "a.shape"
   ]
  },
  {
   "cell_type": "code",
   "execution_count": 152,
   "id": "64403616",
   "metadata": {},
   "outputs": [
    {
     "data": {
      "text/plain": [
       "array([0, 0, 0, 0, 0], dtype=uint8)"
      ]
     },
     "execution_count": 152,
     "metadata": {},
     "output_type": "execute_result"
    }
   ],
   "source": [
    "logit_reg_pred = logit_reg.predict(a)\n",
    "logit_reg_pred"
   ]
  },
  {
   "cell_type": "code",
   "execution_count": null,
   "id": "bd3ba680",
   "metadata": {},
   "outputs": [],
   "source": []
  },
  {
   "cell_type": "code",
   "execution_count": null,
   "id": "3f94419d",
   "metadata": {},
   "outputs": [],
   "source": []
  }
 ],
 "metadata": {
  "kernelspec": {
   "display_name": "Python 3 (ipykernel)",
   "language": "python",
   "name": "python3"
  },
  "language_info": {
   "codemirror_mode": {
    "name": "ipython",
    "version": 3
   },
   "file_extension": ".py",
   "mimetype": "text/x-python",
   "name": "python",
   "nbconvert_exporter": "python",
   "pygments_lexer": "ipython3",
   "version": "3.9.12"
  }
 },
 "nbformat": 4,
 "nbformat_minor": 5
}
