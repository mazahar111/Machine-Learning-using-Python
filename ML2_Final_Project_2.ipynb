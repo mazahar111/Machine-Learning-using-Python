{
 "cells": [
  {
   "cell_type": "code",
   "execution_count": 114,
   "id": "ca637c8d",
   "metadata": {},
   "outputs": [],
   "source": [
    "import pandas as pd\n",
    "import seaborn as sns\n",
    "import matplotlib.pyplot as plt\n",
    "import numpy as np\n",
    "import sqlite3\n",
    "from scipy import stats\n",
    "import statsmodels.api as sm\n",
    "\n",
    "from sklearn import preprocessing\n",
    "from sklearn.ensemble import RandomForestRegressor\n",
    "from sklearn.model_selection import train_test_split\n",
    "from sklearn.metrics import mean_absolute_error\n",
    "from sklearn.model_selection import GridSearchCV\n",
    "\n",
    "import xgboost as xg"
   ]
  },
  {
   "cell_type": "code",
   "execution_count": 115,
   "id": "5bba0453",
   "metadata": {},
   "outputs": [
    {
     "name": "stdout",
     "output_type": "stream",
     "text": [
      "Requirement already satisfied: xgboost in c:\\users\\aishwarya\\anaconda3\\lib\\site-packages (1.7.1)\n",
      "Requirement already satisfied: numpy in c:\\users\\aishwarya\\anaconda3\\lib\\site-packages (from xgboost) (1.21.5)\n",
      "Requirement already satisfied: scipy in c:\\users\\aishwarya\\anaconda3\\lib\\site-packages (from xgboost) (1.7.3)\n",
      "Note: you may need to restart the kernel to use updated packages.\n"
     ]
    }
   ],
   "source": [
    "pip install xgboost"
   ]
  },
  {
   "cell_type": "code",
   "execution_count": 116,
   "id": "6f2b2d34",
   "metadata": {},
   "outputs": [],
   "source": [
    "df = pd.read_csv('Webdevelopment.csv')"
   ]
  },
  {
   "cell_type": "code",
   "execution_count": 117,
   "id": "7ee34bb3",
   "metadata": {},
   "outputs": [
    {
     "data": {
      "text/html": [
       "<div>\n",
       "<style scoped>\n",
       "    .dataframe tbody tr th:only-of-type {\n",
       "        vertical-align: middle;\n",
       "    }\n",
       "\n",
       "    .dataframe tbody tr th {\n",
       "        vertical-align: top;\n",
       "    }\n",
       "\n",
       "    .dataframe thead th {\n",
       "        text-align: right;\n",
       "    }\n",
       "</style>\n",
       "<table border=\"1\" class=\"dataframe\">\n",
       "  <thead>\n",
       "    <tr style=\"text-align: right;\">\n",
       "      <th></th>\n",
       "      <th>course_id</th>\n",
       "      <th>course_title</th>\n",
       "      <th>url</th>\n",
       "      <th>price</th>\n",
       "      <th>num_subscribers</th>\n",
       "      <th>num_reviews</th>\n",
       "      <th>num_lectures</th>\n",
       "      <th>level</th>\n",
       "      <th>rating</th>\n",
       "      <th>content_duration</th>\n",
       "      <th>published_timestamp</th>\n",
       "      <th>subject</th>\n",
       "      <th>Date</th>\n",
       "      <th>Free/Paid</th>\n",
       "    </tr>\n",
       "  </thead>\n",
       "  <tbody>\n",
       "    <tr>\n",
       "      <th>0</th>\n",
       "      <td>41295</td>\n",
       "      <td>Learn HTML5 Programming From Scratch</td>\n",
       "      <td>https://www.udemy.com/learn-html5-programming-...</td>\n",
       "      <td>0</td>\n",
       "      <td>268923</td>\n",
       "      <td>8629</td>\n",
       "      <td>45</td>\n",
       "      <td>Beginner Level</td>\n",
       "      <td>0.82</td>\n",
       "      <td>10.5</td>\n",
       "      <td>2013-02-14T07:03:41Z</td>\n",
       "      <td>Web Development</td>\n",
       "      <td>2013-02-14</td>\n",
       "      <td>Free</td>\n",
       "    </tr>\n",
       "    <tr>\n",
       "      <th>1</th>\n",
       "      <td>59014</td>\n",
       "      <td>Coding for Entrepreneurs Basic</td>\n",
       "      <td>https://www.udemy.com/coding-for-entrepreneurs...</td>\n",
       "      <td>0</td>\n",
       "      <td>161029</td>\n",
       "      <td>279</td>\n",
       "      <td>27</td>\n",
       "      <td>Expert Level</td>\n",
       "      <td>0.69</td>\n",
       "      <td>3.5</td>\n",
       "      <td>2013-06-09T15:51:55Z</td>\n",
       "      <td>Web Development</td>\n",
       "      <td>2013-06-09</td>\n",
       "      <td>Free</td>\n",
       "    </tr>\n",
       "    <tr>\n",
       "      <th>2</th>\n",
       "      <td>625204</td>\n",
       "      <td>The Web Developer Bootcamp</td>\n",
       "      <td>https://www.udemy.com/the-web-developer-bootcamp/</td>\n",
       "      <td>200</td>\n",
       "      <td>121584</td>\n",
       "      <td>27445</td>\n",
       "      <td>342</td>\n",
       "      <td>Beginner Level</td>\n",
       "      <td>0.89</td>\n",
       "      <td>43.0</td>\n",
       "      <td>2015-11-02T21:13:27Z</td>\n",
       "      <td>Web Development</td>\n",
       "      <td>2015-11-02</td>\n",
       "      <td>Paid</td>\n",
       "    </tr>\n",
       "    <tr>\n",
       "      <th>3</th>\n",
       "      <td>173548</td>\n",
       "      <td>Build Your First Website in 1 Week with HTML5 ...</td>\n",
       "      <td>https://www.udemy.com/build-your-first-website...</td>\n",
       "      <td>0</td>\n",
       "      <td>120291</td>\n",
       "      <td>5924</td>\n",
       "      <td>30</td>\n",
       "      <td>All Levels</td>\n",
       "      <td>0.78</td>\n",
       "      <td>3.0</td>\n",
       "      <td>2014-04-08T16:21:30Z</td>\n",
       "      <td>Web Development</td>\n",
       "      <td>2014-04-08</td>\n",
       "      <td>Free</td>\n",
       "    </tr>\n",
       "    <tr>\n",
       "      <th>4</th>\n",
       "      <td>764164</td>\n",
       "      <td>The Complete Web Developer Course 2.0</td>\n",
       "      <td>https://www.udemy.com/the-complete-web-develop...</td>\n",
       "      <td>200</td>\n",
       "      <td>114512</td>\n",
       "      <td>22412</td>\n",
       "      <td>304</td>\n",
       "      <td>Beginner Level</td>\n",
       "      <td>0.55</td>\n",
       "      <td>30.5</td>\n",
       "      <td>2016-03-08T22:28:36Z</td>\n",
       "      <td>Web Development</td>\n",
       "      <td>2016-03-08</td>\n",
       "      <td>Paid</td>\n",
       "    </tr>\n",
       "  </tbody>\n",
       "</table>\n",
       "</div>"
      ],
      "text/plain": [
       "   course_id                                       course_title  \\\n",
       "0      41295               Learn HTML5 Programming From Scratch   \n",
       "1      59014                     Coding for Entrepreneurs Basic   \n",
       "2     625204                         The Web Developer Bootcamp   \n",
       "3     173548  Build Your First Website in 1 Week with HTML5 ...   \n",
       "4     764164              The Complete Web Developer Course 2.0   \n",
       "\n",
       "                                                 url  price  num_subscribers  \\\n",
       "0  https://www.udemy.com/learn-html5-programming-...      0           268923   \n",
       "1  https://www.udemy.com/coding-for-entrepreneurs...      0           161029   \n",
       "2  https://www.udemy.com/the-web-developer-bootcamp/    200           121584   \n",
       "3  https://www.udemy.com/build-your-first-website...      0           120291   \n",
       "4  https://www.udemy.com/the-complete-web-develop...    200           114512   \n",
       "\n",
       "   num_reviews  num_lectures           level  rating  content_duration  \\\n",
       "0         8629            45  Beginner Level    0.82              10.5   \n",
       "1          279            27    Expert Level    0.69               3.5   \n",
       "2        27445           342  Beginner Level    0.89              43.0   \n",
       "3         5924            30      All Levels    0.78               3.0   \n",
       "4        22412           304  Beginner Level    0.55              30.5   \n",
       "\n",
       "    published_timestamp          subject        Date Free/Paid  \n",
       "0  2013-02-14T07:03:41Z  Web Development  2013-02-14      Free  \n",
       "1  2013-06-09T15:51:55Z  Web Development  2013-06-09      Free  \n",
       "2  2015-11-02T21:13:27Z  Web Development  2015-11-02      Paid  \n",
       "3  2014-04-08T16:21:30Z  Web Development  2014-04-08      Free  \n",
       "4  2016-03-08T22:28:36Z  Web Development  2016-03-08      Paid  "
      ]
     },
     "execution_count": 117,
     "metadata": {},
     "output_type": "execute_result"
    }
   ],
   "source": [
    "df.head()"
   ]
  },
  {
   "cell_type": "code",
   "execution_count": 118,
   "id": "e3fe208a",
   "metadata": {
    "scrolled": true
   },
   "outputs": [
    {
     "name": "stdout",
     "output_type": "stream",
     "text": [
      "<class 'pandas.core.frame.DataFrame'>\n",
      "RangeIndex: 3676 entries, 0 to 3675\n",
      "Data columns (total 14 columns):\n",
      " #   Column               Non-Null Count  Dtype  \n",
      "---  ------               --------------  -----  \n",
      " 0   course_id            3676 non-null   int64  \n",
      " 1   course_title         3676 non-null   object \n",
      " 2   url                  3676 non-null   object \n",
      " 3   price                3676 non-null   int64  \n",
      " 4   num_subscribers      3676 non-null   int64  \n",
      " 5   num_reviews          3676 non-null   int64  \n",
      " 6   num_lectures         3676 non-null   int64  \n",
      " 7   level                3676 non-null   object \n",
      " 8   rating               3676 non-null   float64\n",
      " 9   content_duration     3676 non-null   float64\n",
      " 10  published_timestamp  3676 non-null   object \n",
      " 11  subject              3676 non-null   object \n",
      " 12  Date                 3676 non-null   object \n",
      " 13  Free/Paid            3676 non-null   object \n",
      "dtypes: float64(2), int64(5), object(7)\n",
      "memory usage: 402.2+ KB\n"
     ]
    }
   ],
   "source": [
    "df.info()"
   ]
  },
  {
   "cell_type": "code",
   "execution_count": null,
   "id": "c5c5e427",
   "metadata": {},
   "outputs": [],
   "source": []
  },
  {
   "cell_type": "code",
   "execution_count": 119,
   "id": "89304634",
   "metadata": {},
   "outputs": [
    {
     "name": "stdout",
     "output_type": "stream",
     "text": [
      "2011-07-09 - 2017-07-06\n"
     ]
    }
   ],
   "source": [
    "print(min(df['Date']),'-',max(df['Date']))"
   ]
  },
  {
   "cell_type": "markdown",
   "id": "9b8b2a94",
   "metadata": {},
   "source": [
    "### This is the date range that covers this dataset"
   ]
  },
  {
   "cell_type": "code",
   "execution_count": 120,
   "id": "a92b22b3",
   "metadata": {},
   "outputs": [
    {
     "data": {
      "image/png": "[encoded data removed]",
      "text/plain": [
       "<Figure size 1152x576 with 2 Axes>"
      ]
     },
     "metadata": {
      "needs_background": "light"
     },
     "output_type": "display_data"
    }
   ],
   "source": [
    "plt.figure(figsize=(16,8))\n",
    "sns.heatmap(df.corr())\n",
    "plt.show()"
   ]
  },
  {
   "cell_type": "code",
   "execution_count": 121,
   "id": "16027bb9",
   "metadata": {},
   "outputs": [
    {
     "data": {
      "image/png": "[encoded data removed]",
      "text/plain": [
       "<Figure size 1152x576 with 1 Axes>"
      ]
     },
     "metadata": {
      "needs_background": "light"
     },
     "output_type": "display_data"
    },
    {
     "name": "stdout",
     "output_type": "stream",
     "text": [
      "Mean:66.11534276387377\n"
     ]
    },
    {
     "data": {
      "image/png": "[encoded data removed]",
      "text/plain": [
       "<Figure size 1152x576 with 1 Axes>"
      ]
     },
     "metadata": {
      "needs_background": "light"
     },
     "output_type": "display_data"
    },
    {
     "name": "stdout",
     "output_type": "stream",
     "text": [
      "Mean:3199.260881392818\n"
     ]
    },
    {
     "data": {
      "image/png": "[encoded data removed]",
      "text/plain": [
       "<Figure size 1152x576 with 1 Axes>"
      ]
     },
     "metadata": {
      "needs_background": "light"
     },
     "output_type": "display_data"
    },
    {
     "name": "stdout",
     "output_type": "stream",
     "text": [
      "Mean:156.30984766050054\n"
     ]
    },
    {
     "data": {
      "image/png": "[encoded data removed]",
      "text/plain": [
       "<Figure size 1152x576 with 1 Axes>"
      ]
     },
     "metadata": {
      "needs_background": "light"
     },
     "output_type": "display_data"
    },
    {
     "name": "stdout",
     "output_type": "stream",
     "text": [
      "Mean:40.129760609357994\n"
     ]
    },
    {
     "data": {
      "image/png": "[encoded data removed]",
      "text/plain": [
       "<Figure size 1152x576 with 1 Axes>"
      ]
     },
     "metadata": {
      "needs_background": "light"
     },
     "output_type": "display_data"
    },
    {
     "name": "stdout",
     "output_type": "stream",
     "text": [
      "Mean:0.6108677910772597\n"
     ]
    },
    {
     "data": {
      "image/png": "[encoded data removed]",
      "text/plain": [
       "<Figure size 1152x576 with 1 Axes>"
      ]
     },
     "metadata": {
      "needs_background": "light"
     },
     "output_type": "display_data"
    },
    {
     "name": "stdout",
     "output_type": "stream",
     "text": [
      "Mean:4.096137105549593\n"
     ]
    }
   ],
   "source": [
    "for column in df.columns:\n",
    "    if df[column].dtype != 'object' and column != 'course_id':\n",
    "        plt.figure(figsize=(16,8))\n",
    "        sns.histplot(data=df,x=column)\n",
    "        if np.std(df[column]) > 100:\n",
    "            plt.yscale('log')\n",
    "        else:\n",
    "            plt.yscale('linear')\n",
    "        plt.title(label= column.capitalize()+' distribution of courses in the dataset')\n",
    "        plt.show()\n",
    "        print('Mean:'+str(np.mean(df[column])))"
   ]
  },
  {
   "cell_type": "code",
   "execution_count": 122,
   "id": "786ce255",
   "metadata": {},
   "outputs": [
    {
     "data": {
      "image/png": "[encoded data removed]",
      "text/plain": [
       "<Figure size 1152x576 with 1 Axes>"
      ]
     },
     "metadata": {
      "needs_background": "light"
     },
     "output_type": "display_data"
    }
   ],
   "source": [
    "colors = ['blue','red','green','orange']\n",
    "plt.figure(figsize=(16,8))\n",
    "sns.barplot(x=df['level'].value_counts().keys(),\n",
    "            y=df['level'].value_counts())\n",
    "plt.title(label='Level of course distribution in dataset')\n",
    "plt.show()"
   ]
  },
  {
   "cell_type": "code",
   "execution_count": 123,
   "id": "efaaccf0",
   "metadata": {},
   "outputs": [],
   "source": [
    "levels = ['All Levels','Beginner Level','Intermediate Level','Expert Level']\n",
    "numbers = []\n",
    "for i in df['subject'].unique():\n",
    "    tempDF = df[df['subject']==i]\n",
    "    for j in levels:\n",
    "        numbers.append([i,j,len(tempDF[tempDF['level']==j])])\n",
    "data = {\n",
    "    'Subject':[i[0] for i in numbers],\n",
    "    'Level':[i[1] for i in numbers],\n",
    "    'Count':[i[2] for i in numbers]\n",
    "}\n",
    "splitDF = pd.DataFrame(numbers,columns=['Subject','Level','Count'])"
   ]
  },
  {
   "cell_type": "code",
   "execution_count": 124,
   "id": "91cf1ff5",
   "metadata": {},
   "outputs": [
    {
     "data": {
      "image/png": "[encoded data removed]",
      "text/plain": [
       "<Figure size 1152x576 with 1 Axes>"
      ]
     },
     "metadata": {
      "needs_background": "light"
     },
     "output_type": "display_data"
    }
   ],
   "source": [
    "plt.figure(figsize=(16,8))\n",
    "sns.barplot(data=splitDF,x='Subject',y='Count',hue='Level')\n",
    "plt.title(label='Level distribution matched to each subject.')\n",
    "plt.show()"
   ]
  },
  {
   "cell_type": "code",
   "execution_count": 125,
   "id": "2075b8e0",
   "metadata": {},
   "outputs": [
    {
     "data": {
      "image/png": "[encoded data removed]",
      "text/plain": [
       "<Figure size 1152x576 with 1 Axes>"
      ]
     },
     "metadata": {
      "needs_background": "light"
     },
     "output_type": "display_data"
    }
   ],
   "source": [
    "plt.figure(figsize=(16,8))\n",
    "sns.histplot(data=df,x='Free/Paid')\n",
    "plt.title(label='Free and paid course distribution in the dataset')\n",
    "plt.show()"
   ]
  },
  {
   "cell_type": "code",
   "execution_count": 126,
   "id": "e76ef3a7",
   "metadata": {
    "scrolled": true
   },
   "outputs": [
    {
     "data": {
      "image/png": "[encoded data removed]",
      "text/plain": [
       "<Figure size 1152x576 with 1 Axes>"
      ]
     },
     "metadata": {
      "needs_background": "light"
     },
     "output_type": "display_data"
    }
   ],
   "source": [
    "plt.figure(figsize=(16,8))\n",
    "sns.barplot(data=df,x='subject',y='price')\n",
    "plt.title(label='Average price for a course for each subject')\n",
    "plt.show()"
   ]
  },
  {
   "cell_type": "code",
   "execution_count": 127,
   "id": "cd255723",
   "metadata": {
    "scrolled": true
   },
   "outputs": [
    {
     "data": {
      "image/png": "[encoded data removed]",
      "text/plain": [
       "<Figure size 1152x576 with 1 Axes>"
      ]
     },
     "metadata": {
      "needs_background": "light"
     },
     "output_type": "display_data"
    }
   ],
   "source": [
    "plt.figure(figsize=(16,8))\n",
    "sns.barplot(data=df,x='Free/Paid',y='num_subscribers',hue='subject')\n",
    "plt.title(label='Subscriber counts for free and paid course sorted by subject')\n",
    "plt.show()"
   ]
  },
  {
   "cell_type": "code",
   "execution_count": 128,
   "id": "e448f30d",
   "metadata": {},
   "outputs": [],
   "source": [
    "le = preprocessing.LabelEncoder()\n",
    "le.fit(list(df['Free/Paid']))\n",
    "newList = le.transform(list(df['Free/Paid']))\n",
    "df['Encoded_Free/Paid'] = newList\n",
    "\n",
    "le = preprocessing.LabelEncoder()\n",
    "le.fit(list(df['Date']))\n",
    "newList = le.transform(list(df['Date']))\n",
    "df['Encoded_Date'] = newList\n",
    "\n",
    "le = preprocessing.LabelEncoder()\n",
    "le.fit(list(df['subject']))\n",
    "newList = le.transform(list(df['subject']))\n",
    "df['Encoded_Subject'] = newList\n",
    "\n",
    "le = preprocessing.LabelEncoder()\n",
    "le.fit(list(df['level']))\n",
    "newList = le.transform(list(df['level']))\n",
    "df['Encoded_Level'] = newList\n",
    "\n",
    "le = preprocessing.LabelEncoder()\n",
    "le.fit(list(df['Date']))\n",
    "newList = le.transform(list(df['Date']))\n",
    "df['Encoded_Date'] = newList"
   ]
  },
  {
   "cell_type": "code",
   "execution_count": 129,
   "id": "a1558391",
   "metadata": {},
   "outputs": [
    {
     "data": {
      "text/html": [
       "<div>\n",
       "<style scoped>\n",
       "    .dataframe tbody tr th:only-of-type {\n",
       "        vertical-align: middle;\n",
       "    }\n",
       "\n",
       "    .dataframe tbody tr th {\n",
       "        vertical-align: top;\n",
       "    }\n",
       "\n",
       "    .dataframe thead th {\n",
       "        text-align: right;\n",
       "    }\n",
       "</style>\n",
       "<table border=\"1\" class=\"dataframe\">\n",
       "  <thead>\n",
       "    <tr style=\"text-align: right;\">\n",
       "      <th></th>\n",
       "      <th>course_id</th>\n",
       "      <th>course_title</th>\n",
       "      <th>url</th>\n",
       "      <th>price</th>\n",
       "      <th>num_subscribers</th>\n",
       "      <th>num_reviews</th>\n",
       "      <th>num_lectures</th>\n",
       "      <th>level</th>\n",
       "      <th>rating</th>\n",
       "      <th>content_duration</th>\n",
       "      <th>published_timestamp</th>\n",
       "      <th>subject</th>\n",
       "      <th>Date</th>\n",
       "      <th>Free/Paid</th>\n",
       "      <th>Encoded_Free/Paid</th>\n",
       "      <th>Encoded_Date</th>\n",
       "      <th>Encoded_Subject</th>\n",
       "      <th>Encoded_Level</th>\n",
       "    </tr>\n",
       "  </thead>\n",
       "  <tbody>\n",
       "    <tr>\n",
       "      <th>0</th>\n",
       "      <td>41295</td>\n",
       "      <td>Learn HTML5 Programming From Scratch</td>\n",
       "      <td>https://www.udemy.com/learn-html5-programming-...</td>\n",
       "      <td>0</td>\n",
       "      <td>268923</td>\n",
       "      <td>8629</td>\n",
       "      <td>45</td>\n",
       "      <td>Beginner Level</td>\n",
       "      <td>0.82</td>\n",
       "      <td>10.5</td>\n",
       "      <td>2013-02-14T07:03:41Z</td>\n",
       "      <td>Web Development</td>\n",
       "      <td>2013-02-14</td>\n",
       "      <td>Free</td>\n",
       "      <td>0</td>\n",
       "      <td>53</td>\n",
       "      <td>3</td>\n",
       "      <td>1</td>\n",
       "    </tr>\n",
       "    <tr>\n",
       "      <th>1</th>\n",
       "      <td>59014</td>\n",
       "      <td>Coding for Entrepreneurs Basic</td>\n",
       "      <td>https://www.udemy.com/coding-for-entrepreneurs...</td>\n",
       "      <td>0</td>\n",
       "      <td>161029</td>\n",
       "      <td>279</td>\n",
       "      <td>27</td>\n",
       "      <td>Expert Level</td>\n",
       "      <td>0.69</td>\n",
       "      <td>3.5</td>\n",
       "      <td>2013-06-09T15:51:55Z</td>\n",
       "      <td>Web Development</td>\n",
       "      <td>2013-06-09</td>\n",
       "      <td>Free</td>\n",
       "      <td>0</td>\n",
       "      <td>93</td>\n",
       "      <td>3</td>\n",
       "      <td>2</td>\n",
       "    </tr>\n",
       "    <tr>\n",
       "      <th>2</th>\n",
       "      <td>625204</td>\n",
       "      <td>The Web Developer Bootcamp</td>\n",
       "      <td>https://www.udemy.com/the-web-developer-bootcamp/</td>\n",
       "      <td>200</td>\n",
       "      <td>121584</td>\n",
       "      <td>27445</td>\n",
       "      <td>342</td>\n",
       "      <td>Beginner Level</td>\n",
       "      <td>0.89</td>\n",
       "      <td>43.0</td>\n",
       "      <td>2015-11-02T21:13:27Z</td>\n",
       "      <td>Web Development</td>\n",
       "      <td>2015-11-02</td>\n",
       "      <td>Paid</td>\n",
       "      <td>1</td>\n",
       "      <td>688</td>\n",
       "      <td>3</td>\n",
       "      <td>1</td>\n",
       "    </tr>\n",
       "    <tr>\n",
       "      <th>3</th>\n",
       "      <td>173548</td>\n",
       "      <td>Build Your First Website in 1 Week with HTML5 ...</td>\n",
       "      <td>https://www.udemy.com/build-your-first-website...</td>\n",
       "      <td>0</td>\n",
       "      <td>120291</td>\n",
       "      <td>5924</td>\n",
       "      <td>30</td>\n",
       "      <td>All Levels</td>\n",
       "      <td>0.78</td>\n",
       "      <td>3.0</td>\n",
       "      <td>2014-04-08T16:21:30Z</td>\n",
       "      <td>Web Development</td>\n",
       "      <td>2014-04-08</td>\n",
       "      <td>Free</td>\n",
       "      <td>0</td>\n",
       "      <td>251</td>\n",
       "      <td>3</td>\n",
       "      <td>0</td>\n",
       "    </tr>\n",
       "    <tr>\n",
       "      <th>4</th>\n",
       "      <td>764164</td>\n",
       "      <td>The Complete Web Developer Course 2.0</td>\n",
       "      <td>https://www.udemy.com/the-complete-web-develop...</td>\n",
       "      <td>200</td>\n",
       "      <td>114512</td>\n",
       "      <td>22412</td>\n",
       "      <td>304</td>\n",
       "      <td>Beginner Level</td>\n",
       "      <td>0.55</td>\n",
       "      <td>30.5</td>\n",
       "      <td>2016-03-08T22:28:36Z</td>\n",
       "      <td>Web Development</td>\n",
       "      <td>2016-03-08</td>\n",
       "      <td>Paid</td>\n",
       "      <td>1</td>\n",
       "      <td>799</td>\n",
       "      <td>3</td>\n",
       "      <td>1</td>\n",
       "    </tr>\n",
       "  </tbody>\n",
       "</table>\n",
       "</div>"
      ],
      "text/plain": [
       "   course_id                                       course_title  \\\n",
       "0      41295               Learn HTML5 Programming From Scratch   \n",
       "1      59014                     Coding for Entrepreneurs Basic   \n",
       "2     625204                         The Web Developer Bootcamp   \n",
       "3     173548  Build Your First Website in 1 Week with HTML5 ...   \n",
       "4     764164              The Complete Web Developer Course 2.0   \n",
       "\n",
       "                                                 url  price  num_subscribers  \\\n",
       "0  https://www.udemy.com/learn-html5-programming-...      0           268923   \n",
       "1  https://www.udemy.com/coding-for-entrepreneurs...      0           161029   \n",
       "2  https://www.udemy.com/the-web-developer-bootcamp/    200           121584   \n",
       "3  https://www.udemy.com/build-your-first-website...      0           120291   \n",
       "4  https://www.udemy.com/the-complete-web-develop...    200           114512   \n",
       "\n",
       "   num_reviews  num_lectures           level  rating  content_duration  \\\n",
       "0         8629            45  Beginner Level    0.82              10.5   \n",
       "1          279            27    Expert Level    0.69               3.5   \n",
       "2        27445           342  Beginner Level    0.89              43.0   \n",
       "3         5924            30      All Levels    0.78               3.0   \n",
       "4        22412           304  Beginner Level    0.55              30.5   \n",
       "\n",
       "    published_timestamp          subject        Date Free/Paid  \\\n",
       "0  2013-02-14T07:03:41Z  Web Development  2013-02-14      Free   \n",
       "1  2013-06-09T15:51:55Z  Web Development  2013-06-09      Free   \n",
       "2  2015-11-02T21:13:27Z  Web Development  2015-11-02      Paid   \n",
       "3  2014-04-08T16:21:30Z  Web Development  2014-04-08      Free   \n",
       "4  2016-03-08T22:28:36Z  Web Development  2016-03-08      Paid   \n",
       "\n",
       "   Encoded_Free/Paid  Encoded_Date  Encoded_Subject  Encoded_Level  \n",
       "0                  0            53                3              1  \n",
       "1                  0            93                3              2  \n",
       "2                  1           688                3              1  \n",
       "3                  0           251                3              0  \n",
       "4                  1           799                3              1  "
      ]
     },
     "execution_count": 129,
     "metadata": {},
     "output_type": "execute_result"
    }
   ],
   "source": [
    "df.head()"
   ]
  },
  {
   "cell_type": "code",
   "execution_count": 130,
   "id": "e75babcb",
   "metadata": {},
   "outputs": [],
   "source": [
    "numericalFeatures = []\n",
    "for i in df.columns:\n",
    "    if df[i].dtype != 'object':\n",
    "        numericalFeatures.append(i)\n",
    "features = [i for i in numericalFeatures if i != 'price']\n",
    "X = df[features]\n",
    "y = df[['price']]\n",
    "\n",
    "### Sandardization of data ###\n",
    "from sklearn.preprocessing import StandardScaler\n",
    "PredictorScaler=StandardScaler()\n",
    "TargetVarScaler=StandardScaler()\n",
    " \n",
    "# Storing the fit object for later reference\n",
    "PredictorScalerFit=PredictorScaler.fit(X)\n",
    "TargetVarScalerFit=TargetVarScaler.fit(y)\n",
    " \n",
    "# Generating the standardized values of X and y\n",
    "X=PredictorScalerFit.transform(X)\n",
    "y=TargetVarScalerFit.transform(y)\n",
    " \n",
    "\n",
    "X_train, X_test, y_train, y_test = train_test_split(X, y, test_size=0.30, random_state=42)"
   ]
  },
  {
   "cell_type": "code",
   "execution_count": 131,
   "id": "392da490",
   "metadata": {
    "scrolled": true
   },
   "outputs": [
    {
     "data": {
      "text/plain": [
       "array([[-1.8492816 , 28.01429034,  9.05640012, ..., -2.11477279,\n",
       "         1.19150508,  0.28995104],\n",
       "       [-1.79763532, 16.63941713,  0.13114266, ..., -1.98896756,\n",
       "         1.19150508,  1.33184746],\n",
       "       [-0.14733864, 12.4808738 , 29.16869286, ..., -0.11761472,\n",
       "         1.19150508,  0.28995104],\n",
       "       ...,\n",
       "       [ 1.11135106, -0.33728647, -0.16707852, ...,  1.1184217 ,\n",
       "        -1.21639634,  2.37374387],\n",
       "       [ 1.69903844, -0.33728647, -0.16707852, ...,  1.50212766,\n",
       "        -1.21639634, -0.75194537],\n",
       "       [ 1.62213594, -0.33728647, -0.16707852, ...,  1.49898253,\n",
       "        -1.21639634, -0.75194537]])"
      ]
     },
     "execution_count": 131,
     "metadata": {},
     "output_type": "execute_result"
    }
   ],
   "source": [
    "X"
   ]
  },
  {
   "cell_type": "code",
   "execution_count": 132,
   "id": "76843e9f",
   "metadata": {},
   "outputs": [
    {
     "name": "stdout",
     "output_type": "stream",
     "text": [
      "Requirement already satisfied: tensorflow in c:\\users\\aishwarya\\anaconda3\\lib\\site-packages (2.10.0)\n",
      "Requirement already satisfied: absl-py>=1.0.0 in c:\\users\\aishwarya\\anaconda3\\lib\\site-packages (from tensorflow) (1.2.0)\n",
      "Requirement already satisfied: keras-preprocessing>=1.1.1 in c:\\users\\aishwarya\\anaconda3\\lib\\site-packages (from tensorflow) (1.1.2)\n",
      "Requirement already satisfied: keras<2.11,>=2.10.0 in c:\\users\\aishwarya\\anaconda3\\lib\\site-packages (from tensorflow) (2.10.0)\n",
      "Requirement already satisfied: gast<=0.4.0,>=0.2.1 in c:\\users\\aishwarya\\anaconda3\\lib\\site-packages (from tensorflow) (0.4.0)\n",
      "Requirement already satisfied: numpy>=1.20 in c:\\users\\aishwarya\\anaconda3\\lib\\site-packages (from tensorflow) (1.21.5)\n",
      "Requirement already satisfied: google-pasta>=0.1.1 in c:\\users\\aishwarya\\anaconda3\\lib\\site-packages (from tensorflow) (0.2.0)\n",
      "Requirement already satisfied: setuptools in c:\\users\\aishwarya\\anaconda3\\lib\\site-packages (from tensorflow) (61.2.0)\n",
      "Requirement already satisfied: flatbuffers>=2.0 in c:\\users\\aishwarya\\anaconda3\\lib\\site-packages (from tensorflow) (2.0.7)\n",
      "Requirement already satisfied: tensorboard<2.11,>=2.10 in c:\\users\\aishwarya\\anaconda3\\lib\\site-packages (from tensorflow) (2.10.0)\n",
      "Requirement already satisfied: tensorflow-estimator<2.11,>=2.10.0 in c:\\users\\aishwarya\\anaconda3\\lib\\site-packages (from tensorflow) (2.10.0)\n",
      "Requirement already satisfied: tensorflow-io-gcs-filesystem>=0.23.1 in c:\\users\\aishwarya\\anaconda3\\lib\\site-packages (from tensorflow) (0.27.0)\n",
      "Requirement already satisfied: termcolor>=1.1.0 in c:\\users\\aishwarya\\anaconda3\\lib\\site-packages (from tensorflow) (2.0.1)\n",
      "Requirement already satisfied: h5py>=2.9.0 in c:\\users\\aishwarya\\anaconda3\\lib\\site-packages (from tensorflow) (3.6.0)\n",
      "Requirement already satisfied: astunparse>=1.6.0 in c:\\users\\aishwarya\\anaconda3\\lib\\site-packages (from tensorflow) (1.6.3)\n",
      "Requirement already satisfied: grpcio<2.0,>=1.24.3 in c:\\users\\aishwarya\\anaconda3\\lib\\site-packages (from tensorflow) (1.42.0)\n",
      "Requirement already satisfied: libclang>=13.0.0 in c:\\users\\aishwarya\\anaconda3\\lib\\site-packages (from tensorflow) (14.0.6)\n",
      "Requirement already satisfied: opt-einsum>=2.3.2 in c:\\users\\aishwarya\\anaconda3\\lib\\site-packages (from tensorflow) (3.3.0)\n",
      "Requirement already satisfied: wrapt>=1.11.0 in c:\\users\\aishwarya\\anaconda3\\lib\\site-packages (from tensorflow) (1.12.1)\n",
      "Requirement already satisfied: protobuf<3.20,>=3.9.2 in c:\\users\\aishwarya\\anaconda3\\lib\\site-packages (from tensorflow) (3.19.1)\n",
      "Requirement already satisfied: packaging in c:\\users\\aishwarya\\anaconda3\\lib\\site-packages (from tensorflow) (21.3)\n",
      "Requirement already satisfied: typing-extensions>=3.6.6 in c:\\users\\aishwarya\\anaconda3\\lib\\site-packages (from tensorflow) (4.1.1)\n",
      "Requirement already satisfied: six>=1.12.0 in c:\\users\\aishwarya\\anaconda3\\lib\\site-packages (from tensorflow) (1.16.0)\n",
      "Requirement already satisfied: wheel<1.0,>=0.23.0 in c:\\users\\aishwarya\\anaconda3\\lib\\site-packages (from astunparse>=1.6.0->tensorflow) (0.37.1)\n",
      "Requirement already satisfied: werkzeug>=1.0.1 in c:\\users\\aishwarya\\anaconda3\\lib\\site-packages (from tensorboard<2.11,>=2.10->tensorflow) (2.0.3)\n",
      "Requirement already satisfied: markdown>=2.6.8 in c:\\users\\aishwarya\\anaconda3\\lib\\site-packages (from tensorboard<2.11,>=2.10->tensorflow) (3.3.4)\n",
      "Requirement already satisfied: requests<3,>=2.21.0 in c:\\users\\aishwarya\\anaconda3\\lib\\site-packages (from tensorboard<2.11,>=2.10->tensorflow) (2.27.1)\n",
      "Requirement already satisfied: google-auth<3,>=1.6.3 in c:\\users\\aishwarya\\anaconda3\\lib\\site-packages (from tensorboard<2.11,>=2.10->tensorflow) (1.33.0)\n",
      "Requirement already satisfied: tensorboard-data-server<0.7.0,>=0.6.0 in c:\\users\\aishwarya\\anaconda3\\lib\\site-packages (from tensorboard<2.11,>=2.10->tensorflow) (0.6.1)\n",
      "Requirement already satisfied: tensorboard-plugin-wit>=1.6.0 in c:\\users\\aishwarya\\anaconda3\\lib\\site-packages (from tensorboard<2.11,>=2.10->tensorflow) (1.8.1)\n",
      "Requirement already satisfied: google-auth-oauthlib<0.5,>=0.4.1 in c:\\users\\aishwarya\\anaconda3\\lib\\site-packages (from tensorboard<2.11,>=2.10->tensorflow) (0.4.6)\n",
      "Requirement already satisfied: pyasn1-modules>=0.2.1 in c:\\users\\aishwarya\\anaconda3\\lib\\site-packages (from google-auth<3,>=1.6.3->tensorboard<2.11,>=2.10->tensorflow) (0.2.8)\n",
      "Requirement already satisfied: rsa<5,>=3.1.4 in c:\\users\\aishwarya\\anaconda3\\lib\\site-packages (from google-auth<3,>=1.6.3->tensorboard<2.11,>=2.10->tensorflow) (4.7.2)\n",
      "Requirement already satisfied: cachetools<5.0,>=2.0.0 in c:\\users\\aishwarya\\anaconda3\\lib\\site-packages (from google-auth<3,>=1.6.3->tensorboard<2.11,>=2.10->tensorflow) (4.2.2)\n",
      "Requirement already satisfied: requests-oauthlib>=0.7.0 in c:\\users\\aishwarya\\anaconda3\\lib\\site-packages (from google-auth-oauthlib<0.5,>=0.4.1->tensorboard<2.11,>=2.10->tensorflow) (1.3.1)\n",
      "Requirement already satisfied: pyasn1<0.5.0,>=0.4.6 in c:\\users\\aishwarya\\anaconda3\\lib\\site-packages (from pyasn1-modules>=0.2.1->google-auth<3,>=1.6.3->tensorboard<2.11,>=2.10->tensorflow) (0.4.8)\n",
      "Requirement already satisfied: idna<4,>=2.5 in c:\\users\\aishwarya\\anaconda3\\lib\\site-packages (from requests<3,>=2.21.0->tensorboard<2.11,>=2.10->tensorflow) (3.3)\n",
      "Requirement already satisfied: charset-normalizer~=2.0.0 in c:\\users\\aishwarya\\anaconda3\\lib\\site-packages (from requests<3,>=2.21.0->tensorboard<2.11,>=2.10->tensorflow) (2.0.4)\n",
      "Requirement already satisfied: certifi>=2017.4.17 in c:\\users\\aishwarya\\anaconda3\\lib\\site-packages (from requests<3,>=2.21.0->tensorboard<2.11,>=2.10->tensorflow) (2021.10.8)\n",
      "Requirement already satisfied: urllib3<1.27,>=1.21.1 in c:\\users\\aishwarya\\anaconda3\\lib\\site-packages (from requests<3,>=2.21.0->tensorboard<2.11,>=2.10->tensorflow) (1.26.9)\n",
      "Requirement already satisfied: oauthlib>=3.0.0 in c:\\users\\aishwarya\\anaconda3\\lib\\site-packages (from requests-oauthlib>=0.7.0->google-auth-oauthlib<0.5,>=0.4.1->tensorboard<2.11,>=2.10->tensorflow) (3.2.1)\n",
      "Requirement already satisfied: pyparsing!=3.0.5,>=2.0.2 in c:\\users\\aishwarya\\anaconda3\\lib\\site-packages (from packaging->tensorflow) (3.0.4)\n",
      "Requirement already satisfied: keras in c:\\users\\aishwarya\\anaconda3\\lib\\site-packages (2.10.0)\n"
     ]
    }
   ],
   "source": [
    "# Installing required libraries\n",
    "!pip install tensorflow\n",
    "!pip install keras"
   ]
  },
  {
   "cell_type": "code",
   "execution_count": 133,
   "id": "a08eff74",
   "metadata": {},
   "outputs": [],
   "source": [
    "# importing the libraries\n",
    "from keras.models import Sequential\n",
    "from keras.layers import Dense"
   ]
  },
  {
   "cell_type": "code",
   "execution_count": 134,
   "id": "1d51bf69",
   "metadata": {
    "scrolled": false
   },
   "outputs": [
    {
     "name": "stdout",
     "output_type": "stream",
     "text": [
      "Epoch 1/5\n",
      "172/172 [==============================] - 1s 2ms/step - loss: 0.9554\n",
      "Epoch 2/5\n",
      "172/172 [==============================] - 0s 2ms/step - loss: 0.7555\n",
      "Epoch 3/5\n",
      "172/172 [==============================] - 0s 2ms/step - loss: 0.7253\n",
      "Epoch 4/5\n",
      "172/172 [==============================] - 0s 2ms/step - loss: 0.7172\n",
      "Epoch 5/5\n",
      "172/172 [==============================] - 0s 2ms/step - loss: 0.7115\n"
     ]
    },
    {
     "data": {
      "text/plain": [
       "<keras.callbacks.History at 0x2625f2beb50>"
      ]
     },
     "execution_count": 134,
     "metadata": {},
     "output_type": "execute_result"
    }
   ],
   "source": [
    "# create ANN model\n",
    "model = Sequential()\n",
    "\n",
    "# Defining the Input layer and FIRST hidden layer, both are same!\n",
    "model.add(Dense(units=5, input_dim=10, kernel_initializer='normal', activation='relu'))\n",
    "\n",
    "# Defining the Second layer of the model\n",
    "# after the first layer we don't have to specify input_dim as keras configure it automatically\n",
    "model.add(Dense(units=5, kernel_initializer='normal', activation='tanh'))\n",
    "\n",
    "# The output neuron is a single fully connected node \n",
    "# Since we will be predicting a single number\n",
    "model.add(Dense(1, kernel_initializer='normal'))\n",
    "\n",
    "# Compiling the model\n",
    "model.compile(loss='mean_squared_error', optimizer='adam')\n",
    "\n",
    "# Fitting the ANN to the Training set\n",
    "model.fit(X_train, y_train ,batch_size = 15, epochs = 5, verbose=1)"
   ]
  },
  {
   "cell_type": "code",
   "execution_count": 135,
   "id": "6395877f",
   "metadata": {},
   "outputs": [
    {
     "name": "stdout",
     "output_type": "stream",
     "text": [
      "35/35 [==============================] - 0s 1ms/step\n",
      "1.2582707889698248\n",
      "1 Parameters: batch_size: 5 - epochs: 5 Accuracy: 98.74172921103018\n"
     ]
    },
    {
     "name": "stderr",
     "output_type": "stream",
     "text": [
      "C:\\Users\\Aishwarya\\AppData\\Local\\Temp\\ipykernel_6896\\1739720499.py:43: FutureWarning: The frame.append method is deprecated and will be removed from pandas in a future version. Use pandas.concat instead.\n",
      "  SearchResultsData=SearchResultsData.append(pd.DataFrame(data=[[TrialNumber, str(batch_size_trial)+'-'+str(epochs_trial), 100-MAPE]],\n"
     ]
    },
    {
     "name": "stdout",
     "output_type": "stream",
     "text": [
      "35/35 [==============================] - 0s 1ms/step\n",
      "1.2533397975793128\n",
      "2 Parameters: batch_size: 5 - epochs: 10 Accuracy: 98.74666020242068\n"
     ]
    },
    {
     "name": "stderr",
     "output_type": "stream",
     "text": [
      "C:\\Users\\Aishwarya\\AppData\\Local\\Temp\\ipykernel_6896\\1739720499.py:43: FutureWarning: The frame.append method is deprecated and will be removed from pandas in a future version. Use pandas.concat instead.\n",
      "  SearchResultsData=SearchResultsData.append(pd.DataFrame(data=[[TrialNumber, str(batch_size_trial)+'-'+str(epochs_trial), 100-MAPE]],\n"
     ]
    },
    {
     "name": "stdout",
     "output_type": "stream",
     "text": [
      "35/35 [==============================] - 0s 2ms/step\n",
      "1.3030953868285675\n",
      "3 Parameters: batch_size: 5 - epochs: 30 Accuracy: 98.69690461317143\n"
     ]
    },
    {
     "name": "stderr",
     "output_type": "stream",
     "text": [
      "C:\\Users\\Aishwarya\\AppData\\Local\\Temp\\ipykernel_6896\\1739720499.py:43: FutureWarning: The frame.append method is deprecated and will be removed from pandas in a future version. Use pandas.concat instead.\n",
      "  SearchResultsData=SearchResultsData.append(pd.DataFrame(data=[[TrialNumber, str(batch_size_trial)+'-'+str(epochs_trial), 100-MAPE]],\n"
     ]
    },
    {
     "name": "stdout",
     "output_type": "stream",
     "text": [
      "35/35 [==============================] - 0s 1ms/step\n",
      "1.2720346246259586\n",
      "4 Parameters: batch_size: 5 - epochs: 25 Accuracy: 98.72796537537404\n"
     ]
    },
    {
     "name": "stderr",
     "output_type": "stream",
     "text": [
      "C:\\Users\\Aishwarya\\AppData\\Local\\Temp\\ipykernel_6896\\1739720499.py:43: FutureWarning: The frame.append method is deprecated and will be removed from pandas in a future version. Use pandas.concat instead.\n",
      "  SearchResultsData=SearchResultsData.append(pd.DataFrame(data=[[TrialNumber, str(batch_size_trial)+'-'+str(epochs_trial), 100-MAPE]],\n"
     ]
    },
    {
     "name": "stdout",
     "output_type": "stream",
     "text": [
      "35/35 [==============================] - 0s 1ms/step\n",
      "1.051003150213484\n",
      "5 Parameters: batch_size: 10 - epochs: 5 Accuracy: 98.94899684978651\n"
     ]
    },
    {
     "name": "stderr",
     "output_type": "stream",
     "text": [
      "C:\\Users\\Aishwarya\\AppData\\Local\\Temp\\ipykernel_6896\\1739720499.py:43: FutureWarning: The frame.append method is deprecated and will be removed from pandas in a future version. Use pandas.concat instead.\n",
      "  SearchResultsData=SearchResultsData.append(pd.DataFrame(data=[[TrialNumber, str(batch_size_trial)+'-'+str(epochs_trial), 100-MAPE]],\n"
     ]
    },
    {
     "name": "stdout",
     "output_type": "stream",
     "text": [
      "35/35 [==============================] - 0s 1ms/step\n",
      "1.317903866942584\n",
      "6 Parameters: batch_size: 10 - epochs: 10 Accuracy: 98.68209613305741\n"
     ]
    },
    {
     "name": "stderr",
     "output_type": "stream",
     "text": [
      "C:\\Users\\Aishwarya\\AppData\\Local\\Temp\\ipykernel_6896\\1739720499.py:43: FutureWarning: The frame.append method is deprecated and will be removed from pandas in a future version. Use pandas.concat instead.\n",
      "  SearchResultsData=SearchResultsData.append(pd.DataFrame(data=[[TrialNumber, str(batch_size_trial)+'-'+str(epochs_trial), 100-MAPE]],\n"
     ]
    },
    {
     "name": "stdout",
     "output_type": "stream",
     "text": [
      "35/35 [==============================] - 0s 2ms/step\n",
      "1.3148385569761887\n",
      "7 Parameters: batch_size: 10 - epochs: 30 Accuracy: 98.68516144302382\n"
     ]
    },
    {
     "name": "stderr",
     "output_type": "stream",
     "text": [
      "C:\\Users\\Aishwarya\\AppData\\Local\\Temp\\ipykernel_6896\\1739720499.py:43: FutureWarning: The frame.append method is deprecated and will be removed from pandas in a future version. Use pandas.concat instead.\n",
      "  SearchResultsData=SearchResultsData.append(pd.DataFrame(data=[[TrialNumber, str(batch_size_trial)+'-'+str(epochs_trial), 100-MAPE]],\n"
     ]
    },
    {
     "name": "stdout",
     "output_type": "stream",
     "text": [
      "35/35 [==============================] - 0s 1ms/step\n",
      "1.3414161220097593\n",
      "8 Parameters: batch_size: 10 - epochs: 25 Accuracy: 98.65858387799024\n"
     ]
    },
    {
     "name": "stderr",
     "output_type": "stream",
     "text": [
      "C:\\Users\\Aishwarya\\AppData\\Local\\Temp\\ipykernel_6896\\1739720499.py:43: FutureWarning: The frame.append method is deprecated and will be removed from pandas in a future version. Use pandas.concat instead.\n",
      "  SearchResultsData=SearchResultsData.append(pd.DataFrame(data=[[TrialNumber, str(batch_size_trial)+'-'+str(epochs_trial), 100-MAPE]],\n"
     ]
    },
    {
     "name": "stdout",
     "output_type": "stream",
     "text": [
      "35/35 [==============================] - 0s 1ms/step\n",
      "1.197737110694118\n",
      "9 Parameters: batch_size: 15 - epochs: 5 Accuracy: 98.80226288930588\n"
     ]
    },
    {
     "name": "stderr",
     "output_type": "stream",
     "text": [
      "C:\\Users\\Aishwarya\\AppData\\Local\\Temp\\ipykernel_6896\\1739720499.py:43: FutureWarning: The frame.append method is deprecated and will be removed from pandas in a future version. Use pandas.concat instead.\n",
      "  SearchResultsData=SearchResultsData.append(pd.DataFrame(data=[[TrialNumber, str(batch_size_trial)+'-'+str(epochs_trial), 100-MAPE]],\n"
     ]
    },
    {
     "name": "stdout",
     "output_type": "stream",
     "text": [
      "35/35 [==============================] - 0s 992us/step\n",
      "1.2423866571367057\n",
      "10 Parameters: batch_size: 15 - epochs: 10 Accuracy: 98.7576133428633\n"
     ]
    },
    {
     "name": "stderr",
     "output_type": "stream",
     "text": [
      "C:\\Users\\Aishwarya\\AppData\\Local\\Temp\\ipykernel_6896\\1739720499.py:43: FutureWarning: The frame.append method is deprecated and will be removed from pandas in a future version. Use pandas.concat instead.\n",
      "  SearchResultsData=SearchResultsData.append(pd.DataFrame(data=[[TrialNumber, str(batch_size_trial)+'-'+str(epochs_trial), 100-MAPE]],\n"
     ]
    },
    {
     "name": "stdout",
     "output_type": "stream",
     "text": [
      "35/35 [==============================] - 0s 1ms/step\n",
      "1.2851401274558678\n",
      "11 Parameters: batch_size: 15 - epochs: 30 Accuracy: 98.71485987254414\n"
     ]
    },
    {
     "name": "stderr",
     "output_type": "stream",
     "text": [
      "C:\\Users\\Aishwarya\\AppData\\Local\\Temp\\ipykernel_6896\\1739720499.py:43: FutureWarning: The frame.append method is deprecated and will be removed from pandas in a future version. Use pandas.concat instead.\n",
      "  SearchResultsData=SearchResultsData.append(pd.DataFrame(data=[[TrialNumber, str(batch_size_trial)+'-'+str(epochs_trial), 100-MAPE]],\n"
     ]
    },
    {
     "name": "stdout",
     "output_type": "stream",
     "text": [
      "35/35 [==============================] - 0s 1ms/step\n",
      "1.2207531416265764\n",
      "12 Parameters: batch_size: 15 - epochs: 25 Accuracy: 98.77924685837343\n"
     ]
    },
    {
     "name": "stderr",
     "output_type": "stream",
     "text": [
      "C:\\Users\\Aishwarya\\AppData\\Local\\Temp\\ipykernel_6896\\1739720499.py:43: FutureWarning: The frame.append method is deprecated and will be removed from pandas in a future version. Use pandas.concat instead.\n",
      "  SearchResultsData=SearchResultsData.append(pd.DataFrame(data=[[TrialNumber, str(batch_size_trial)+'-'+str(epochs_trial), 100-MAPE]],\n"
     ]
    },
    {
     "name": "stdout",
     "output_type": "stream",
     "text": [
      "35/35 [==============================] - 0s 1ms/step\n",
      "1.2384779885899109\n",
      "13 Parameters: batch_size: 20 - epochs: 5 Accuracy: 98.7615220114101\n"
     ]
    },
    {
     "name": "stderr",
     "output_type": "stream",
     "text": [
      "C:\\Users\\Aishwarya\\AppData\\Local\\Temp\\ipykernel_6896\\1739720499.py:43: FutureWarning: The frame.append method is deprecated and will be removed from pandas in a future version. Use pandas.concat instead.\n",
      "  SearchResultsData=SearchResultsData.append(pd.DataFrame(data=[[TrialNumber, str(batch_size_trial)+'-'+str(epochs_trial), 100-MAPE]],\n"
     ]
    },
    {
     "name": "stdout",
     "output_type": "stream",
     "text": [
      "35/35 [==============================] - 0s 1ms/step\n",
      "1.2696741976760708\n",
      "14 Parameters: batch_size: 20 - epochs: 10 Accuracy: 98.73032580232393\n"
     ]
    },
    {
     "name": "stderr",
     "output_type": "stream",
     "text": [
      "C:\\Users\\Aishwarya\\AppData\\Local\\Temp\\ipykernel_6896\\1739720499.py:43: FutureWarning: The frame.append method is deprecated and will be removed from pandas in a future version. Use pandas.concat instead.\n",
      "  SearchResultsData=SearchResultsData.append(pd.DataFrame(data=[[TrialNumber, str(batch_size_trial)+'-'+str(epochs_trial), 100-MAPE]],\n"
     ]
    },
    {
     "name": "stdout",
     "output_type": "stream",
     "text": [
      "35/35 [==============================] - 0s 1ms/step\n",
      "1.243325698373559\n",
      "15 Parameters: batch_size: 20 - epochs: 30 Accuracy: 98.75667430162645\n"
     ]
    },
    {
     "name": "stderr",
     "output_type": "stream",
     "text": [
      "C:\\Users\\Aishwarya\\AppData\\Local\\Temp\\ipykernel_6896\\1739720499.py:43: FutureWarning: The frame.append method is deprecated and will be removed from pandas in a future version. Use pandas.concat instead.\n",
      "  SearchResultsData=SearchResultsData.append(pd.DataFrame(data=[[TrialNumber, str(batch_size_trial)+'-'+str(epochs_trial), 100-MAPE]],\n"
     ]
    },
    {
     "name": "stdout",
     "output_type": "stream",
     "text": [
      "35/35 [==============================] - 0s 1ms/step\n",
      "1.2805952287086604\n",
      "16 Parameters: batch_size: 20 - epochs: 25 Accuracy: 98.71940477129134\n"
     ]
    },
    {
     "name": "stderr",
     "output_type": "stream",
     "text": [
      "C:\\Users\\Aishwarya\\AppData\\Local\\Temp\\ipykernel_6896\\1739720499.py:43: FutureWarning: The frame.append method is deprecated and will be removed from pandas in a future version. Use pandas.concat instead.\n",
      "  SearchResultsData=SearchResultsData.append(pd.DataFrame(data=[[TrialNumber, str(batch_size_trial)+'-'+str(epochs_trial), 100-MAPE]],\n"
     ]
    }
   ],
   "source": [
    "import numpy as np\n",
    "from sklearn.metrics import mean_absolute_percentage_error\n",
    "\n",
    "# Defining a function to find the best parameters for ANN\n",
    "def FunctionFindBestParams(X_train, y_train, X_test, y_test):\n",
    "    \n",
    "    # Defining the list of hyper parameters to try\n",
    "    batch_size_list=[5, 10, 15, 20]\n",
    "    epoch_list  =   [5, 10, 30, 25]\n",
    "    \n",
    "    import pandas as pd\n",
    "    SearchResultsData=pd.DataFrame(columns=['TrialNumber', 'Parameters', 'Accuracy'])\n",
    "    \n",
    "    # initializing the trials\n",
    "    TrialNumber=0\n",
    "    for batch_size_trial in batch_size_list:\n",
    "        for epochs_trial in epoch_list:\n",
    "            TrialNumber+=1\n",
    "            # create ANN model\n",
    "            model = Sequential()\n",
    "            # Defining the first layer of the model\n",
    "            model.add(Dense(units=5, input_dim=X_train.shape[1], kernel_initializer='normal', activation='relu'))\n",
    "\n",
    "            # Defining the Second layer of the model\n",
    "            model.add(Dense(units=5, kernel_initializer='normal', activation='relu'))\n",
    "\n",
    "            # The output neuron is a single fully connected node \n",
    "            # Since we will be predicting a single number\n",
    "            model.add(Dense(1, kernel_initializer='normal'))\n",
    "\n",
    "            # Compiling the model\n",
    "            model.compile(loss='mean_squared_error', optimizer='adam')\n",
    "\n",
    "            # Fitting the ANN to the Training set\n",
    "            model.fit(X_train, y_train ,batch_size = batch_size_trial, epochs = epochs_trial, verbose=0)\n",
    "            MAPE=mean_absolute_percentage_error(y_test, model.predict(X_test))\n",
    "\n",
    "            \n",
    "            print(MAPE)\n",
    "            # printing the results of the current iteration\n",
    "            print(TrialNumber, 'Parameters:','batch_size:', batch_size_trial,'-', 'epochs:',epochs_trial, 'Accuracy:', 100-MAPE)\n",
    "            \n",
    "            SearchResultsData=SearchResultsData.append(pd.DataFrame(data=[[TrialNumber, str(batch_size_trial)+'-'+str(epochs_trial), 100-MAPE]],\n",
    "                                                                    columns=['TrialNumber', 'Parameters', 'Accuracy'] ))\n",
    "    return(SearchResultsData)\n",
    "\n",
    "\n",
    "######################################################\n",
    "# Calling the function\n",
    "ResultsData=FunctionFindBestParams(X_train, y_train, X_test, y_test)"
   ]
  },
  {
   "cell_type": "code",
   "execution_count": 136,
   "id": "aa1e5258",
   "metadata": {},
   "outputs": [
    {
     "data": {
      "text/plain": [
       "<AxesSubplot:xlabel='Parameters'>"
      ]
     },
     "execution_count": 136,
     "metadata": {},
     "output_type": "execute_result"
    },
    {
     "data": {
      "image/png": "[encoded data removed]",
      "text/plain": [
       "<Figure size 1080x288 with 1 Axes>"
      ]
     },
     "metadata": {
      "needs_background": "light"
     },
     "output_type": "display_data"
    }
   ],
   "source": [
    "%matplotlib inline\n",
    "ResultsData.plot(x='Parameters', y='Accuracy', figsize=(15,4), kind='line')"
   ]
  },
  {
   "cell_type": "markdown",
   "id": "6006560f",
   "metadata": {},
   "source": [
    "Using best parameters to get optimal performance"
   ]
  },
  {
   "cell_type": "code",
   "execution_count": 137,
   "id": "6fd69ee1",
   "metadata": {},
   "outputs": [
    {
     "name": "stdout",
     "output_type": "stream",
     "text": [
      "Epoch 1/10\n",
      "172/172 [==============================] - 0s 2ms/step - loss: 0.7061\n",
      "Epoch 2/10\n",
      "172/172 [==============================] - 0s 2ms/step - loss: 0.7016\n",
      "Epoch 3/10\n",
      "172/172 [==============================] - 0s 2ms/step - loss: 0.6994\n",
      "Epoch 4/10\n",
      "172/172 [==============================] - 0s 2ms/step - loss: 0.6964\n",
      "Epoch 5/10\n",
      "172/172 [==============================] - 0s 2ms/step - loss: 0.6963\n",
      "Epoch 6/10\n",
      "172/172 [==============================] - 0s 2ms/step - loss: 0.6937\n",
      "Epoch 7/10\n",
      "172/172 [==============================] - 0s 2ms/step - loss: 0.6928\n",
      "Epoch 8/10\n",
      "172/172 [==============================] - 0s 2ms/step - loss: 0.6911\n",
      "Epoch 9/10\n",
      "172/172 [==============================] - 0s 2ms/step - loss: 0.6893\n",
      "Epoch 10/10\n",
      "172/172 [==============================] - 0s 2ms/step - loss: 0.6885\n"
     ]
    },
    {
     "data": {
      "text/plain": [
       "<keras.callbacks.History at 0x2625e8700a0>"
      ]
     },
     "execution_count": 137,
     "metadata": {},
     "output_type": "execute_result"
    }
   ],
   "source": [
    "##Using best parameters###############################\n",
    "model.fit(X_train, y_train , batch_size = 15, epochs = 10, verbose=1)"
   ]
  },
  {
   "cell_type": "code",
   "execution_count": 138,
   "id": "ff1f3fed",
   "metadata": {},
   "outputs": [
    {
     "data": {
      "text/plain": [
       "['course_id',\n",
       " 'num_subscribers',\n",
       " 'num_reviews',\n",
       " 'num_lectures',\n",
       " 'rating',\n",
       " 'content_duration',\n",
       " 'Encoded_Free/Paid',\n",
       " 'Encoded_Date',\n",
       " 'Encoded_Subject',\n",
       " 'Encoded_Level']"
      ]
     },
     "execution_count": 138,
     "metadata": {},
     "output_type": "execute_result"
    }
   ],
   "source": [
    "features"
   ]
  },
  {
   "cell_type": "code",
   "execution_count": 139,
   "id": "18e8e8f4",
   "metadata": {},
   "outputs": [
    {
     "name": "stdout",
     "output_type": "stream",
     "text": [
      "35/35 [==============================] - 0s 2ms/step\n"
     ]
    },
    {
     "data": {
      "text/html": [
       "<div>\n",
       "<style scoped>\n",
       "    .dataframe tbody tr th:only-of-type {\n",
       "        vertical-align: middle;\n",
       "    }\n",
       "\n",
       "    .dataframe tbody tr th {\n",
       "        vertical-align: top;\n",
       "    }\n",
       "\n",
       "    .dataframe thead th {\n",
       "        text-align: right;\n",
       "    }\n",
       "</style>\n",
       "<table border=\"1\" class=\"dataframe\">\n",
       "  <thead>\n",
       "    <tr style=\"text-align: right;\">\n",
       "      <th></th>\n",
       "      <th>course_id</th>\n",
       "      <th>num_subscribers</th>\n",
       "      <th>num_reviews</th>\n",
       "      <th>num_lectures</th>\n",
       "      <th>rating</th>\n",
       "      <th>content_duration</th>\n",
       "      <th>Encoded_Free/Paid</th>\n",
       "      <th>Encoded_Date</th>\n",
       "      <th>Encoded_Subject</th>\n",
       "      <th>Encoded_Level</th>\n",
       "      <th>Price</th>\n",
       "      <th>PredictedPrice</th>\n",
       "    </tr>\n",
       "  </thead>\n",
       "  <tbody>\n",
       "    <tr>\n",
       "      <th>0</th>\n",
       "      <td>1101806.0</td>\n",
       "      <td>44.0</td>\n",
       "      <td>13.0</td>\n",
       "      <td>19.0</td>\n",
       "      <td>0.09</td>\n",
       "      <td>2.0</td>\n",
       "      <td>1.0</td>\n",
       "      <td>1079.0</td>\n",
       "      <td>1.0</td>\n",
       "      <td>1.0</td>\n",
       "      <td>30.0</td>\n",
       "      <td>65.955551</td>\n",
       "    </tr>\n",
       "    <tr>\n",
       "      <th>1</th>\n",
       "      <td>889824.0</td>\n",
       "      <td>1027.0</td>\n",
       "      <td>29.0</td>\n",
       "      <td>25.0</td>\n",
       "      <td>0.97</td>\n",
       "      <td>1.5</td>\n",
       "      <td>1.0</td>\n",
       "      <td>908.0</td>\n",
       "      <td>0.0</td>\n",
       "      <td>3.0</td>\n",
       "      <td>20.0</td>\n",
       "      <td>72.015900</td>\n",
       "    </tr>\n",
       "    <tr>\n",
       "      <th>2</th>\n",
       "      <td>1013838.0</td>\n",
       "      <td>13.0</td>\n",
       "      <td>2.0</td>\n",
       "      <td>5.0</td>\n",
       "      <td>0.11</td>\n",
       "      <td>1.0</td>\n",
       "      <td>1.0</td>\n",
       "      <td>1050.0</td>\n",
       "      <td>0.0</td>\n",
       "      <td>1.0</td>\n",
       "      <td>20.0</td>\n",
       "      <td>62.035606</td>\n",
       "    </tr>\n",
       "    <tr>\n",
       "      <th>3</th>\n",
       "      <td>754156.0</td>\n",
       "      <td>112.0</td>\n",
       "      <td>18.0</td>\n",
       "      <td>33.0</td>\n",
       "      <td>0.56</td>\n",
       "      <td>2.0</td>\n",
       "      <td>1.0</td>\n",
       "      <td>785.0</td>\n",
       "      <td>0.0</td>\n",
       "      <td>0.0</td>\n",
       "      <td>20.0</td>\n",
       "      <td>72.835068</td>\n",
       "    </tr>\n",
       "    <tr>\n",
       "      <th>4</th>\n",
       "      <td>1216132.0</td>\n",
       "      <td>1076.0</td>\n",
       "      <td>15.0</td>\n",
       "      <td>15.0</td>\n",
       "      <td>0.42</td>\n",
       "      <td>1.0</td>\n",
       "      <td>1.0</td>\n",
       "      <td>1168.0</td>\n",
       "      <td>1.0</td>\n",
       "      <td>0.0</td>\n",
       "      <td>200.0</td>\n",
       "      <td>75.083527</td>\n",
       "    </tr>\n",
       "  </tbody>\n",
       "</table>\n",
       "</div>"
      ],
      "text/plain": [
       "   course_id  num_subscribers  num_reviews  num_lectures  rating  \\\n",
       "0  1101806.0             44.0         13.0          19.0    0.09   \n",
       "1   889824.0           1027.0         29.0          25.0    0.97   \n",
       "2  1013838.0             13.0          2.0           5.0    0.11   \n",
       "3   754156.0            112.0         18.0          33.0    0.56   \n",
       "4  1216132.0           1076.0         15.0          15.0    0.42   \n",
       "\n",
       "   content_duration  Encoded_Free/Paid  Encoded_Date  Encoded_Subject  \\\n",
       "0               2.0                1.0        1079.0              1.0   \n",
       "1               1.5                1.0         908.0              0.0   \n",
       "2               1.0                1.0        1050.0              0.0   \n",
       "3               2.0                1.0         785.0              0.0   \n",
       "4               1.0                1.0        1168.0              1.0   \n",
       "\n",
       "   Encoded_Level  Price  PredictedPrice  \n",
       "0            1.0   30.0       65.955551  \n",
       "1            3.0   20.0       72.015900  \n",
       "2            1.0   20.0       62.035606  \n",
       "3            0.0   20.0       72.835068  \n",
       "4            0.0  200.0       75.083527  "
      ]
     },
     "execution_count": 139,
     "metadata": {},
     "output_type": "execute_result"
    }
   ],
   "source": [
    "\n",
    "# Generating Predictions on testing data\n",
    "Predictions=model.predict(X_test)\n",
    "\n",
    "# Scaling the predicted Price data back to original price scale\n",
    "Predictions=TargetVarScalerFit.inverse_transform(Predictions)\n",
    "\n",
    "# Scaling the y_test Price data back to original price scale\n",
    "y_test_orig=TargetVarScalerFit.inverse_transform(y_test)\n",
    "\n",
    "# Scaling the test data back to original scale\n",
    "Test_Data=PredictorScalerFit.inverse_transform(X_test)\n",
    "\n",
    "TestingData=pd.DataFrame(data=Test_Data, columns=features)\n",
    "TestingData['Price']=y_test_orig\n",
    "TestingData['PredictedPrice']=Predictions\n",
    "TestingData.head()"
   ]
  },
  {
   "cell_type": "markdown",
   "id": "3e450c77",
   "metadata": {},
   "source": [
    "Accuracy for ANN"
   ]
  },
  {
   "cell_type": "code",
   "execution_count": 140,
   "id": "3df6619e",
   "metadata": {
    "scrolled": true
   },
   "outputs": [
    {
     "name": "stdout",
     "output_type": "stream",
     "text": [
      "35/35 [==============================] - 0s 1ms/step\n",
      "1.2489226133195341\n",
      "Best Accuracy: 98.75107738668046\n"
     ]
    }
   ],
   "source": [
    "MAPE=mean_absolute_percentage_error(y_test, model.predict(X_test))\n",
    "\n",
    "            \n",
    "print(MAPE)# printing the results of the current iteration\n",
    "print( 'Best Accuracy:', 100-MAPE)"
   ]
  },
  {
   "cell_type": "markdown",
   "id": "a7c9c83d",
   "metadata": {},
   "source": [
    "Random Forest Regressor Model"
   ]
  },
  {
   "cell_type": "code",
   "execution_count": 141,
   "id": "79d4f89f",
   "metadata": {},
   "outputs": [
    {
     "name": "stderr",
     "output_type": "stream",
     "text": [
      "C:\\Users\\Aishwarya\\AppData\\Local\\Temp\\ipykernel_6896\\2226463092.py:3: DataConversionWarning: A column-vector y was passed when a 1d array was expected. Please change the shape of y to (n_samples,), for example using ravel().\n",
      "  modelreg.fit(X_train,y_train)\n"
     ]
    },
    {
     "name": "stdout",
     "output_type": "stream",
     "text": [
      "Best Accuracy: 98.85993287266002\n"
     ]
    },
    {
     "data": {
      "image/png": "[encoded data removed]",
      "text/plain": [
       "<Figure size 1080x432 with 1 Axes>"
      ]
     },
     "metadata": {
      "needs_background": "light"
     },
     "output_type": "display_data"
    }
   ],
   "source": [
    "modelreg = RandomForestRegressor(random_state=42)\n",
    "\n",
    "modelreg.fit(X_train,y_train)\n",
    "\n",
    "print('Best Accuracy:', 100-mean_absolute_percentage_error(y_test, modelreg.predict(X_test))) \n",
    "\n",
    "importance = modelreg.feature_importances_\n",
    "plt.figure(figsize=(15,6))\n",
    "sns.barplot(x=[i for i in features],y=importance)\n",
    "plt.yticks(color='black')\n",
    "plt.xticks(color='black',rotation=-90)\n",
    "plt.xlabel(xlabel='Feature')\n",
    "plt.title(label='Feature Importance')\n",
    "plt.ylabel(ylabel='Importance',color='grey')\n",
    "plt.show()"
   ]
  },
  {
   "cell_type": "markdown",
   "id": "59920d78",
   "metadata": {},
   "source": [
    "XG Boost model"
   ]
  },
  {
   "cell_type": "code",
   "execution_count": 142,
   "id": "5860f6fd",
   "metadata": {},
   "outputs": [
    {
     "name": "stdout",
     "output_type": "stream",
     "text": [
      "Best Accuracy: 98.73389628863751\n"
     ]
    }
   ],
   "source": [
    "xgbModel = xg.XGBRegressor(seed=42)\n",
    "\n",
    "xgbModel.fit(X_train,y_train)\n",
    "\n",
    "print('Best Accuracy:', 100-mean_absolute_percentage_error(y_test, xgbModel.predict(X_test))) \n"
   ]
  },
  {
   "cell_type": "code",
   "execution_count": 143,
   "id": "8ec74309",
   "metadata": {},
   "outputs": [],
   "source": [
    "from sklearn.metrics import mean_absolute_error, mean_squared_error, r2_score, mean_absolute_percentage_error\n",
    "def run_experiment(model):\n",
    "    model.fit(X_train, y_train)\n",
    "    \n",
    "    y_pred = model.predict(X_test)\n",
    "    \n",
    "    print('mean_absolute_error: %.3f' % mean_absolute_error(y_test, y_pred))\n",
    "    print('mean_squared_error: %.3f' % mean_squared_error(y_test, y_pred))\n",
    "    print('r2_score: %.3f' % r2_score(y_test, y_pred))\n",
    "    print('mean_absolute_percentage_error: %.3f' % mean_absolute_percentage_error(y_test, y_pred))\n",
    "\n",
    "    "
   ]
  },
  {
   "cell_type": "markdown",
   "id": "b97a115b",
   "metadata": {},
   "source": [
    "Performance comparison of all three algorithms: "
   ]
  },
  {
   "cell_type": "code",
   "execution_count": 150,
   "id": "bde227b5",
   "metadata": {},
   "outputs": [
    {
     "name": "stdout",
     "output_type": "stream",
     "text": [
      "|||||||||||||||||||||||||||||||||||||||||||||||||||||||||||||||||||||||||||||||||||||||||||\n",
      "Performance of ANN:\n",
      "81/81 [==============================] - 0s 1ms/step - loss: 0.6832\n",
      "35/35 [==============================] - 0s 1ms/step\n",
      "mean_absolute_error: 0.631\n",
      "mean_squared_error: 0.713\n",
      "r2_score: 0.286\n",
      "mean_absolute_percentage_error: 1.286\n",
      "|||||||||||||||||||||||||||||||||||||||||||||||||||||||||||||||||||||||||||||||||||||||||||\n",
      "Performance of RandomForestRegressor:    \n"
     ]
    },
    {
     "name": "stderr",
     "output_type": "stream",
     "text": [
      "C:\\Users\\Aishwarya\\AppData\\Local\\Temp\\ipykernel_6896\\2062030237.py:3: DataConversionWarning: A column-vector y was passed when a 1d array was expected. Please change the shape of y to (n_samples,), for example using ravel().\n",
      "  model.fit(X_train, y_train)\n"
     ]
    },
    {
     "name": "stdout",
     "output_type": "stream",
     "text": [
      "mean_absolute_error: 0.582\n",
      "mean_squared_error: 0.651\n",
      "r2_score: 0.348\n",
      "mean_absolute_percentage_error: 1.140\n",
      "|||||||||||||||||||||||||||||||||||||||||||||||||||||||||||||||||||||||||||||||||||||||||||\n",
      "Performance of XGBRegressor:\n",
      "mean_absolute_error: 0.633\n",
      "mean_squared_error: 0.746\n",
      "r2_score: 0.254\n",
      "mean_absolute_percentage_error: 1.266\n"
     ]
    }
   ],
   "source": [
    "print(\"|||||||||||||||||||||||||||||||||||||||||||||||||||||||||||||||||||||||||||||||||||||||||||\")\n",
    "print(\"Performance of ANN:\")\n",
    "run_experiment(model)\n",
    "print(\"|||||||||||||||||||||||||||||||||||||||||||||||||||||||||||||||||||||||||||||||||||||||||||\")\n",
    "\n",
    "print(\"Performance of RandomForestRegressor:    \")\n",
    "run_experiment(modelreg)\n",
    "print(\"|||||||||||||||||||||||||||||||||||||||||||||||||||||||||||||||||||||||||||||||||||||||||||\")\n",
    "print(\"Performance of XGBRegressor:\")\n",
    "run_experiment(xgbModel)\n",
    "\n"
   ]
  }
 ],
 "metadata": {
  "kernelspec": {
   "display_name": "Python 3 (ipykernel)",
   "language": "python",
   "name": "python3"
  },
  "language_info": {
   "codemirror_mode": {
    "name": "ipython",
    "version": 3
   },
   "file_extension": ".py",
   "mimetype": "text/x-python",
   "name": "python",
   "nbconvert_exporter": "python",
   "pygments_lexer": "ipython3",
   "version": "3.9.12"
  }
 },
 "nbformat": 4,
 "nbformat_minor": 5
}
