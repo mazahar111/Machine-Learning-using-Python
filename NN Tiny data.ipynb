{
 "cells": [
  {
   "cell_type": "code",
   "execution_count": 1,
   "id": "ce082dc7",
   "metadata": {},
   "outputs": [
    {
     "name": "stdout",
     "output_type": "stream",
     "text": [
      "Requirement already satisfied: dmba in c:\\users\\mazah\\anaconda3\\lib\\site-packages (0.1.0)\n",
      "Note: you may need to restart the kernel to use updated packages.\n"
     ]
    }
   ],
   "source": [
    "pip install dmba"
   ]
  },
  {
   "cell_type": "code",
   "execution_count": 43,
   "id": "8c93297f",
   "metadata": {},
   "outputs": [],
   "source": [
    "import pandas as pd\n",
    "import numpy as np\n",
    "from sklearn.model_selection import train_test_split\n",
    "from sklearn.neural_network import MLPClassifier\n",
    "from dmba import classificationSummary"
   ]
  },
  {
   "cell_type": "code",
   "execution_count": 3,
   "id": "c70fcaf1",
   "metadata": {},
   "outputs": [],
   "source": [
    "example_df = pd.read_csv('TinyData.csv')"
   ]
  },
  {
   "cell_type": "code",
   "execution_count": 4,
   "id": "74ce4661",
   "metadata": {},
   "outputs": [
    {
     "data": {
      "text/html": [
       "<div>\n",
       "<style scoped>\n",
       "    .dataframe tbody tr th:only-of-type {\n",
       "        vertical-align: middle;\n",
       "    }\n",
       "\n",
       "    .dataframe tbody tr th {\n",
       "        vertical-align: top;\n",
       "    }\n",
       "\n",
       "    .dataframe thead th {\n",
       "        text-align: right;\n",
       "    }\n",
       "</style>\n",
       "<table border=\"1\" class=\"dataframe\">\n",
       "  <thead>\n",
       "    <tr style=\"text-align: right;\">\n",
       "      <th></th>\n",
       "      <th>Obs.</th>\n",
       "      <th>Fat</th>\n",
       "      <th>Salt</th>\n",
       "      <th>Acceptance</th>\n",
       "    </tr>\n",
       "  </thead>\n",
       "  <tbody>\n",
       "    <tr>\n",
       "      <th>0</th>\n",
       "      <td>1</td>\n",
       "      <td>0.2</td>\n",
       "      <td>0.9</td>\n",
       "      <td>like</td>\n",
       "    </tr>\n",
       "    <tr>\n",
       "      <th>1</th>\n",
       "      <td>2</td>\n",
       "      <td>0.1</td>\n",
       "      <td>0.1</td>\n",
       "      <td>dislike</td>\n",
       "    </tr>\n",
       "    <tr>\n",
       "      <th>2</th>\n",
       "      <td>3</td>\n",
       "      <td>0.2</td>\n",
       "      <td>0.4</td>\n",
       "      <td>dislike</td>\n",
       "    </tr>\n",
       "    <tr>\n",
       "      <th>3</th>\n",
       "      <td>4</td>\n",
       "      <td>0.2</td>\n",
       "      <td>0.5</td>\n",
       "      <td>dislike</td>\n",
       "    </tr>\n",
       "    <tr>\n",
       "      <th>4</th>\n",
       "      <td>5</td>\n",
       "      <td>0.4</td>\n",
       "      <td>0.5</td>\n",
       "      <td>like</td>\n",
       "    </tr>\n",
       "  </tbody>\n",
       "</table>\n",
       "</div>"
      ],
      "text/plain": [
       "   Obs.  Fat  Salt Acceptance\n",
       "0     1  0.2   0.9       like\n",
       "1     2  0.1   0.1    dislike\n",
       "2     3  0.2   0.4    dislike\n",
       "3     4  0.2   0.5    dislike\n",
       "4     5  0.4   0.5       like"
      ]
     },
     "execution_count": 4,
     "metadata": {},
     "output_type": "execute_result"
    }
   ],
   "source": [
    "example_df.head()"
   ]
  },
  {
   "cell_type": "code",
   "execution_count": 5,
   "id": "22fbbc2b",
   "metadata": {},
   "outputs": [],
   "source": [
    "predictors = ['Fat', 'Salt']\n",
    "outcome = 'Acceptance'"
   ]
  },
  {
   "cell_type": "code",
   "execution_count": 6,
   "id": "2b51c18f",
   "metadata": {},
   "outputs": [],
   "source": [
    "X = example_df[predictors]\n",
    "y = example_df[outcome]"
   ]
  },
  {
   "cell_type": "code",
   "execution_count": 10,
   "id": "31b35961",
   "metadata": {},
   "outputs": [
    {
     "data": {
      "text/plain": [
       "['dislike', 'like']"
      ]
     },
     "execution_count": 10,
     "metadata": {},
     "output_type": "execute_result"
    }
   ],
   "source": [
    "classes = sorted(y.unique())\n",
    "classes"
   ]
  },
  {
   "cell_type": "code",
   "execution_count": 11,
   "id": "ad4ad841",
   "metadata": {},
   "outputs": [],
   "source": [
    "clf = MLPClassifier(hidden_layer_sizes=(3), activation='logistic', solver='lbfgs',random_state=1)\n"
   ]
  },
  {
   "cell_type": "code",
   "execution_count": 12,
   "id": "657cdc6b",
   "metadata": {},
   "outputs": [
    {
     "data": {
      "text/plain": [
       "array(['like', 'dislike', 'dislike', 'dislike', 'like', 'like'],\n",
       "      dtype='<U7')"
      ]
     },
     "execution_count": 12,
     "metadata": {},
     "output_type": "execute_result"
    }
   ],
   "source": [
    "clf.fit(X, y)\n",
    "clf.predict(X)"
   ]
  },
  {
   "cell_type": "code",
   "execution_count": 13,
   "id": "439aff10",
   "metadata": {},
   "outputs": [
    {
     "name": "stdout",
     "output_type": "stream",
     "text": [
      "Intercepts\n",
      "[array([0.13368045, 4.07247552, 7.00768104]), array([14.30748676])]\n"
     ]
    }
   ],
   "source": [
    "print('Intercepts')\n",
    "print(clf.intercepts_)"
   ]
  },
  {
   "cell_type": "code",
   "execution_count": 14,
   "id": "fafb0188",
   "metadata": {},
   "outputs": [
    {
     "name": "stdout",
     "output_type": "stream",
     "text": [
      "Weights\n",
      "[array([[ -1.30656481,  -4.20427792, -13.29587332],\n",
      "       [ -0.04399727,  -4.91606924,  -6.03356987]]), array([[ -0.27348313],\n",
      "       [ -9.01211573],\n",
      "       [-17.63504694]])]\n"
     ]
    }
   ],
   "source": [
    "print('Weights')\n",
    "print(clf.coefs_)\n"
   ]
  },
  {
   "cell_type": "code",
   "execution_count": 15,
   "id": "a6123462",
   "metadata": {},
   "outputs": [
    {
     "name": "stdout",
     "output_type": "stream",
     "text": [
      "   Obs.  Fat  Salt Acceptance   dislike      like\n",
      "0     1  0.2   0.9       like  0.000490  0.999510\n",
      "1     2  0.1   0.1    dislike  0.999994  0.000006\n",
      "2     3  0.2   0.4    dislike  0.999741  0.000259\n",
      "3     4  0.2   0.5    dislike  0.997368  0.002632\n",
      "4     5  0.4   0.5       like  0.002133  0.997867\n",
      "5     6  0.3   0.8       like  0.000075  0.999925\n"
     ]
    }
   ],
   "source": [
    "print(pd.concat([\n",
    "example_df,\n",
    "pd.DataFrame(clf.predict_proba(X), columns=classes)\n",
    "], axis=1))"
   ]
  },
  {
   "cell_type": "code",
   "execution_count": 16,
   "id": "bd610c0b",
   "metadata": {},
   "outputs": [
    {
     "name": "stdout",
     "output_type": "stream",
     "text": [
      "Confusion Matrix (Accuracy 1.0000)\n",
      "\n",
      "        Prediction\n",
      " Actual dislike    like\n",
      "dislike       3       0\n",
      "   like       0       3\n"
     ]
    }
   ],
   "source": [
    "classificationSummary(y, clf.predict(X), class_names=classes)"
   ]
  },
  {
   "cell_type": "markdown",
   "id": "b9765ec1",
   "metadata": {},
   "source": [
    "### Example 2"
   ]
  },
  {
   "cell_type": "code",
   "execution_count": 17,
   "id": "31743ae3",
   "metadata": {},
   "outputs": [],
   "source": [
    "accidents_df = pd.read_csv('accidentsnn.csv')"
   ]
  },
  {
   "cell_type": "code",
   "execution_count": 18,
   "id": "25fa9fb0",
   "metadata": {},
   "outputs": [],
   "source": [
    "input_vars = ['ALCHL_I', 'PROFIL_I_R', 'VEH_INVL']"
   ]
  },
  {
   "cell_type": "code",
   "execution_count": 19,
   "id": "944e4a0b",
   "metadata": {},
   "outputs": [],
   "source": [
    "accidents_df.SUR_COND = accidents_df.SUR_COND.astype('category')\n",
    "accidents_df.MAX_SEV_IR = accidents_df.MAX_SEV_IR.astype('category')"
   ]
  },
  {
   "cell_type": "code",
   "execution_count": 20,
   "id": "2035f924",
   "metadata": {},
   "outputs": [],
   "source": [
    "processed = pd.get_dummies(accidents_df, columns=['SUR_COND']).drop(columns=['SUR_COND_9'])\n",
    "outcome = 'MAX_SEV_IR'\n",
    "predictors = [c for c in processed.columns if c != outcome]"
   ]
  },
  {
   "cell_type": "code",
   "execution_count": 21,
   "id": "7c14c10c",
   "metadata": {},
   "outputs": [
    {
     "name": "stdout",
     "output_type": "stream",
     "text": [
      "(999, 5)\n"
     ]
    }
   ],
   "source": [
    "print(accidents_df.shape)"
   ]
  },
  {
   "cell_type": "code",
   "execution_count": 23,
   "id": "3d4b4eb5",
   "metadata": {},
   "outputs": [],
   "source": [
    "X = processed[predictors]\n",
    "y = processed[outcome]\n",
    "\n",
    "train_X, valid_X, train_y, valid_y = train_test_split(X, y, test_size=0.4, random_state=1)"
   ]
  },
  {
   "cell_type": "code",
   "execution_count": 24,
   "id": "6cd71037",
   "metadata": {},
   "outputs": [
    {
     "data": {
      "text/plain": [
       "MLPClassifier(activation='logistic', hidden_layer_sizes=2, random_state=1,\n",
       "              solver='lbfgs')"
      ]
     },
     "execution_count": 24,
     "metadata": {},
     "output_type": "execute_result"
    }
   ],
   "source": [
    "clf = MLPClassifier(hidden_layer_sizes=(2), activation='logistic', solver='lbfgs',random_state=1)\n",
    "clf.fit(train_X, train_y.values)"
   ]
  },
  {
   "cell_type": "code",
   "execution_count": 25,
   "id": "9deb6e68",
   "metadata": {},
   "outputs": [
    {
     "data": {
      "text/plain": [
       "MLPClassifier(activation='logistic', hidden_layer_sizes=2, random_state=1,\n",
       "              solver='lbfgs')"
      ]
     },
     "execution_count": 25,
     "metadata": {},
     "output_type": "execute_result"
    }
   ],
   "source": [
    "MLPClassifier(activation='logistic', hidden_layer_sizes=2, random_state=1, solver='lbfgs')"
   ]
  },
  {
   "cell_type": "code",
   "execution_count": 26,
   "id": "e15189b3",
   "metadata": {},
   "outputs": [
    {
     "name": "stdout",
     "output_type": "stream",
     "text": [
      "Confusion Matrix (Accuracy 0.8664)\n",
      "\n",
      "       Prediction\n",
      "Actual   0   1   2\n",
      "     0 331   0   1\n",
      "     1   0 180   0\n",
      "     2  30  49   8\n"
     ]
    }
   ],
   "source": [
    "classificationSummary(train_y, clf.predict(train_X))"
   ]
  },
  {
   "cell_type": "code",
   "execution_count": 27,
   "id": "c61c9cc2",
   "metadata": {},
   "outputs": [
    {
     "name": "stdout",
     "output_type": "stream",
     "text": [
      "Confusion Matrix (Accuracy 0.8550)\n",
      "\n",
      "       Prediction\n",
      "Actual   0   1   2\n",
      "     0 218   0   1\n",
      "     1   0 119   0\n",
      "     2  24  33   5\n"
     ]
    }
   ],
   "source": [
    "classificationSummary(valid_y, clf.predict(valid_X))"
   ]
  },
  {
   "cell_type": "markdown",
   "id": "46aa606a",
   "metadata": {},
   "source": [
    "### Example 3"
   ]
  },
  {
   "cell_type": "code",
   "execution_count": 99,
   "id": "89e6937b",
   "metadata": {},
   "outputs": [
    {
     "name": "stderr",
     "output_type": "stream",
     "text": [
      "C:\\Users\\mazah\\anaconda3\\lib\\site-packages\\IPython\\core\\interactiveshell.py:3444: DtypeWarning: Columns (9) have mixed types.Specify dtype option on import or set low_memory=False.\n",
      "  exec(code_obj, self.user_global_ns, self.user_ns)\n"
     ]
    },
    {
     "data": {
      "text/html": [
       "<div>\n",
       "<style scoped>\n",
       "    .dataframe tbody tr th:only-of-type {\n",
       "        vertical-align: middle;\n",
       "    }\n",
       "\n",
       "    .dataframe tbody tr th {\n",
       "        vertical-align: top;\n",
       "    }\n",
       "\n",
       "    .dataframe thead th {\n",
       "        text-align: right;\n",
       "    }\n",
       "</style>\n",
       "<table border=\"1\" class=\"dataframe\">\n",
       "  <thead>\n",
       "    <tr style=\"text-align: right;\">\n",
       "      <th></th>\n",
       "      <th>AMZN_YR_WK</th>\n",
       "      <th>Department</th>\n",
       "      <th>VendorName</th>\n",
       "      <th>Purchase Order</th>\n",
       "      <th>DC</th>\n",
       "      <th>Original Delivery Date</th>\n",
       "      <th>Actual Delivery Date</th>\n",
       "      <th>Gate Time</th>\n",
       "      <th>Ordercases</th>\n",
       "      <th>Rcvd Cases</th>\n",
       "      <th>Non Compliant Qty</th>\n",
       "      <th>Compliant  %</th>\n",
       "      <th>Status</th>\n",
       "    </tr>\n",
       "  </thead>\n",
       "  <tbody>\n",
       "    <tr>\n",
       "      <th>0</th>\n",
       "      <td>11828</td>\n",
       "      <td>85</td>\n",
       "      <td>KODAK ALARIS OPERATIONS CANADA</td>\n",
       "      <td>6250080999</td>\n",
       "      <td>6002</td>\n",
       "      <td>8/6/2018</td>\n",
       "      <td>7/9/2018</td>\n",
       "      <td>8:56:04 AM</td>\n",
       "      <td>1719</td>\n",
       "      <td>0</td>\n",
       "      <td>NaN</td>\n",
       "      <td>NaN</td>\n",
       "      <td>NaN</td>\n",
       "    </tr>\n",
       "    <tr>\n",
       "      <th>1</th>\n",
       "      <td>11828</td>\n",
       "      <td>85</td>\n",
       "      <td>KODAK ALARIS OPERATIONS CANADA</td>\n",
       "      <td>6350090995</td>\n",
       "      <td>6063</td>\n",
       "      <td>8/6/2018</td>\n",
       "      <td>7/11/2018</td>\n",
       "      <td>7:42:51 PM</td>\n",
       "      <td>1273</td>\n",
       "      <td>0</td>\n",
       "      <td>NaN</td>\n",
       "      <td>NaN</td>\n",
       "      <td>NaN</td>\n",
       "    </tr>\n",
       "    <tr>\n",
       "      <th>2</th>\n",
       "      <td>11828</td>\n",
       "      <td>85</td>\n",
       "      <td>KODAK ALARIS OPERATIONS CANADA</td>\n",
       "      <td>6450090985</td>\n",
       "      <td>6093</td>\n",
       "      <td>8/6/2018</td>\n",
       "      <td>7/12/2018</td>\n",
       "      <td>10:55:39 AM</td>\n",
       "      <td>897</td>\n",
       "      <td>0</td>\n",
       "      <td>NaN</td>\n",
       "      <td>NaN</td>\n",
       "      <td>NaN</td>\n",
       "    </tr>\n",
       "    <tr>\n",
       "      <th>3</th>\n",
       "      <td>11828</td>\n",
       "      <td>72</td>\n",
       "      <td>APPLE CANADA INC</td>\n",
       "      <td>8450361239</td>\n",
       "      <td>6063</td>\n",
       "      <td>8/9/2018</td>\n",
       "      <td>7/27/2018</td>\n",
       "      <td>7:02:56 AM</td>\n",
       "      <td>772</td>\n",
       "      <td>0</td>\n",
       "      <td>NaN</td>\n",
       "      <td>NaN</td>\n",
       "      <td>NaN</td>\n",
       "    </tr>\n",
       "    <tr>\n",
       "      <th>4</th>\n",
       "      <td>11828</td>\n",
       "      <td>98</td>\n",
       "      <td>TREASURE MILLS INC.</td>\n",
       "      <td>3300401778</td>\n",
       "      <td>6098</td>\n",
       "      <td>8/5/2018</td>\n",
       "      <td>7/29/2018</td>\n",
       "      <td>1:19:54 PM</td>\n",
       "      <td>572</td>\n",
       "      <td>0</td>\n",
       "      <td>NaN</td>\n",
       "      <td>NaN</td>\n",
       "      <td>NaN</td>\n",
       "    </tr>\n",
       "  </tbody>\n",
       "</table>\n",
       "</div>"
      ],
      "text/plain": [
       "   AMZN_YR_WK  Department                      VendorName  Purchase Order  \\\n",
       "0       11828          85  KODAK ALARIS OPERATIONS CANADA      6250080999   \n",
       "1       11828          85  KODAK ALARIS OPERATIONS CANADA      6350090995   \n",
       "2       11828          85  KODAK ALARIS OPERATIONS CANADA      6450090985   \n",
       "3       11828          72  APPLE CANADA INC                    8450361239   \n",
       "4       11828          98  TREASURE MILLS INC.                 3300401778   \n",
       "\n",
       "     DC Original Delivery Date Actual Delivery Date    Gate Time  Ordercases  \\\n",
       "0  6002               8/6/2018             7/9/2018   8:56:04 AM        1719   \n",
       "1  6063               8/6/2018            7/11/2018   7:42:51 PM        1273   \n",
       "2  6093               8/6/2018            7/12/2018  10:55:39 AM         897   \n",
       "3  6063               8/9/2018            7/27/2018   7:02:56 AM         772   \n",
       "4  6098               8/5/2018            7/29/2018   1:19:54 PM         572   \n",
       "\n",
       "  Rcvd Cases  Non Compliant Qty  Compliant  %  Status  \n",
       "0          0                NaN           NaN     NaN  \n",
       "1          0                NaN           NaN     NaN  \n",
       "2          0                NaN           NaN     NaN  \n",
       "3          0                NaN           NaN     NaN  \n",
       "4          0                NaN           NaN     NaN  "
      ]
     },
     "execution_count": 99,
     "metadata": {},
     "output_type": "execute_result"
    }
   ],
   "source": [
    "Amazon2018_df = pd.read_csv('Amazon2018.csv')\n",
    "Amazon2018_df.head()"
   ]
  },
  {
   "cell_type": "code",
   "execution_count": 100,
   "id": "9a6631c7",
   "metadata": {},
   "outputs": [
    {
     "data": {
      "text/plain": [
       "(196798, 13)"
      ]
     },
     "execution_count": 100,
     "metadata": {},
     "output_type": "execute_result"
    }
   ],
   "source": [
    "Amazon2018_df.shape"
   ]
  },
  {
   "cell_type": "code",
   "execution_count": 101,
   "id": "71f3b029",
   "metadata": {},
   "outputs": [],
   "source": [
    "Amazon2018_df.columns = [s.strip().replace(' ','_') for s in Amazon2018_df.columns]"
   ]
  },
  {
   "cell_type": "code",
   "execution_count": 102,
   "id": "d1a71b14",
   "metadata": {},
   "outputs": [
    {
     "data": {
      "text/html": [
       "<div>\n",
       "<style scoped>\n",
       "    .dataframe tbody tr th:only-of-type {\n",
       "        vertical-align: middle;\n",
       "    }\n",
       "\n",
       "    .dataframe tbody tr th {\n",
       "        vertical-align: top;\n",
       "    }\n",
       "\n",
       "    .dataframe thead th {\n",
       "        text-align: right;\n",
       "    }\n",
       "</style>\n",
       "<table border=\"1\" class=\"dataframe\">\n",
       "  <thead>\n",
       "    <tr style=\"text-align: right;\">\n",
       "      <th></th>\n",
       "      <th>AMZN_YR_WK</th>\n",
       "      <th>Department</th>\n",
       "      <th>VendorName</th>\n",
       "      <th>Purchase_Order</th>\n",
       "      <th>DC</th>\n",
       "      <th>Original_Delivery_Date</th>\n",
       "      <th>Actual_Delivery_Date</th>\n",
       "      <th>Gate_Time</th>\n",
       "      <th>Ordercases</th>\n",
       "      <th>Rcvd_Cases</th>\n",
       "      <th>Non_Compliant_Qty</th>\n",
       "      <th>Compliant__%</th>\n",
       "      <th>Status</th>\n",
       "    </tr>\n",
       "  </thead>\n",
       "  <tbody>\n",
       "    <tr>\n",
       "      <th>0</th>\n",
       "      <td>11828</td>\n",
       "      <td>85</td>\n",
       "      <td>KODAK ALARIS OPERATIONS CANADA</td>\n",
       "      <td>6250080999</td>\n",
       "      <td>6002</td>\n",
       "      <td>8/6/2018</td>\n",
       "      <td>7/9/2018</td>\n",
       "      <td>8:56:04 AM</td>\n",
       "      <td>1719</td>\n",
       "      <td>0</td>\n",
       "      <td>NaN</td>\n",
       "      <td>NaN</td>\n",
       "      <td>NaN</td>\n",
       "    </tr>\n",
       "    <tr>\n",
       "      <th>1</th>\n",
       "      <td>11828</td>\n",
       "      <td>85</td>\n",
       "      <td>KODAK ALARIS OPERATIONS CANADA</td>\n",
       "      <td>6350090995</td>\n",
       "      <td>6063</td>\n",
       "      <td>8/6/2018</td>\n",
       "      <td>7/11/2018</td>\n",
       "      <td>7:42:51 PM</td>\n",
       "      <td>1273</td>\n",
       "      <td>0</td>\n",
       "      <td>NaN</td>\n",
       "      <td>NaN</td>\n",
       "      <td>NaN</td>\n",
       "    </tr>\n",
       "    <tr>\n",
       "      <th>2</th>\n",
       "      <td>11828</td>\n",
       "      <td>85</td>\n",
       "      <td>KODAK ALARIS OPERATIONS CANADA</td>\n",
       "      <td>6450090985</td>\n",
       "      <td>6093</td>\n",
       "      <td>8/6/2018</td>\n",
       "      <td>7/12/2018</td>\n",
       "      <td>10:55:39 AM</td>\n",
       "      <td>897</td>\n",
       "      <td>0</td>\n",
       "      <td>NaN</td>\n",
       "      <td>NaN</td>\n",
       "      <td>NaN</td>\n",
       "    </tr>\n",
       "    <tr>\n",
       "      <th>3</th>\n",
       "      <td>11828</td>\n",
       "      <td>72</td>\n",
       "      <td>APPLE CANADA INC</td>\n",
       "      <td>8450361239</td>\n",
       "      <td>6063</td>\n",
       "      <td>8/9/2018</td>\n",
       "      <td>7/27/2018</td>\n",
       "      <td>7:02:56 AM</td>\n",
       "      <td>772</td>\n",
       "      <td>0</td>\n",
       "      <td>NaN</td>\n",
       "      <td>NaN</td>\n",
       "      <td>NaN</td>\n",
       "    </tr>\n",
       "    <tr>\n",
       "      <th>4</th>\n",
       "      <td>11828</td>\n",
       "      <td>98</td>\n",
       "      <td>TREASURE MILLS INC.</td>\n",
       "      <td>3300401778</td>\n",
       "      <td>6098</td>\n",
       "      <td>8/5/2018</td>\n",
       "      <td>7/29/2018</td>\n",
       "      <td>1:19:54 PM</td>\n",
       "      <td>572</td>\n",
       "      <td>0</td>\n",
       "      <td>NaN</td>\n",
       "      <td>NaN</td>\n",
       "      <td>NaN</td>\n",
       "    </tr>\n",
       "    <tr>\n",
       "      <th>...</th>\n",
       "      <td>...</td>\n",
       "      <td>...</td>\n",
       "      <td>...</td>\n",
       "      <td>...</td>\n",
       "      <td>...</td>\n",
       "      <td>...</td>\n",
       "      <td>...</td>\n",
       "      <td>...</td>\n",
       "      <td>...</td>\n",
       "      <td>...</td>\n",
       "      <td>...</td>\n",
       "      <td>...</td>\n",
       "      <td>...</td>\n",
       "    </tr>\n",
       "    <tr>\n",
       "      <th>196793</th>\n",
       "      <td>11849</td>\n",
       "      <td>72</td>\n",
       "      <td>LEXAR INTERNATIONAL</td>\n",
       "      <td>8100365713</td>\n",
       "      <td>6063</td>\n",
       "      <td>12/31/2018</td>\n",
       "      <td>2/4/2019</td>\n",
       "      <td>9:44:00 AM</td>\n",
       "      <td>128</td>\n",
       "      <td>0</td>\n",
       "      <td>NaN</td>\n",
       "      <td>NaN</td>\n",
       "      <td>NaN</td>\n",
       "    </tr>\n",
       "    <tr>\n",
       "      <th>196794</th>\n",
       "      <td>11849</td>\n",
       "      <td>72</td>\n",
       "      <td>LEXAR INTERNATIONAL</td>\n",
       "      <td>8250365644</td>\n",
       "      <td>6093</td>\n",
       "      <td>12/29/2018</td>\n",
       "      <td>2/6/2019</td>\n",
       "      <td>4:55:58 AM</td>\n",
       "      <td>148</td>\n",
       "      <td>0</td>\n",
       "      <td>NaN</td>\n",
       "      <td>NaN</td>\n",
       "      <td>NaN</td>\n",
       "    </tr>\n",
       "    <tr>\n",
       "      <th>196795</th>\n",
       "      <td>11849</td>\n",
       "      <td>6</td>\n",
       "      <td>LEXAR INTERNATIONAL</td>\n",
       "      <td>650371602</td>\n",
       "      <td>6093</td>\n",
       "      <td>12/29/2018</td>\n",
       "      <td>2/6/2019</td>\n",
       "      <td>4:55:58 AM</td>\n",
       "      <td>211</td>\n",
       "      <td>0</td>\n",
       "      <td>NaN</td>\n",
       "      <td>NaN</td>\n",
       "      <td>NaN</td>\n",
       "    </tr>\n",
       "    <tr>\n",
       "      <th>196796</th>\n",
       "      <td>11849</td>\n",
       "      <td>16</td>\n",
       "      <td>JAY TRENDS MERCHANDISING INC.</td>\n",
       "      <td>450431790</td>\n",
       "      <td>6093</td>\n",
       "      <td>12/29/2018</td>\n",
       "      <td>2/13/2019</td>\n",
       "      <td>9:46:12 PM</td>\n",
       "      <td>34</td>\n",
       "      <td>0</td>\n",
       "      <td>NaN</td>\n",
       "      <td>NaN</td>\n",
       "      <td>NaN</td>\n",
       "    </tr>\n",
       "    <tr>\n",
       "      <th>196797</th>\n",
       "      <td>11849</td>\n",
       "      <td>16</td>\n",
       "      <td>JAY TRENDS MERCHANDISING INC.</td>\n",
       "      <td>500432074</td>\n",
       "      <td>6002</td>\n",
       "      <td>12/31/2018</td>\n",
       "      <td>2/15/2019</td>\n",
       "      <td>9:39:59 AM</td>\n",
       "      <td>52</td>\n",
       "      <td>0</td>\n",
       "      <td>NaN</td>\n",
       "      <td>NaN</td>\n",
       "      <td>NaN</td>\n",
       "    </tr>\n",
       "  </tbody>\n",
       "</table>\n",
       "<p>196798 rows × 13 columns</p>\n",
       "</div>"
      ],
      "text/plain": [
       "        AMZN_YR_WK  Department                      VendorName  \\\n",
       "0            11828          85  KODAK ALARIS OPERATIONS CANADA   \n",
       "1            11828          85  KODAK ALARIS OPERATIONS CANADA   \n",
       "2            11828          85  KODAK ALARIS OPERATIONS CANADA   \n",
       "3            11828          72  APPLE CANADA INC                 \n",
       "4            11828          98  TREASURE MILLS INC.              \n",
       "...            ...         ...                             ...   \n",
       "196793       11849          72  LEXAR INTERNATIONAL              \n",
       "196794       11849          72  LEXAR INTERNATIONAL              \n",
       "196795       11849           6  LEXAR INTERNATIONAL              \n",
       "196796       11849          16  JAY TRENDS MERCHANDISING INC.    \n",
       "196797       11849          16  JAY TRENDS MERCHANDISING INC.    \n",
       "\n",
       "        Purchase_Order    DC Original_Delivery_Date Actual_Delivery_Date  \\\n",
       "0           6250080999  6002               8/6/2018             7/9/2018   \n",
       "1           6350090995  6063               8/6/2018            7/11/2018   \n",
       "2           6450090985  6093               8/6/2018            7/12/2018   \n",
       "3           8450361239  6063               8/9/2018            7/27/2018   \n",
       "4           3300401778  6098               8/5/2018            7/29/2018   \n",
       "...                ...   ...                    ...                  ...   \n",
       "196793      8100365713  6063             12/31/2018             2/4/2019   \n",
       "196794      8250365644  6093             12/29/2018             2/6/2019   \n",
       "196795       650371602  6093             12/29/2018             2/6/2019   \n",
       "196796       450431790  6093             12/29/2018            2/13/2019   \n",
       "196797       500432074  6002             12/31/2018            2/15/2019   \n",
       "\n",
       "          Gate_Time  Ordercases Rcvd_Cases  Non_Compliant_Qty  Compliant__%  \\\n",
       "0        8:56:04 AM        1719          0                NaN           NaN   \n",
       "1        7:42:51 PM        1273          0                NaN           NaN   \n",
       "2       10:55:39 AM         897          0                NaN           NaN   \n",
       "3        7:02:56 AM         772          0                NaN           NaN   \n",
       "4        1:19:54 PM         572          0                NaN           NaN   \n",
       "...             ...         ...        ...                ...           ...   \n",
       "196793   9:44:00 AM         128          0                NaN           NaN   \n",
       "196794   4:55:58 AM         148          0                NaN           NaN   \n",
       "196795   4:55:58 AM         211          0                NaN           NaN   \n",
       "196796   9:46:12 PM          34          0                NaN           NaN   \n",
       "196797   9:39:59 AM          52          0                NaN           NaN   \n",
       "\n",
       "        Status  \n",
       "0          NaN  \n",
       "1          NaN  \n",
       "2          NaN  \n",
       "3          NaN  \n",
       "4          NaN  \n",
       "...        ...  \n",
       "196793     NaN  \n",
       "196794     NaN  \n",
       "196795     NaN  \n",
       "196796     NaN  \n",
       "196797     NaN  \n",
       "\n",
       "[196798 rows x 13 columns]"
      ]
     },
     "execution_count": 102,
     "metadata": {},
     "output_type": "execute_result"
    }
   ],
   "source": [
    "Amazon2018_df"
   ]
  },
  {
   "cell_type": "code",
   "execution_count": 103,
   "id": "f6821044",
   "metadata": {},
   "outputs": [],
   "source": [
    "Amazon2018_df[\"Status\"] = np.where(Amazon2018_df[\"Ordercases\"] == Amazon2018_df[\"Rcvd_Cases\"], 1, 0)"
   ]
  },
  {
   "cell_type": "code",
   "execution_count": 89,
   "id": "bf87a54b",
   "metadata": {},
   "outputs": [
    {
     "data": {
      "text/html": [
       "<div>\n",
       "<style scoped>\n",
       "    .dataframe tbody tr th:only-of-type {\n",
       "        vertical-align: middle;\n",
       "    }\n",
       "\n",
       "    .dataframe tbody tr th {\n",
       "        vertical-align: top;\n",
       "    }\n",
       "\n",
       "    .dataframe thead th {\n",
       "        text-align: right;\n",
       "    }\n",
       "</style>\n",
       "<table border=\"1\" class=\"dataframe\">\n",
       "  <thead>\n",
       "    <tr style=\"text-align: right;\">\n",
       "      <th></th>\n",
       "      <th>AMZN_YR_WK</th>\n",
       "      <th>Department</th>\n",
       "      <th>VendorName</th>\n",
       "      <th>Purchase_Order</th>\n",
       "      <th>DC</th>\n",
       "      <th>Original_Delivery_Date</th>\n",
       "      <th>Actual_Delivery_Date</th>\n",
       "      <th>Gate_Time</th>\n",
       "      <th>Ordercases</th>\n",
       "      <th>Rcvd_Cases</th>\n",
       "      <th>Non_Compliant_Qty</th>\n",
       "      <th>Compliant__%</th>\n",
       "      <th>Status</th>\n",
       "    </tr>\n",
       "  </thead>\n",
       "  <tbody>\n",
       "    <tr>\n",
       "      <th>0</th>\n",
       "      <td>11828</td>\n",
       "      <td>85</td>\n",
       "      <td>KODAK ALARIS OPERATIONS CANADA</td>\n",
       "      <td>6250080999</td>\n",
       "      <td>6002</td>\n",
       "      <td>8/6/2018</td>\n",
       "      <td>7/9/2018</td>\n",
       "      <td>8:56:04 AM</td>\n",
       "      <td>1719</td>\n",
       "      <td>0</td>\n",
       "      <td>NaN</td>\n",
       "      <td>NaN</td>\n",
       "      <td>0</td>\n",
       "    </tr>\n",
       "    <tr>\n",
       "      <th>1</th>\n",
       "      <td>11828</td>\n",
       "      <td>85</td>\n",
       "      <td>KODAK ALARIS OPERATIONS CANADA</td>\n",
       "      <td>6350090995</td>\n",
       "      <td>6063</td>\n",
       "      <td>8/6/2018</td>\n",
       "      <td>7/11/2018</td>\n",
       "      <td>7:42:51 PM</td>\n",
       "      <td>1273</td>\n",
       "      <td>0</td>\n",
       "      <td>NaN</td>\n",
       "      <td>NaN</td>\n",
       "      <td>0</td>\n",
       "    </tr>\n",
       "    <tr>\n",
       "      <th>2</th>\n",
       "      <td>11828</td>\n",
       "      <td>85</td>\n",
       "      <td>KODAK ALARIS OPERATIONS CANADA</td>\n",
       "      <td>6450090985</td>\n",
       "      <td>6093</td>\n",
       "      <td>8/6/2018</td>\n",
       "      <td>7/12/2018</td>\n",
       "      <td>10:55:39 AM</td>\n",
       "      <td>897</td>\n",
       "      <td>0</td>\n",
       "      <td>NaN</td>\n",
       "      <td>NaN</td>\n",
       "      <td>0</td>\n",
       "    </tr>\n",
       "    <tr>\n",
       "      <th>3</th>\n",
       "      <td>11828</td>\n",
       "      <td>72</td>\n",
       "      <td>APPLE CANADA INC</td>\n",
       "      <td>8450361239</td>\n",
       "      <td>6063</td>\n",
       "      <td>8/9/2018</td>\n",
       "      <td>7/27/2018</td>\n",
       "      <td>7:02:56 AM</td>\n",
       "      <td>772</td>\n",
       "      <td>0</td>\n",
       "      <td>NaN</td>\n",
       "      <td>NaN</td>\n",
       "      <td>0</td>\n",
       "    </tr>\n",
       "    <tr>\n",
       "      <th>4</th>\n",
       "      <td>11828</td>\n",
       "      <td>98</td>\n",
       "      <td>TREASURE MILLS INC.</td>\n",
       "      <td>3300401778</td>\n",
       "      <td>6098</td>\n",
       "      <td>8/5/2018</td>\n",
       "      <td>7/29/2018</td>\n",
       "      <td>1:19:54 PM</td>\n",
       "      <td>572</td>\n",
       "      <td>0</td>\n",
       "      <td>NaN</td>\n",
       "      <td>NaN</td>\n",
       "      <td>0</td>\n",
       "    </tr>\n",
       "    <tr>\n",
       "      <th>...</th>\n",
       "      <td>...</td>\n",
       "      <td>...</td>\n",
       "      <td>...</td>\n",
       "      <td>...</td>\n",
       "      <td>...</td>\n",
       "      <td>...</td>\n",
       "      <td>...</td>\n",
       "      <td>...</td>\n",
       "      <td>...</td>\n",
       "      <td>...</td>\n",
       "      <td>...</td>\n",
       "      <td>...</td>\n",
       "      <td>...</td>\n",
       "    </tr>\n",
       "    <tr>\n",
       "      <th>196793</th>\n",
       "      <td>11849</td>\n",
       "      <td>72</td>\n",
       "      <td>LEXAR INTERNATIONAL</td>\n",
       "      <td>8100365713</td>\n",
       "      <td>6063</td>\n",
       "      <td>12/31/2018</td>\n",
       "      <td>2/4/2019</td>\n",
       "      <td>9:44:00 AM</td>\n",
       "      <td>128</td>\n",
       "      <td>0</td>\n",
       "      <td>NaN</td>\n",
       "      <td>NaN</td>\n",
       "      <td>0</td>\n",
       "    </tr>\n",
       "    <tr>\n",
       "      <th>196794</th>\n",
       "      <td>11849</td>\n",
       "      <td>72</td>\n",
       "      <td>LEXAR INTERNATIONAL</td>\n",
       "      <td>8250365644</td>\n",
       "      <td>6093</td>\n",
       "      <td>12/29/2018</td>\n",
       "      <td>2/6/2019</td>\n",
       "      <td>4:55:58 AM</td>\n",
       "      <td>148</td>\n",
       "      <td>0</td>\n",
       "      <td>NaN</td>\n",
       "      <td>NaN</td>\n",
       "      <td>0</td>\n",
       "    </tr>\n",
       "    <tr>\n",
       "      <th>196795</th>\n",
       "      <td>11849</td>\n",
       "      <td>6</td>\n",
       "      <td>LEXAR INTERNATIONAL</td>\n",
       "      <td>650371602</td>\n",
       "      <td>6093</td>\n",
       "      <td>12/29/2018</td>\n",
       "      <td>2/6/2019</td>\n",
       "      <td>4:55:58 AM</td>\n",
       "      <td>211</td>\n",
       "      <td>0</td>\n",
       "      <td>NaN</td>\n",
       "      <td>NaN</td>\n",
       "      <td>0</td>\n",
       "    </tr>\n",
       "    <tr>\n",
       "      <th>196796</th>\n",
       "      <td>11849</td>\n",
       "      <td>16</td>\n",
       "      <td>JAY TRENDS MERCHANDISING INC.</td>\n",
       "      <td>450431790</td>\n",
       "      <td>6093</td>\n",
       "      <td>12/29/2018</td>\n",
       "      <td>2/13/2019</td>\n",
       "      <td>9:46:12 PM</td>\n",
       "      <td>34</td>\n",
       "      <td>0</td>\n",
       "      <td>NaN</td>\n",
       "      <td>NaN</td>\n",
       "      <td>0</td>\n",
       "    </tr>\n",
       "    <tr>\n",
       "      <th>196797</th>\n",
       "      <td>11849</td>\n",
       "      <td>16</td>\n",
       "      <td>JAY TRENDS MERCHANDISING INC.</td>\n",
       "      <td>500432074</td>\n",
       "      <td>6002</td>\n",
       "      <td>12/31/2018</td>\n",
       "      <td>2/15/2019</td>\n",
       "      <td>9:39:59 AM</td>\n",
       "      <td>52</td>\n",
       "      <td>0</td>\n",
       "      <td>NaN</td>\n",
       "      <td>NaN</td>\n",
       "      <td>0</td>\n",
       "    </tr>\n",
       "  </tbody>\n",
       "</table>\n",
       "<p>196798 rows × 13 columns</p>\n",
       "</div>"
      ],
      "text/plain": [
       "        AMZN_YR_WK  Department                      VendorName  \\\n",
       "0            11828          85  KODAK ALARIS OPERATIONS CANADA   \n",
       "1            11828          85  KODAK ALARIS OPERATIONS CANADA   \n",
       "2            11828          85  KODAK ALARIS OPERATIONS CANADA   \n",
       "3            11828          72  APPLE CANADA INC                 \n",
       "4            11828          98  TREASURE MILLS INC.              \n",
       "...            ...         ...                             ...   \n",
       "196793       11849          72  LEXAR INTERNATIONAL              \n",
       "196794       11849          72  LEXAR INTERNATIONAL              \n",
       "196795       11849           6  LEXAR INTERNATIONAL              \n",
       "196796       11849          16  JAY TRENDS MERCHANDISING INC.    \n",
       "196797       11849          16  JAY TRENDS MERCHANDISING INC.    \n",
       "\n",
       "        Purchase_Order    DC Original_Delivery_Date Actual_Delivery_Date  \\\n",
       "0           6250080999  6002               8/6/2018             7/9/2018   \n",
       "1           6350090995  6063               8/6/2018            7/11/2018   \n",
       "2           6450090985  6093               8/6/2018            7/12/2018   \n",
       "3           8450361239  6063               8/9/2018            7/27/2018   \n",
       "4           3300401778  6098               8/5/2018            7/29/2018   \n",
       "...                ...   ...                    ...                  ...   \n",
       "196793      8100365713  6063             12/31/2018             2/4/2019   \n",
       "196794      8250365644  6093             12/29/2018             2/6/2019   \n",
       "196795       650371602  6093             12/29/2018             2/6/2019   \n",
       "196796       450431790  6093             12/29/2018            2/13/2019   \n",
       "196797       500432074  6002             12/31/2018            2/15/2019   \n",
       "\n",
       "          Gate_Time  Ordercases Rcvd_Cases  Non_Compliant_Qty  Compliant__%  \\\n",
       "0        8:56:04 AM        1719          0                NaN           NaN   \n",
       "1        7:42:51 PM        1273          0                NaN           NaN   \n",
       "2       10:55:39 AM         897          0                NaN           NaN   \n",
       "3        7:02:56 AM         772          0                NaN           NaN   \n",
       "4        1:19:54 PM         572          0                NaN           NaN   \n",
       "...             ...         ...        ...                ...           ...   \n",
       "196793   9:44:00 AM         128          0                NaN           NaN   \n",
       "196794   4:55:58 AM         148          0                NaN           NaN   \n",
       "196795   4:55:58 AM         211          0                NaN           NaN   \n",
       "196796   9:46:12 PM          34          0                NaN           NaN   \n",
       "196797   9:39:59 AM          52          0                NaN           NaN   \n",
       "\n",
       "        Status  \n",
       "0            0  \n",
       "1            0  \n",
       "2            0  \n",
       "3            0  \n",
       "4            0  \n",
       "...        ...  \n",
       "196793       0  \n",
       "196794       0  \n",
       "196795       0  \n",
       "196796       0  \n",
       "196797       0  \n",
       "\n",
       "[196798 rows x 13 columns]"
      ]
     },
     "execution_count": 89,
     "metadata": {},
     "output_type": "execute_result"
    }
   ],
   "source": [
    "Amazon2018_df"
   ]
  },
  {
   "cell_type": "code",
   "execution_count": 104,
   "id": "d2f79333",
   "metadata": {},
   "outputs": [],
   "source": [
    "predictors = ['Department', 'DC','Ordercases']\n",
    "outcome = 'Status'"
   ]
  },
  {
   "cell_type": "code",
   "execution_count": 105,
   "id": "a4cb2195",
   "metadata": {},
   "outputs": [],
   "source": [
    "X = Amazon2018_df[predictors]\n",
    "y = Amazon2018_df[outcome]\n",
    "\n",
    "train_X, valid_X, train_y, valid_y = train_test_split(X, y, test_size=0.4, random_state=0)"
   ]
  },
  {
   "cell_type": "code",
   "execution_count": 106,
   "id": "329efeed",
   "metadata": {},
   "outputs": [],
   "source": [
    "clf = MLPClassifier(hidden_layer_sizes=(10), activation='logistic', solver='lbfgs',\n",
    "random_state=1)"
   ]
  },
  {
   "cell_type": "code",
   "execution_count": 107,
   "id": "54b2b82e",
   "metadata": {},
   "outputs": [
    {
     "data": {
      "text/plain": [
       "MLPClassifier(activation='logistic', hidden_layer_sizes=10, random_state=1,\n",
       "              solver='lbfgs')"
      ]
     },
     "execution_count": 107,
     "metadata": {},
     "output_type": "execute_result"
    }
   ],
   "source": [
    "clf.fit(train_X, train_y.values)"
   ]
  },
  {
   "cell_type": "code",
   "execution_count": 108,
   "id": "53ee4ada",
   "metadata": {},
   "outputs": [
    {
     "data": {
      "text/plain": [
       "array([0, 0, 0, ..., 0, 0, 0])"
      ]
     },
     "execution_count": 108,
     "metadata": {},
     "output_type": "execute_result"
    }
   ],
   "source": [
    "clf.predict(X)\n"
   ]
  },
  {
   "cell_type": "code",
   "execution_count": 109,
   "id": "0678ca11",
   "metadata": {},
   "outputs": [
    {
     "name": "stdout",
     "output_type": "stream",
     "text": [
      "Intercepts\n",
      "[array([-0.31517711, -0.06188827,  0.3591981 ,  0.02601699,  0.15052219,\n",
      "       -0.14472145,  0.14630336,  0.26255797, -0.37788577,  0.19635934]), array([-2.09673765])]\n"
     ]
    }
   ],
   "source": [
    "#Network structure\n",
    "print('Intercepts')\n",
    "print(clf.intercepts_)\n"
   ]
  },
  {
   "cell_type": "code",
   "execution_count": 110,
   "id": "24830dfe",
   "metadata": {},
   "outputs": [
    {
     "name": "stdout",
     "output_type": "stream",
     "text": [
      "Weights\n",
      "[array([[-0.07074045,  0.17283636, -0.39214165, -0.15506273, -0.27704498,\n",
      "        -0.31979519, -0.24611718, -0.11846758, -0.08098207,  0.03790973],\n",
      "       [-0.65393464,  0.1452978 , -0.2318462 ,  0.29661905, -0.36170323,\n",
      "         0.13372541, -0.0648713 ,  0.39561255, -0.28210305,  0.57463906],\n",
      "       [ 0.07550565,  0.36733376, -0.14636178,  0.15086993,  0.30612527,\n",
      "         0.30955423, -0.32551736, -0.28380764, -0.25900574,  0.48492966]]), array([[ 0.35567273],\n",
      "       [-1.47521312],\n",
      "       [-0.18723757],\n",
      "       [-1.44015134],\n",
      "       [-0.34891837],\n",
      "       [-1.73128547],\n",
      "       [ 0.34845062],\n",
      "       [-1.71999296],\n",
      "       [-0.18098539],\n",
      "       [-0.97898303]])]\n"
     ]
    }
   ],
   "source": [
    "print('Weights')\n",
    "print(clf.coefs_)"
   ]
  },
  {
   "cell_type": "code",
   "execution_count": 111,
   "id": "b33ff4f2",
   "metadata": {},
   "outputs": [
    {
     "name": "stdout",
     "output_type": "stream",
     "text": [
      "Confusion Matrix (Accuracy 1.0000)\n",
      "\n",
      "       Prediction\n",
      "Actual      0\n",
      "     0 118078\n"
     ]
    }
   ],
   "source": [
    "classificationSummary(train_y, clf.predict(train_X))\n"
   ]
  },
  {
   "cell_type": "code",
   "execution_count": 112,
   "id": "519dd7d3",
   "metadata": {},
   "outputs": [
    {
     "name": "stdout",
     "output_type": "stream",
     "text": [
      "Confusion Matrix (Accuracy 1.0000)\n",
      "\n",
      "       Prediction\n",
      "Actual     0\n",
      "     0 78720\n"
     ]
    }
   ],
   "source": [
    "classificationSummary(valid_y, clf.predict(valid_X))"
   ]
  },
  {
   "cell_type": "code",
   "execution_count": null,
   "id": "9b9a1324",
   "metadata": {},
   "outputs": [],
   "source": []
  }
 ],
 "metadata": {
  "kernelspec": {
   "display_name": "Python 3 (ipykernel)",
   "language": "python",
   "name": "python3"
  },
  "language_info": {
   "codemirror_mode": {
    "name": "ipython",
    "version": 3
   },
   "file_extension": ".py",
   "mimetype": "text/x-python",
   "name": "python",
   "nbconvert_exporter": "python",
   "pygments_lexer": "ipython3",
   "version": "3.9.7"
  }
 },
 "nbformat": 4,
 "nbformat_minor": 5
}
